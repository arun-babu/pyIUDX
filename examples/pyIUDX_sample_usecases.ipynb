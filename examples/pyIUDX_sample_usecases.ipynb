{
  "nbformat": 4,
  "nbformat_minor": 0,
  "metadata": {
    "kernelspec": {
      "display_name": "Python 3",
      "language": "python",
      "name": "python3"
    },
    "language_info": {
      "codemirror_mode": {
        "name": "ipython",
        "version": 3
      },
      "file_extension": ".py",
      "mimetype": "text/x-python",
      "name": "python",
      "nbconvert_exporter": "python",
      "pygments_lexer": "ipython3",
      "version": "3.7.3"
    },
    "colab": {
      "name": "pyIUDX_sample_usecases.ipynb",
      "provenance": [],
      "collapsed_sections": [],
      "toc_visible": true
    }
  },
  "cells": [
    {
      "cell_type": "markdown",
      "metadata": {
        "id": "gAAGqr97cS3J",
        "colab_type": "text"
      },
      "source": [
        "# Python IUDX SDK - pyIUDX\n",
        "In this notebook we will use the pyIUDX SDK to interact with IUDX, the India Urban Data Exchange (https://www.iudx.org.in/). IUDX provides easy access to smart city resources, like air quality monitors, smart transportation systems, emergency reporting sensors (flooding), streetlighting metrics, crowd sourced data sources and so on! Along with access, IUDX also provides semantic information about the properties associated with these resources to foster a semantic and wholistic understanding of data. This facilitates richer apps to be developed and provides for intelligent and well integrated analytics.\n",
        "Visit https://pudx.catalogue.iudx.org.in to explore the dearth of resources available for your consumption.\n",
        "\n",
        "\n",
        "We encourage you to save a copy on your google drive and try these examples out.\n"
      ]
    },
    {
      "cell_type": "markdown",
      "metadata": {
        "id": "S_9dbPLhAj9U",
        "colab_type": "text"
      },
      "source": [
        "In the first part, we will query and obtain resources as per our requirements. This information is obtained by querying the catalogue server. The catalogue server provides all metadata associated with a sensor, including, sensor type, sensor location, sensor attributes, sensed quantities and their units etc.\n",
        "\n",
        "In the second part, we will obtain sensed data associated with a set of sensors and perform some simple analytics with it. This section will evoke the power of IUDX and illustrate how dynamic apps and analytics can be developed."
      ]
    },
    {
      "cell_type": "markdown",
      "metadata": {
        "id": "mcaIliPwbZQ8",
        "colab_type": "text"
      },
      "source": [
        "## Install pyIUDX SDK module"
      ]
    },
    {
      "cell_type": "code",
      "metadata": {
        "id": "0elzw3sj002X",
        "colab_type": "code",
        "colab": {}
      },
      "source": [
        "import numpy as np\n",
        "import matplotlib.pyplot as plt\n",
        "from datetime import datetime\n",
        "import matplotlib.dates\n",
        "import folium"
      ],
      "execution_count": 0,
      "outputs": []
    },
    {
      "cell_type": "code",
      "metadata": {
        "id": "00KHKWfkcVsm",
        "colab_type": "code",
        "outputId": "6c2d8972-6e63-4191-b76f-f2deae4444f7",
        "colab": {
          "base_uri": "https://localhost:8080/",
          "height": 269
        }
      },
      "source": [
        "# install the latest version of pyIUDX module from github\n",
        "pip install git+https://github.com/iudx/pyIUDX"
      ],
      "execution_count": 19,
      "outputs": [
        {
          "output_type": "stream",
          "text": [
            "Collecting git+https://github.com/iudx/pyIUDX\n",
            "  Cloning https://github.com/iudx/pyIUDX to /tmp/pip-req-build-s0ecoy95\n",
            "  Running command git clone -q https://github.com/iudx/pyIUDX /tmp/pip-req-build-s0ecoy95\n",
            "Requirement already satisfied (use --upgrade to upgrade): pyIUDX==0.0.1 from git+https://github.com/iudx/pyIUDX in /usr/local/lib/python3.6/dist-packages\n",
            "Requirement already satisfied: requests in /usr/local/lib/python3.6/dist-packages (from pyIUDX==0.0.1) (2.21.0)\n",
            "Requirement already satisfied: urllib3 in /usr/local/lib/python3.6/dist-packages (from pyIUDX==0.0.1) (1.24.3)\n",
            "Requirement already satisfied: idna<2.9,>=2.5 in /usr/local/lib/python3.6/dist-packages (from requests->pyIUDX==0.0.1) (2.8)\n",
            "Requirement already satisfied: certifi>=2017.4.17 in /usr/local/lib/python3.6/dist-packages (from requests->pyIUDX==0.0.1) (2019.9.11)\n",
            "Requirement already satisfied: chardet<3.1.0,>=3.0.2 in /usr/local/lib/python3.6/dist-packages (from requests->pyIUDX==0.0.1) (3.0.4)\n",
            "Building wheels for collected packages: pyIUDX\n",
            "  Building wheel for pyIUDX (setup.py) ... \u001b[?25l\u001b[?25hdone\n",
            "  Created wheel for pyIUDX: filename=pyIUDX-0.0.1-cp36-none-any.whl size=22343 sha256=e56a73ef0f75b26199c32406ccbe40cddf650c888aaa87f623e8af36bd68e72f\n",
            "  Stored in directory: /tmp/pip-ephem-wheel-cache-7oo04l08/wheels/9a/47/49/4628dcd08582cacb7599b922e10d77572044b4c49fe076e0e8\n",
            "Successfully built pyIUDX\n"
          ],
          "name": "stdout"
        }
      ]
    },
    {
      "cell_type": "markdown",
      "metadata": {
        "id": "JKYqlxEUbiTQ",
        "colab_type": "text"
      },
      "source": [
        "## Accessing Catalogue server\n",
        "All sensor properties are stored in the catalogue server. Querying the catalog entry for a given sensor provides us metadata and information about the sensor, particularly:\n",
        "* The sendor id (the unique id with which we query the sensor information and data)\n",
        "* Tags associated with the sensor\n",
        "* Information on the type of data provided by the sensor and their units"
      ]
    },
    {
      "cell_type": "markdown",
      "metadata": {
        "id": "C6w6KW9KnS0d",
        "colab_type": "text"
      },
      "source": [
        "### Import *cat* class from *pyIUDX.cat*\n",
        "The *cat* class provides the APIs to fetch data from the catalogue server."
      ]
    },
    {
      "cell_type": "code",
      "metadata": {
        "id": "AjSF3GXycS3N",
        "colab_type": "code",
        "colab": {}
      },
      "source": [
        "from pyIUDX.cat import cat"
      ],
      "execution_count": 0,
      "outputs": []
    },
    {
      "cell_type": "code",
      "metadata": {
        "id": "45TPv6dFcS3T",
        "colab_type": "code",
        "colab": {}
      },
      "source": [
        "# Specify the catalogue server details.\n",
        "# initialize a catalogue class\n",
        "cat = cat.Catalogue(\"https://pudx.catalogue.iudx.org.in/catalogue/v1\")"
      ],
      "execution_count": 0,
      "outputs": []
    },
    {
      "cell_type": "markdown",
      "metadata": {
        "id": "sxlSpkLmcsz0",
        "colab_type": "text"
      },
      "source": [
        "### Search for catalogue items (sensors)\n",
        "*getManyResourceItems* member of the catalogue class can be used to fetch a filtered version of catalogue items. The example below shows how to obtain items (sensors) whose tags attribute have the values \"aqi\" or \"aqm\". The metadata is returned as a list of dictionary item for each sensor."
      ]
    },
    {
      "cell_type": "code",
      "metadata": {
        "colab_type": "code",
        "id": "ohlsK6A5bPMp",
        "colab": {}
      },
      "source": [
        "attributes = {\"tags\": [\"aqi\", \"aqm\"]}\n",
        "allAQMItems = cat.getManyResourceItems(attributes)"
      ],
      "execution_count": 0,
      "outputs": []
    },
    {
      "cell_type": "code",
      "metadata": {
        "id": "VVf9T4vlcS4H",
        "colab_type": "code",
        "outputId": "dc5c373b-6025-4649-85fd-49a4cf3858a6",
        "colab": {
          "base_uri": "https://localhost:8080/",
          "height": 55
        }
      },
      "source": [
        "print(allAQMItems[0:2])"
      ],
      "execution_count": 23,
      "outputs": [
        {
          "output_type": "stream",
          "text": [
            "[{'@context': ['https://raw.githubusercontent.com/iudx/iudx-ld/master/data_models/environment/airQuality/env_aqm_climoPune_0.json'], 'onboardedBy': 'Technical consultant at rbccps.org', 'itemDescription': 'Describes Air Quality Monitoring (AQM) Resource.', 'id': 'rbccps.org/aa9d66a000d94a78895de8d4c0b3a67f3450e531/pudx-resource-server/aqm-bosch-climo/ABC Farm House Junction_4', 'deviceModelInfo': {'type': 'Property', 'value': {'url': 'http://www.boschclimo.com/', 'brand': 'Climo', 'model': 'Bosch-Climo'}}, 'refBaseSchema': {'type': 'Relationship', 'value': 'https://raw.githubusercontent.com/iudx/iudx-ld/master/base_schemas/v0.0.0/resourceItem_schema.json'}, 'itemType': {'type': 'Property', 'value': 'resourceItem'}, 'tags': {'type': 'Property', 'value': ['environment', 'air quality', 'air', 'aqi', 'aqm', 'climo', 'climate', 'pollution', 'so2', 'co2', 'co', 'no', 'no2', 'pm2.5', 'pm25', 'lux', 'pm10', 'humidity', 'temperature', 'ozone', 'o3', 'noise', 'light', 'uv']}, 'resourceServerGroup': {'type': 'Relationship', 'value': 'urn:iudx-catalogue-pune:pudx-resource-server/aqm-bosch-climo'}, 'refDataModel': {'type': 'Relationship', 'value': 'https://raw.githubusercontent.com/iudx/iudx-ld/master/data_models/environment/airQuality/env_aqm_climoPune_0.json'}, 'provider': {'type': 'Relationship', 'value': 'urn:iudx-catalogue-pune:pscdcl'}, 'location': {'type': 'GeoProperty', 'value': {'address': 'ABD area, Pune', 'geometry': {'type': 'Point', 'coordinates': [73.903987, 18.539107]}}}, 'resourceServer': {'type': 'Relationship', 'value': 'urn:iudx-catalogue-pune:pudx-resource-server'}, 'DEVICEID': {'type': 'Property', 'value': '02f7e7ee-29d6-c1c1-4d98-8f74981d9683'}, 'resourceId': {'type': 'Property', 'value': 'ABC Farm House Junction_4'}, 'updatedAt': {'type': 'TimeProperty', 'value': 'Thu Oct 31 16:35:29 UTC 2019'}, 'itemStatus': {'type': 'Property', 'value': 'active'}, 'createdAt': {'type': 'TimeProperty', 'value': 'Thu Oct 31 16:35:29 UTC 2019'}, 'NAME': {'type': 'Property', 'value': 'ABC Farm House Junction_4'}}, {'onboardedBy': 'Technical consultant at rbccps.org', 'itemDescription': 'Describes Air Quality Monitoring (AQM) Resource.', '@context': ['https://raw.githubusercontent.com/iudx/iudx-ld/master/data_models/environment/airQuality/env_aqm_climoPune_0.json'], 'id': 'rbccps.org/aa9d66a000d94a78895de8d4c0b3a67f3450e531/pudx-resource-server/aqm-bosch-climo/Ambedkar society circle_29', 'refBaseSchema': {'type': 'Relationship', 'value': 'https://raw.githubusercontent.com/iudx/iudx-ld/master/base_schemas/v0.0.0/resourceItem_schema.json'}, 'itemType': {'type': 'Property', 'value': 'resourceItem'}, 'tags': {'type': 'Property', 'value': ['environment', 'air quality', 'air', 'aqi', 'aqm', 'climo', 'climate', 'pollution', 'so2', 'co2', 'co', 'no', 'no2', 'pm2.5', 'pm25', 'lux', 'pm10', 'humidity', 'temperature', 'ozone', 'o3', 'noise', 'light', 'uv']}, 'resourceServerGroup': {'type': 'Relationship', 'value': 'urn:iudx-catalogue-pune:pudx-resource-server/aqm-bosch-climo'}, 'refDataModel': {'type': 'Relationship', 'value': 'https://raw.githubusercontent.com/iudx/iudx-ld/master/data_models/environment/airQuality/env_aqm_climoPune_0.json'}, 'updatedAt': {'type': 'TimeProperty', 'value': 'Fri Nov 01 05:29:51 UTC 2019'}, 'NAME': {'type': 'Property', 'value': 'Ambedkar society circle_29'}, 'createdAt': {'type': 'TimeProperty', 'value': 'Fri Nov 01 05:29:51 UTC 2019'}, 'resourceServer': {'type': 'Relationship', 'value': 'urn:iudx-catalogue-pune:pudx-resource-server'}, 'itemStatus': {'type': 'Property', 'value': 'active'}, 'location': {'type': 'GeoProperty', 'value': {'address': 'ABD area, Pune', 'geometry': {'type': 'Point', 'coordinates': [73.879657, 18.5529659]}}}, 'provider': {'type': 'Relationship', 'value': 'urn:iudx-catalogue-pune:pscdcl'}, 'resourceId': {'type': 'Property', 'value': 'Ambedkar society circle_29'}, 'deviceModelInfo': {'type': 'Property', 'value': {'url': 'http://www.boschclimo.com/', 'brand': 'Climo', 'model': 'Bosch-Climo'}}, 'DEVICEID': {'type': 'Property', 'value': '8cff12b2-b8be-1230-c5f6-ca96b4e4e441'}}]\n"
          ],
          "name": "stdout"
        }
      ]
    },
    {
      "cell_type": "code",
      "metadata": {
        "id": "XF_Ga4FHcS4N",
        "colab_type": "code",
        "colab": {}
      },
      "source": [
        "allAQMItemsCount = cat.getItemCount(attributes)"
      ],
      "execution_count": 0,
      "outputs": []
    },
    {
      "cell_type": "code",
      "metadata": {
        "id": "_dgz9A8ycS4T",
        "colab_type": "code",
        "outputId": "0bc17306-f20e-4f95-9247-e30289abafb5",
        "colab": {
          "base_uri": "https://localhost:8080/",
          "height": 35
        }
      },
      "source": [
        "print(allAQMItemsCount)"
      ],
      "execution_count": 25,
      "outputs": [
        {
          "output_type": "stream",
          "text": [
            "54\n"
          ],
          "name": "stdout"
        }
      ]
    },
    {
      "cell_type": "markdown",
      "metadata": {
        "id": "9b7XTpjWfypS",
        "colab_type": "text"
      },
      "source": [
        "### Filter the catalogue response\n",
        "An unfiltered call to *getManyResourceItems* will return all information associated with each sensor. Using the filters option, we can filter the information returned.\n",
        "\n",
        "In the example below, by specifying the filters = [\"id\"], only the \"id\" of the sensor is returned."
      ]
    },
    {
      "cell_type": "code",
      "metadata": {
        "id": "e8oYwsbHcS4c",
        "colab_type": "code",
        "colab": {}
      },
      "source": [
        "filters = [\"id\"]\n",
        "allAQMItemsByID = cat.getManyResourceItems(attributes, filters)"
      ],
      "execution_count": 0,
      "outputs": []
    },
    {
      "cell_type": "code",
      "metadata": {
        "id": "POUeqt1BlSUS",
        "colab_type": "code",
        "outputId": "5220e30a-9eb5-4c69-8d94-36ec0843351c",
        "colab": {
          "base_uri": "https://localhost:8080/",
          "height": 55
        }
      },
      "source": [
        "print(allAQMItemsByID[0:3])"
      ],
      "execution_count": 27,
      "outputs": [
        {
          "output_type": "stream",
          "text": [
            "[{'id': 'rbccps.org/aa9d66a000d94a78895de8d4c0b3a67f3450e531/pudx-resource-server/aqm-bosch-climo/ABC Farm House Junction_4'}, {'id': 'rbccps.org/aa9d66a000d94a78895de8d4c0b3a67f3450e531/pudx-resource-server/aqm-bosch-climo/Ambedkar society circle_29'}, {'id': 'rbccps.org/aa9d66a000d94a78895de8d4c0b3a67f3450e531/pudx-resource-server/aqm-bosch-climo/Appa_Balwant_Square_30'}]\n"
          ],
          "name": "stdout"
        }
      ]
    },
    {
      "cell_type": "markdown",
      "metadata": {
        "id": "8wKHHJVTgklb",
        "colab_type": "text"
      },
      "source": [
        "### Filter items (sensors) by geo-location\n",
        "The function *getManyResourceItems* can also be used to filter items (sensors) based on their locations. In the example below, we specify the area of interest as a circle with center specified by latitude (\"lat\") and longitude (\"lon\") and radius in meters.\n",
        "In this case, we are requesting for sensors around a 3km radius.\n",
        "We also will specify that we are specifically interested in Air Quality Monitoring Stations present in that region.\n",
        "We only require the ID's for now, which we can obtain by passing a filters option"
      ]
    },
    {
      "cell_type": "code",
      "metadata": {
        "id": "ImETKLDHSj7e",
        "colab_type": "code",
        "colab": {}
      },
      "source": [
        "geo1 = {\"circle\": {\"lat\": 18.539107, \"lon\": 73.853987, \"radius\": 3000}}\n",
        "attributes = {\"tags\": [\"aqm\"]}\n",
        "filters = [\"id\"]\n"
      ],
      "execution_count": 0,
      "outputs": []
    },
    {
      "cell_type": "markdown",
      "metadata": {
        "id": "4cfK_aCohwoA",
        "colab_type": "text"
      },
      "source": [
        "The below call returns all sensors with tags \"aqi\" or \"aqm\" and within the geographical area specified. Further, as specified by the filters argument, only the \"id\" information is returned for each of the sensors.\n"
      ]
    },
    {
      "cell_type": "code",
      "metadata": {
        "id": "u7h7KW7nSl0l",
        "colab_type": "code",
        "colab": {}
      },
      "source": [
        "allAQMItemsByID = cat.getManyResourceItems(attributes, filters, geo=geo1)"
      ],
      "execution_count": 0,
      "outputs": []
    },
    {
      "cell_type": "code",
      "metadata": {
        "id": "IzsC9_V6cS4h",
        "colab_type": "code",
        "outputId": "35e0e7f4-29de-4a59-d5f5-092c8eefe6fa",
        "colab": {
          "base_uri": "https://localhost:8080/",
          "height": 73
        }
      },
      "source": [
        "print(allAQMItemsByID)\n",
        "print(\"Number of items = \", len(allAQMItemsByID))"
      ],
      "execution_count": 30,
      "outputs": [
        {
          "output_type": "stream",
          "text": [
            "[{'id': 'rbccps.org/aa9d66a000d94a78895de8d4c0b3a67f3450e531/pudx-resource-server/aqm-bosch-climo/Goodluck Square_Cafe_23'}, {'id': 'rbccps.org/aa9d66a000d94a78895de8d4c0b3a67f3450e531/pudx-resource-server/aqm-bosch-climo/Pune_ST_Stand_40'}, {'id': 'rbccps.org/aa9d66a000d94a78895de8d4c0b3a67f3450e531/pudx-resource-server/aqm-bosch-climo/Pune Railway Station_28'}, {'id': 'rbccps.org/aa9d66a000d94a78895de8d4c0b3a67f3450e531/pudx-resource-server/aqm-bosch-climo/Pune Railway Station_29'}, {'id': 'rbccps.org/aa9d66a000d94a78895de8d4c0b3a67f3450e531/pudx-resource-server/aqm-bosch-climo/Sadhu_Wasvani_Square_24'}, {'id': 'rbccps.org/aa9d66a000d94a78895de8d4c0b3a67f3450e531/pudx-resource-server/aqm-bosch-climo/RTO Square_8'}, {'id': 'rbccps.org/aa9d66a000d94a78895de8d4c0b3a67f3450e531/pudx-resource-server/aqm-bosch-climo/Appa_Balwant_Square_30'}, {'id': 'rbccps.org/aa9d66a000d94a78895de8d4c0b3a67f3450e531/pudx-resource-server/aqm-bosch-climo/Chitale Bandhu Corner_41'}, {'id': 'rbccps.org/aa9d66a000d94a78895de8d4c0b3a67f3450e531/pudx-resource-server/aqm-bosch-climo/PMPML_Bus_Depot_Deccan_15'}, {'id': 'rbccps.org/aa9d66a000d94a78895de8d4c0b3a67f3450e531/pudx-resource-server/aqm-bosch-climo/Jhanshi Rani Square_59'}, {'id': 'rbccps.org/aa9d66a000d94a78895de8d4c0b3a67f3450e531/pudx-resource-server/aqm-bosch-climo/Shivaji Nagar ST Stand_45'}, {'id': 'rbccps.org/aa9d66a000d94a78895de8d4c0b3a67f3450e531/pudx-resource-server/aqm-bosch-climo/Shimla Office Square (Shivaji Nagar Chowk)_33'}]\n",
            "Number of items =  12\n"
          ],
          "name": "stdout"
        }
      ]
    },
    {
      "cell_type": "markdown",
      "metadata": {
        "id": "PJoUpvaLh5nl",
        "colab_type": "text"
      },
      "source": [
        "## Fetch data from sensors\n",
        "In this section we will fetch sensor data from the resource server and show off a little bit of the magic of IUDX."
      ]
    },
    {
      "cell_type": "markdown",
      "metadata": {
        "id": "Kdmr4_yBnAlx",
        "colab_type": "text"
      },
      "source": [
        "### Import *item* class from *pyIUDX.rs*\n",
        "The *item* class provides the APIs to access relevant sensor data.\n",
        "This is a high level abstraction module which encapsulates multiple functionalities of IUDX such as fetching meta information from data models and live data from  resource servers"
      ]
    },
    {
      "cell_type": "code",
      "metadata": {
        "id": "nx8JGkMymxyj",
        "colab_type": "code",
        "colab": {}
      },
      "source": [
        "# Import the item class from pyIUDX.rs\n",
        "from pyIUDX.rs import item\n"
      ],
      "execution_count": 0,
      "outputs": []
    },
    {
      "cell_type": "markdown",
      "metadata": {
        "id": "FumTVfc--V8u",
        "colab_type": "text"
      },
      "source": [
        "### Plot sensor locations"
      ]
    },
    {
      "cell_type": "markdown",
      "metadata": {
        "id": "JaI6weqN9mP9",
        "colab_type": "text"
      },
      "source": [
        "We can pass the previously obtained list of filtered Air Quality Monitoring stations to the Items class. This will load a list of resourceItem objects and provide neat access to their data."
      ]
    },
    {
      "cell_type": "code",
      "metadata": {
        "id": "daliTnbg7NQF",
        "colab_type": "code",
        "colab": {}
      },
      "source": [
        "geo1 = {\"circle\": {\"lat\": 18.539107, \"lon\": 73.853987, \"radius\": 3000}}\n",
        "attributes = {\"tags\": [\"aqm\"]}\n",
        "filters = [\"id\"]\n",
        "allAQMItemsByID = cat.getManyResourceItems(attributes, filters, geo=geo1)"
      ],
      "execution_count": 0,
      "outputs": []
    },
    {
      "cell_type": "code",
      "metadata": {
        "id": "HgZvgDIt8I3e",
        "colab_type": "code",
        "outputId": "743317a5-2f95-46a5-db03-dbaba883aa8f",
        "colab": {
          "base_uri": "https://localhost:8080/",
          "height": 1000
        }
      },
      "source": [
        "\n",
        "\n",
        "m = folium.Map(location=[18.5204,73.8567],zoom_start=12)\n",
        "aqms = item.Items(\"https://pudx.catalogue.iudx.org.in/catalogue/v1\", allAQMItemsByID)\n",
        "print(aqms[0].geoProperties)\n",
        "for sensor in aqms:\n",
        "  sensor_id = sensor.id  \n",
        "  print(\"Sensor location = \", sensor.location.coordinates)\n",
        "  folium.Marker([sensor.location.coordinates[1], sensor.location.coordinates[0] ], popup=sensor_id).add_to(m)    \n",
        "m"
      ],
      "execution_count": 33,
      "outputs": [
        {
          "output_type": "stream",
          "text": [
            "['location']\n",
            "Sensor location =  [73.8723841, 18.527615]\n",
            "Sensor location =  [73.874537, 18.528311]\n",
            "Sensor location =  [73.841424, 18.517439]\n",
            "Sensor location =  [73.874537, 18.528311]\n",
            "Sensor location =  [73.876484, 18.525007]\n",
            "Sensor location =  [73.863395, 18.529578]\n",
            "Sensor location =  [73.8525898, 18.5137013]\n",
            "Sensor location =  [73.854009, 18.516644]\n",
            "Sensor location =  [73.842727, 18.516163]\n",
            "Sensor location =  [73.84992, 18.530344]\n",
            "Sensor location =  [73.8494754, 18.5320014]\n",
            "Sensor location =  [73.8480461, 18.522622]\n"
          ],
          "name": "stdout"
        },
        {
          "output_type": "execute_result",
          "data": {
            "text/html": [
              "<div style=\"width:100%;\"><div style=\"position:relative;width:100%;height:0;padding-bottom:60%;\"><iframe src=\"data:text/html;charset=utf-8;base64,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\" style=\"position:absolute;width:100%;height:100%;left:0;top:0;border:none !important;\" allowfullscreen webkitallowfullscreen mozallowfullscreen></iframe></div></div>"
            ],
            "text/plain": [
              "<folium.folium.Map at 0x7f8d84b53b00>"
            ]
          },
          "metadata": {
            "tags": []
          },
          "execution_count": 33
        }
      ]
    },
    {
      "cell_type": "markdown",
      "metadata": {
        "id": "ss-wVF_OoXSd",
        "colab_type": "text"
      },
      "source": [
        "### Fetch Quantitative Properties \n",
        "We will iterate across the list of sensors and obtain *PM10_MAX* values and its meta-information. Further, we will also obtain data for a specified duration."
      ]
    },
    {
      "cell_type": "markdown",
      "metadata": {
        "id": "puNH6LKyEg6l",
        "colab_type": "text"
      },
      "source": [
        "Let's use one of the items form the list of sensors we just created"
      ]
    },
    {
      "cell_type": "code",
      "metadata": {
        "id": "txGDMvwiEt2J",
        "colab_type": "code",
        "outputId": "d957a285-b7e6-48f9-b54e-9310c1a91c76",
        "colab": {
          "base_uri": "https://localhost:8080/",
          "height": 35
        }
      },
      "source": [
        "print(aqms[0].id)"
      ],
      "execution_count": 34,
      "outputs": [
        {
          "output_type": "stream",
          "text": [
            "rbccps.org/aa9d66a000d94a78895de8d4c0b3a67f3450e531/pudx-resource-server/aqm-bosch-climo/Pune_ST_Stand_40\n"
          ],
          "name": "stdout"
        }
      ]
    },
    {
      "cell_type": "markdown",
      "metadata": {
        "id": "yiFMxp9Z_QIk",
        "colab_type": "text"
      },
      "source": [
        "We can find out all the QuantitativeProperties (measured properties) of an aqm item by calling the Object.quantitativeProperties property.\n",
        "Since our previous filter filtered out all AQM sensors, we can assume that the quantitative properties for sensor aqms[0] is the same for the rest."
      ]
    },
    {
      "cell_type": "code",
      "metadata": {
        "id": "EYhBOkTe_aCd",
        "colab_type": "code",
        "outputId": "0f1b7209-f5ac-4b7d-e0a8-b6c4ee0d570a",
        "colab": {
          "base_uri": "https://localhost:8080/",
          "height": 55
        }
      },
      "source": [
        "print(aqms[0].quantitativeProperties)"
      ],
      "execution_count": 35,
      "outputs": [
        {
          "output_type": "stream",
          "text": [
            "['AIR_PRESSURE', 'AQI', 'CO2_MAX', 'CO2_MIN', 'CO_MAX', 'CO_MIN', 'HUMIDITY', 'LIGHT', 'NO2_MAX', 'NO2_MIN', 'NO_MAX', 'NO_MIN', 'OZONE_MAX', 'OZONE_MIN', 'PM10_MAX', 'PM10_MIN', 'PM2_MAX', 'PM2_MIN', 'SO2_MAX', 'SO2_MIN', 'TEMPRATURE_MAX', 'UV_MAX', 'UV_MIN']\n"
          ],
          "name": "stdout"
        }
      ]
    },
    {
      "cell_type": "markdown",
      "metadata": {
        "id": "aEFArN2yDJFl",
        "colab_type": "text"
      },
      "source": [
        "A quantitativeProperty also has further meta information related to that property, such as a detailed description, units, etc.\n",
        "We can get a list of such attributes for a quantitativeProperty, and access them directly.\n",
        "For e.g, for PM10_MAX.\n"
      ]
    },
    {
      "cell_type": "code",
      "metadata": {
        "id": "M0zQOJtqDTFa",
        "colab_type": "code",
        "outputId": "0230becd-1fe8-422e-8339-68fe9921b567",
        "colab": {
          "base_uri": "https://localhost:8080/",
          "height": 89
        }
      },
      "source": [
        "print(aqms[0].CO2_MAX.attributes)\n",
        "print(\"Name of the property is \" + aqms[0].CO2_MAX.symbol)\n",
        "print(\"Units of the property are \" + aqms[0].CO2_MAX.symbol)\n",
        "print(\"The property tells us the \" + aqms[0].CO2_MAX.describes)"
      ],
      "execution_count": 36,
      "outputs": [
        {
          "output_type": "stream",
          "text": [
            "{'name': 'CO2_MAX', 'describes': 'Maximum value of CO2 for the last 24 hours', 'symbol': 'ppm', 'unitCode': 'X59', 'unitText': 'part per million (ppm)'}\n",
            "Name of the property is ppm\n",
            "Units of the property are ppm\n",
            "The property tells us the Maximum value of CO2 for the last 24 hours\n"
          ],
          "name": "stdout"
        }
      ]
    },
    {
      "cell_type": "markdown",
      "metadata": {
        "id": "vDaXH_FACbQp",
        "colab_type": "text"
      },
      "source": [
        "We need to call the object's latest() method to get the latest data .\n",
        "Calling aqms.latest() will update the latest values of all these properties and for **all the previously filtered sensors**."
      ]
    },
    {
      "cell_type": "code",
      "metadata": {
        "id": "KkvIFyyCCODJ",
        "colab_type": "code",
        "outputId": "a5241329-e156-41c5-a72f-1b816e895ba9",
        "colab": {
          "base_uri": "https://localhost:8080/",
          "height": 55
        }
      },
      "source": [
        "aqms.latest()"
      ],
      "execution_count": 37,
      "outputs": [
        {
          "output_type": "execute_result",
          "data": {
            "text/plain": [
              "<Items [<pyIUDX.rs.item.Item object at 0x7f8d84bb1630>, <pyIUDX.rs.item.Item object at 0x7f8d82fb8eb8>, <pyIUDX.rs.item.Item object at 0x7f8d82fad1d0>, <pyIUDX.rs.item.Item object at 0x7f8d84bd8320>, <pyIUDX.rs.item.Item object at 0x7f8d82f5d630>, <pyIUDX.rs.item.Item object at 0x7f8d82fc62e8>, <pyIUDX.rs.item.Item object at 0x7f8d82f63f60>, <pyIUDX.rs.item.Item object at 0x7f8d8548d588>, <pyIUDX.rs.item.Item object at 0x7f8d82f75e80>, <pyIUDX.rs.item.Item object at 0x7f8d82f63f28>, <pyIUDX.rs.item.Item object at 0x7f8d82f792b0>, <pyIUDX.rs.item.Item object at 0x7f8d82f75ef0>]>"
            ]
          },
          "metadata": {
            "tags": []
          },
          "execution_count": 37
        }
      ]
    },
    {
      "cell_type": "markdown",
      "metadata": {
        "id": "8txb32gDB0dd",
        "colab_type": "text"
      },
      "source": [
        "We can now call aqms[0].\"quantitativeProperty\".value to obtain a numpy array with the first column as datetime and second column as that property's value.\n",
        "A quantitativeProperty always has a .value attribute.\n"
      ]
    },
    {
      "cell_type": "code",
      "metadata": {
        "id": "L_n6brl7CyTs",
        "colab_type": "code",
        "outputId": "ebdd8f7d-59e2-4f3b-91fc-d36cacb375e9",
        "colab": {
          "base_uri": "https://localhost:8080/",
          "height": 53
        }
      },
      "source": [
        "aqms[0].CO2_MAX.value"
      ],
      "execution_count": 38,
      "outputs": [
        {
          "output_type": "execute_result",
          "data": {
            "text/plain": [
              "array([[datetime.datetime(2019, 11, 7, 15, 15, 52, 740000), 15.0]],\n",
              "      dtype=object)"
            ]
          },
          "metadata": {
            "tags": []
          },
          "execution_count": 38
        }
      ]
    },
    {
      "cell_type": "markdown",
      "metadata": {
        "id": "7AdboZMpFc0E",
        "colab_type": "text"
      },
      "source": [
        "Calling latest() once is enough. We can access other quantitativeProperties as well."
      ]
    },
    {
      "cell_type": "code",
      "metadata": {
        "id": "R-cFdJl6HfAR",
        "colab_type": "code",
        "outputId": "a12a2826-46e9-4101-c73c-7ca3418aecaa",
        "colab": {
          "base_uri": "https://localhost:8080/",
          "height": 53
        }
      },
      "source": [
        "aqms[0].SO2_MAX.value"
      ],
      "execution_count": 39,
      "outputs": [
        {
          "output_type": "execute_result",
          "data": {
            "text/plain": [
              "array([[datetime.datetime(2019, 11, 7, 15, 15, 52, 740000), 6.0]],\n",
              "      dtype=object)"
            ]
          },
          "metadata": {
            "tags": []
          },
          "execution_count": 39
        }
      ]
    },
    {
      "cell_type": "markdown",
      "metadata": {
        "id": "FSOJlcAiFtax",
        "colab_type": "text"
      },
      "source": [
        "Supposing there is a need to find the trend of a particular property over a period of time. We can use Items object's during() functionality to show a time series view of that quantitativeProperty. We need to specify the start and end time in utc format. Let's get the data during 25th October 2019 and 2nd November 2019."
      ]
    },
    {
      "cell_type": "code",
      "metadata": {
        "id": "8pFx0KOXFrDT",
        "colab_type": "code",
        "outputId": "c67dfb48-69e2-40fd-970f-0a2a139bbd3e",
        "colab": {
          "base_uri": "https://localhost:8080/",
          "height": 718
        }
      },
      "source": [
        "aqms.during(\"2019-10-26T00:00:00.000+05:30\", \"2019-11-02T00:00:00.000+05:30\")\n",
        "\n"
      ],
      "execution_count": 40,
      "outputs": [
        {
          "output_type": "error",
          "ename": "Warning",
          "evalue": "ignored",
          "traceback": [
            "\u001b[0;31m---------------------------------------------------------------------------\u001b[0m",
            "\u001b[0;31mRemoteTraceback\u001b[0m                           Traceback (most recent call last)",
            "\u001b[0;31mRemoteTraceback\u001b[0m: \n\"\"\"\nTraceback (most recent call last):\n  File \"/usr/lib/python3.6/multiprocessing/pool.py\", line 119, in worker\n    result = (True, func(*args, **kwds))\n  File \"/usr/lib/python3.6/multiprocessing/pool.py\", line 47, in starmapstar\n    return list(itertools.starmap(args[0], args[1]))\n  File \"/usr/local/lib/python3.6/dist-packages/pyIUDX/rs/item.py\", line 435, in getDuring\n    obj.during(startTime, endTime)\n  File \"/usr/local/lib/python3.6/dist-packages/pyIUDX/rs/item.py\", line 366, in during\n    data = self.rs.getDataDuring(self.id, start, end)\n  File \"/usr/local/lib/python3.6/dist-packages/pyIUDX/rs/rs.py\", line 116, in getDataDuring\n    return self.getData(id, opts, token)\n  File \"/usr/local/lib/python3.6/dist-packages/pyIUDX/rs/rs.py\", line 78, in getData\n    raise Warning(\"Bad request. Check query body\")\nWarning: Bad request. Check query body\n\"\"\"",
            "\nThe above exception was the direct cause of the following exception:\n",
            "\u001b[0;31mWarning\u001b[0m                                   Traceback (most recent call last)",
            "\u001b[0;32m<ipython-input-40-8c2423bcb87b>\u001b[0m in \u001b[0;36m<module>\u001b[0;34m()\u001b[0m\n\u001b[0;32m----> 1\u001b[0;31m \u001b[0maqms\u001b[0m\u001b[0;34m.\u001b[0m\u001b[0mduring\u001b[0m\u001b[0;34m(\u001b[0m\u001b[0;34m\"2019-10-26T00:00:00.000+05:30\"\u001b[0m\u001b[0;34m,\u001b[0m \u001b[0;34m\"2019-11-02T00:00:00.000+05:30\"\u001b[0m\u001b[0;34m)\u001b[0m\u001b[0;34m\u001b[0m\u001b[0;34m\u001b[0m\u001b[0m\n\u001b[0m\u001b[1;32m      2\u001b[0m \u001b[0;34m\u001b[0m\u001b[0m\n",
            "\u001b[0;32m/usr/local/lib/python3.6/dist-packages/pyIUDX/rs/item.py\u001b[0m in \u001b[0;36mduring\u001b[0;34m(self, startTime, endTime)\u001b[0m\n\u001b[1;32m    467\u001b[0m             self.list = p.starmap(self.getDuring,\n\u001b[1;32m    468\u001b[0m                                   [(self.list[i], startTime, endTime,)\n\u001b[0;32m--> 469\u001b[0;31m                                       for i in range(self.len)])\n\u001b[0m\u001b[1;32m    470\u001b[0m             \u001b[0mp\u001b[0m\u001b[0;34m.\u001b[0m\u001b[0mclose\u001b[0m\u001b[0;34m(\u001b[0m\u001b[0;34m)\u001b[0m\u001b[0;34m\u001b[0m\u001b[0;34m\u001b[0m\u001b[0m\n\u001b[1;32m    471\u001b[0m             \u001b[0mp\u001b[0m\u001b[0;34m.\u001b[0m\u001b[0mjoin\u001b[0m\u001b[0;34m(\u001b[0m\u001b[0;34m)\u001b[0m\u001b[0;34m\u001b[0m\u001b[0;34m\u001b[0m\u001b[0m\n",
            "\u001b[0;32m/usr/lib/python3.6/multiprocessing/pool.py\u001b[0m in \u001b[0;36mstarmap\u001b[0;34m(self, func, iterable, chunksize)\u001b[0m\n\u001b[1;32m    272\u001b[0m         \u001b[0;31m`\u001b[0m\u001b[0mfunc\u001b[0m\u001b[0;31m`\u001b[0m \u001b[0;32mand\u001b[0m \u001b[0;34m(\u001b[0m\u001b[0ma\u001b[0m\u001b[0;34m,\u001b[0m \u001b[0mb\u001b[0m\u001b[0;34m)\u001b[0m \u001b[0mbecomes\u001b[0m \u001b[0mfunc\u001b[0m\u001b[0;34m(\u001b[0m\u001b[0ma\u001b[0m\u001b[0;34m,\u001b[0m \u001b[0mb\u001b[0m\u001b[0;34m)\u001b[0m\u001b[0;34m.\u001b[0m\u001b[0;34m\u001b[0m\u001b[0;34m\u001b[0m\u001b[0m\n\u001b[1;32m    273\u001b[0m         '''\n\u001b[0;32m--> 274\u001b[0;31m         \u001b[0;32mreturn\u001b[0m \u001b[0mself\u001b[0m\u001b[0;34m.\u001b[0m\u001b[0m_map_async\u001b[0m\u001b[0;34m(\u001b[0m\u001b[0mfunc\u001b[0m\u001b[0;34m,\u001b[0m \u001b[0miterable\u001b[0m\u001b[0;34m,\u001b[0m \u001b[0mstarmapstar\u001b[0m\u001b[0;34m,\u001b[0m \u001b[0mchunksize\u001b[0m\u001b[0;34m)\u001b[0m\u001b[0;34m.\u001b[0m\u001b[0mget\u001b[0m\u001b[0;34m(\u001b[0m\u001b[0;34m)\u001b[0m\u001b[0;34m\u001b[0m\u001b[0;34m\u001b[0m\u001b[0m\n\u001b[0m\u001b[1;32m    275\u001b[0m \u001b[0;34m\u001b[0m\u001b[0m\n\u001b[1;32m    276\u001b[0m     def starmap_async(self, func, iterable, chunksize=None, callback=None,\n",
            "\u001b[0;32m/usr/lib/python3.6/multiprocessing/pool.py\u001b[0m in \u001b[0;36mget\u001b[0;34m(self, timeout)\u001b[0m\n\u001b[1;32m    642\u001b[0m             \u001b[0;32mreturn\u001b[0m \u001b[0mself\u001b[0m\u001b[0;34m.\u001b[0m\u001b[0m_value\u001b[0m\u001b[0;34m\u001b[0m\u001b[0;34m\u001b[0m\u001b[0m\n\u001b[1;32m    643\u001b[0m         \u001b[0;32melse\u001b[0m\u001b[0;34m:\u001b[0m\u001b[0;34m\u001b[0m\u001b[0;34m\u001b[0m\u001b[0m\n\u001b[0;32m--> 644\u001b[0;31m             \u001b[0;32mraise\u001b[0m \u001b[0mself\u001b[0m\u001b[0;34m.\u001b[0m\u001b[0m_value\u001b[0m\u001b[0;34m\u001b[0m\u001b[0;34m\u001b[0m\u001b[0m\n\u001b[0m\u001b[1;32m    645\u001b[0m \u001b[0;34m\u001b[0m\u001b[0m\n\u001b[1;32m    646\u001b[0m     \u001b[0;32mdef\u001b[0m \u001b[0m_set\u001b[0m\u001b[0;34m(\u001b[0m\u001b[0mself\u001b[0m\u001b[0;34m,\u001b[0m \u001b[0mi\u001b[0m\u001b[0;34m,\u001b[0m \u001b[0mobj\u001b[0m\u001b[0;34m)\u001b[0m\u001b[0;34m:\u001b[0m\u001b[0;34m\u001b[0m\u001b[0;34m\u001b[0m\u001b[0m\n",
            "\u001b[0;31mWarning\u001b[0m: Bad request. Check query body"
          ]
        }
      ]
    },
    {
      "cell_type": "markdown",
      "metadata": {
        "id": "iRE1RgZ5GlKL",
        "colab_type": "text"
      },
      "source": [
        "Now we can repeat what we did earlier and find the value of the quantitativeProperty **during** that period of time for **sensor 1**"
      ]
    },
    {
      "cell_type": "code",
      "metadata": {
        "id": "OUSm4e-TGuAO",
        "colab_type": "code",
        "colab": {}
      },
      "source": [
        "print(aqms[1].PM10_MAX.value[0:10,:])"
      ],
      "execution_count": 0,
      "outputs": []
    },
    {
      "cell_type": "markdown",
      "metadata": {
        "id": "afHaPPLNIbqs",
        "colab_type": "text"
      },
      "source": [
        "We can utilize all of the other meta information that's part of the object and plot it right away!"
      ]
    },
    {
      "cell_type": "code",
      "metadata": {
        "id": "cne1AirgIFTv",
        "colab_type": "code",
        "colab": {}
      },
      "source": [
        "import matplotlib.pyplot as plt\n",
        "fig = plt.figure(figsize=(15,10))\n",
        "\n",
        "fig.suptitle(aqms[1].PM10_MAX.name + \"\\n\" + aqms[1].PM10_MAX.describes, fontsize=20)\n",
        "plt.plot(aqms[1].PM10_MAX.value[:,0], aqms[1].PM10_MAX.value[:,1])\n",
        "plt.xlabel(aqms[1].timeProperty, fontsize=18)\n",
        "plt.ylabel(aqms[1].PM10_MAX.name + \" (\" + aqms[1].PM10_MAX.symbol + \")\", fontsize=16)"
      ],
      "execution_count": 0,
      "outputs": []
    },
    {
      "cell_type": "markdown",
      "metadata": {
        "id": "sj1fcj9j74Fx",
        "colab_type": "text"
      },
      "source": [
        "### IUDX Magic!\n",
        "We can repeat the above for all the selected sensors!\n",
        "Dynamically populating the x and y axis, showing the units of measurement and many more!"
      ]
    },
    {
      "cell_type": "code",
      "metadata": {
        "id": "E_rJqeCxIzTn",
        "colab_type": "code",
        "colab": {}
      },
      "source": [
        "import matplotlib.pyplot as plt\n",
        "fig = plt.figure(figsize=(15,10))\n",
        "fig.suptitle(aqms[0].PM10_MAX.name + \"\\n\" + aqms[0].PM10_MAX.describes, fontsize=20)\n",
        "plt.xlabel(aqms[0].timeProperty, fontsize=18)\n",
        "plt.ylabel(aqms[0].PM10_MAX.name + \" (\" + aqms[0].PM10_MAX.symbol + \")\", fontsize=16)\n",
        "\n",
        "for sensor in aqms:\n",
        "  plt.plot(sensor.PM10_MAX.value[:,0], sensor.PM10_MAX.value[:,1], label=sensor.id.split(\"/\")[-1])\n",
        "plt.legend()\n",
        "plt.show()"
      ],
      "execution_count": 0,
      "outputs": []
    },
    {
      "cell_type": "markdown",
      "metadata": {
        "id": "OxKcCpKnLnOi",
        "colab_type": "text"
      },
      "source": [
        "Notice how the pollution significantly peaks around deepavali (28th-30th october)!"
      ]
    },
    {
      "cell_type": "markdown",
      "metadata": {
        "id": "z2kOXIp33byJ",
        "colab_type": "text"
      },
      "source": [
        "### Geo-spatial analytics with IUDX\n",
        "Let's do something a bit more advance. \n",
        "Let's plot the geo-spatial distrubution of PM10 across the entire city of Pune."
      ]
    },
    {
      "cell_type": "markdown",
      "metadata": {
        "id": "VbAHp8zj8lqF",
        "colab_type": "text"
      },
      "source": [
        "Install a few dependencies and import a few libraries."
      ]
    },
    {
      "cell_type": "code",
      "metadata": {
        "id": "tpEIp-1vK0SG",
        "colab_type": "code",
        "colab": {}
      },
      "source": [
        "!pip install geojsoncontour\n"
      ],
      "execution_count": 0,
      "outputs": []
    },
    {
      "cell_type": "code",
      "metadata": {
        "id": "sQ-p_X4FkRGV",
        "colab_type": "code",
        "colab": {}
      },
      "source": [
        "from folium import plugins\n",
        "import geojsoncontour\n",
        "import scipy.ndimage\n",
        "import scipy as sp\n",
        "from scipy.interpolate import griddata\n",
        "\n"
      ],
      "execution_count": 0,
      "outputs": []
    },
    {
      "cell_type": "markdown",
      "metadata": {
        "id": "zps7WYqr2nN_",
        "colab_type": "text"
      },
      "source": [
        "Let's extend our analysis to a large area, about 60 kms in diameter. This covers most Pune city.\n",
        "Again, we use the catalogue to filter out sensors within a wide region and pass it to the Items class."
      ]
    },
    {
      "cell_type": "code",
      "metadata": {
        "id": "0eraU96O2rI-",
        "colab_type": "code",
        "colab": {}
      },
      "source": [
        "from pyIUDX.rs import item\n",
        "geo1 = {\"circle\": {\"lat\": 18.539107, \"lon\": 73.853987, \"radius\": 30000}}\n",
        "attributes = {\"tags\": [\"aqm\"]}\n",
        "filters = [\"id\"]\n",
        "allAQMItemsByID = cat.getManyResourceItems(attributes, filters, geo=geo1)\n",
        "print(allAQMItemsByID)\n",
        "aqms = item.Items(\"https://pudx.catalogue.iudx.org.in/catalogue/v1\", allAQMItemsByID)\n",
        "\n"
      ],
      "execution_count": 0,
      "outputs": []
    },
    {
      "cell_type": "markdown",
      "metadata": {
        "id": "jrlo7QCx3mM3",
        "colab_type": "text"
      },
      "source": [
        "Let's now get the latest data from these sensors.\n",
        "This will take about 30 seconds on the cloud"
      ]
    },
    {
      "cell_type": "code",
      "metadata": {
        "id": "f3pNIM9I37mB",
        "colab_type": "code",
        "colab": {}
      },
      "source": [
        "aqms.latest()"
      ],
      "execution_count": 0,
      "outputs": []
    },
    {
      "cell_type": "markdown",
      "metadata": {
        "id": "T018XourDXHi",
        "colab_type": "text"
      },
      "source": [
        "Make numpy arrays of all the items locations and values."
      ]
    },
    {
      "cell_type": "code",
      "metadata": {
        "id": "JN8LOyFsDQuQ",
        "colab_type": "code",
        "colab": {}
      },
      "source": [
        "# Get the latest PM_10 values for all aqms\n",
        "zs = []\n",
        "x_orig = []\n",
        "y_orig = []\n",
        "for aqm in aqms:\n",
        "  val = aqm.PM10_MAX.value[:, 1].astype(\"float\")\n",
        "  if val.size > 0:\n",
        "    zs.append(val[0])\n",
        "    x_orig.append(aqm.location.coordinates[0])\n",
        "    y_orig.append(aqm.location.coordinates[1])\n",
        "\n",
        "x_orig = np.array(x_orig)\n",
        "y_orig = np.array(y_orig)\n",
        "zs = np.array(zs)"
      ],
      "execution_count": 0,
      "outputs": []
    },
    {
      "cell_type": "markdown",
      "metadata": {
        "id": "-rJ5wRaTDfYp",
        "colab_type": "text"
      },
      "source": [
        "Initialize the map and show all sensor locations"
      ]
    },
    {
      "cell_type": "code",
      "metadata": {
        "id": "6GaHjpdMDTJY",
        "colab_type": "code",
        "colab": {}
      },
      "source": [
        "# Initialize the map\n",
        "geomap = folium.Map([y_orig.mean(), x_orig.mean()], zoom_start=13, tiles=\"cartodbpositron\")\n",
        "\n",
        "for sensor in aqms:\n",
        "  sensor_id = sensor.id  \n",
        "  folium.Marker([sensor.location.coordinates[1], sensor.location.coordinates[0] ], popup=sensor_id).add_to(geomap)  \n",
        "\n",
        "geomap  "
      ],
      "execution_count": 0,
      "outputs": []
    },
    {
      "cell_type": "markdown",
      "metadata": {
        "id": "_zpTXRDU9ERc",
        "colab_type": "text"
      },
      "source": [
        "We are now ready to perform the analytic. \n",
        "This is a rather simple example where we perform cubic geo-spatial interplation of PM10_MAX concentrations across Pune. We will see where the major pollutant hotspots are located"
      ]
    },
    {
      "cell_type": "code",
      "metadata": {
        "id": "4GR-hT60k8gm",
        "colab_type": "code",
        "colab": {}
      },
      "source": [
        "# Make lat and lon linspace\n",
        "y_arr = np.linspace(np.min(y_orig), np.max(y_orig), 100)\n",
        "x_arr = np.linspace(np.min(x_orig), np.max(x_orig), 100)\n",
        "# Make mesh grid\n",
        "x_mesh, y_mesh = np.meshgrid(x_arr, y_arr)\n",
        "\n",
        "\n",
        "# Perform cubic interpolation\n",
        "z_mesh = griddata((x_orig, y_orig), zs, (x_mesh, y_mesh), method='cubic')\n",
        "# Number of levels of colors\n",
        "levels = 20\n",
        "# Make contours of the fird value obtained in z_mesh\n",
        "contourf = plt.contourf(x_mesh, y_mesh, z_mesh, levels, alpha=0.5, cmap=\"bwr\", linestyles='None', vmin=0, vmax=100)\n",
        "\n",
        "# Convert matplotlib contourf to geojson\n",
        "geojson = geojsoncontour.contourf_to_geojson(\n",
        "    contourf=contourf,\n",
        "    min_angle_deg=3.0,\n",
        "    ndigits=5,\n",
        "    stroke_width=1,\n",
        "    fill_opacity=0.5)\n",
        "\n",
        "# Plot the contour plot on folium\n",
        "folium.GeoJson(\n",
        "    geojson,\n",
        "    style_function=lambda x: {\n",
        "        'color':     x['properties']['stroke'],\n",
        "        'weight':    x['properties']['stroke-width'],\n",
        "        'fillColor': x['properties']['fill'],\n",
        "        'opacity':   0.6,\n",
        "    }).add_to(geomap)\n",
        "\n",
        "# Show map\n",
        "geomap\n"
      ],
      "execution_count": 0,
      "outputs": []
    },
    {
      "cell_type": "markdown",
      "metadata": {
        "id": "vKzLurDO94RL",
        "colab_type": "text"
      },
      "source": [
        "# Conclusion\n",
        "\n",
        "To recap, we've shown you a simple flow of obtaining the different sensors available in a region using the Catalogue module. We've taken this information and passed it to the Items module which provides a complex abstraction over the selected items and makes data access simple. We've then gone on to plot the different quantitative properties for an air quality monitor across the city and used IUDX's magic to dynamically give us the units, locations, and information about a pollutant, PM 10. Lastly we showed how IUDX makes complex analytics simple by helping discover and handle data. "
      ]
    },
    {
      "cell_type": "markdown",
      "metadata": {
        "id": "_n04Vld4-ocy",
        "colab_type": "text"
      },
      "source": [
        "We encourage you to download this notebook and tinker around. Feedback is welcome. Visit https://github.com/iudx/pyIUDX for more advance usage and report errors/enhancement requests."
      ]
    }
  ]
}