{
  "nbformat": 4,
  "nbformat_minor": 0,
  "metadata": {
    "kernelspec": {
      "display_name": "Python 3",
      "language": "python",
      "name": "python3"
    },
    "language_info": {
      "codemirror_mode": {
        "name": "ipython",
        "version": 3
      },
      "file_extension": ".py",
      "mimetype": "text/x-python",
      "name": "python",
      "nbconvert_exporter": "python",
      "pygments_lexer": "ipython3",
      "version": "3.7.3"
    },
    "colab": {
      "name": "pyIUDX_sample_usecases.ipynb",
      "provenance": [],
      "toc_visible": true
    }
  },
  "cells": [
    {
      "cell_type": "markdown",
      "metadata": {
        "id": "gAAGqr97cS3J",
        "colab_type": "text"
      },
      "source": [
        "# Python IUDX SDK - pyIUDX\n",
        "In this notebook we will use the pyIUDX module to interact with the IUDX server to obtain information about the sensors connected to IUDX. The pyIUDX module provides APIs that simplify queries to the PUDX data exchange.\n",
        "\n",
        "In the first part, we will query and obtain the sensor metadata (properties). This information is obtained by querying the catalogue server. The catalogue server provides all metadata associated with a sensor, including, sensor type, sensor location, sensor attributes, sensed quantities and their units etc.\n",
        "\n",
        "In the second part, we will obtain sensed data associated with a set of sensors. "
      ]
    },
    {
      "cell_type": "markdown",
      "metadata": {
        "id": "_JZrRNBWaOtb",
        "colab_type": "text"
      },
      "source": [
        ""
      ]
    },
    {
      "cell_type": "markdown",
      "metadata": {
        "id": "mcaIliPwbZQ8",
        "colab_type": "text"
      },
      "source": [
        "## Install pyIUDX SDK module"
      ]
    },
    {
      "cell_type": "code",
      "metadata": {
        "id": "0elzw3sj002X",
        "colab_type": "code",
        "colab": {}
      },
      "source": [
        "import numpy as np\n",
        "import matplotlib.pyplot as plt\n",
        "from datetime import datetime\n",
        "import matplotlib.dates\n",
        "import folium"
      ],
      "execution_count": 0,
      "outputs": []
    },
    {
      "cell_type": "code",
      "metadata": {
        "id": "00KHKWfkcVsm",
        "colab_type": "code",
        "outputId": "2d4a2126-a14b-43a6-8ea2-05ac8ba13a79",
        "colab": {
          "base_uri": "https://localhost:8080/",
          "height": 341
        }
      },
      "source": [
        "# install the latest version of pyIUDX module from github\n",
        "pip install git+https://github.com/iudx/pyIUDX --upgrade"
      ],
      "execution_count": 2,
      "outputs": [
        {
          "output_type": "stream",
          "text": [
            "Collecting git+https://github.com/iudx/pyIUDX\n",
            "  Cloning https://github.com/iudx/pyIUDX to /tmp/pip-req-build-l_z2pdx_\n",
            "  Running command git clone -q https://github.com/iudx/pyIUDX /tmp/pip-req-build-l_z2pdx_\n",
            "Requirement already satisfied, skipping upgrade: requests in /usr/local/lib/python3.6/dist-packages (from pyIUDX==0.0.1) (2.21.0)\n",
            "Requirement already satisfied, skipping upgrade: urllib3 in /usr/local/lib/python3.6/dist-packages (from pyIUDX==0.0.1) (1.24.3)\n",
            "Requirement already satisfied, skipping upgrade: idna<2.9,>=2.5 in /usr/local/lib/python3.6/dist-packages (from requests->pyIUDX==0.0.1) (2.8)\n",
            "Requirement already satisfied, skipping upgrade: certifi>=2017.4.17 in /usr/local/lib/python3.6/dist-packages (from requests->pyIUDX==0.0.1) (2019.9.11)\n",
            "Requirement already satisfied, skipping upgrade: chardet<3.1.0,>=3.0.2 in /usr/local/lib/python3.6/dist-packages (from requests->pyIUDX==0.0.1) (3.0.4)\n",
            "Building wheels for collected packages: pyIUDX\n",
            "  Building wheel for pyIUDX (setup.py) ... \u001b[?25l\u001b[?25hdone\n",
            "  Created wheel for pyIUDX: filename=pyIUDX-0.0.1-cp36-none-any.whl size=21931 sha256=0cd5ab37f88c02d34cd01ebd5717e3060afe3e98272166ca3e236e311ce84ac5\n",
            "  Stored in directory: /tmp/pip-ephem-wheel-cache-4uig8qco/wheels/9a/47/49/4628dcd08582cacb7599b922e10d77572044b4c49fe076e0e8\n",
            "Successfully built pyIUDX\n",
            "Installing collected packages: pyIUDX\n",
            "  Found existing installation: pyIUDX 0.0.1\n",
            "    Uninstalling pyIUDX-0.0.1:\n",
            "      Successfully uninstalled pyIUDX-0.0.1\n",
            "Successfully installed pyIUDX-0.0.1\n"
          ],
          "name": "stdout"
        }
      ]
    },
    {
      "cell_type": "markdown",
      "metadata": {
        "id": "JKYqlxEUbiTQ",
        "colab_type": "text"
      },
      "source": [
        "## Accessing Catalogue server\n",
        "All sensor properties are stored in the catalogue server. Querying the catalog entry for a given sensor provides us metadata and information about the sensor, particularly:\n",
        "* The sendor id (the unique id with which we query the sensor information and data)\n",
        "* Tags associated with the sensor\n",
        "* Information on the type of data provided by the sensor and their units"
      ]
    },
    {
      "cell_type": "markdown",
      "metadata": {
        "id": "C6w6KW9KnS0d",
        "colab_type": "text"
      },
      "source": [
        "### Import *cat* class from *pyIUDX.cat*\n",
        "The *cat* class provides the APIs to fetch data from the catalogue server."
      ]
    },
    {
      "cell_type": "code",
      "metadata": {
        "id": "AjSF3GXycS3N",
        "colab_type": "code",
        "colab": {}
      },
      "source": [
        "from pyIUDX.cat import cat"
      ],
      "execution_count": 0,
      "outputs": []
    },
    {
      "cell_type": "code",
      "metadata": {
        "id": "45TPv6dFcS3T",
        "colab_type": "code",
        "colab": {}
      },
      "source": [
        "# Specify the catalogue server details.\n",
        "# initialize a catalogue class\n",
        "cat = cat.Catalogue(\"https://pudx.catalogue.iudx.org.in:443/catalogue/v1\")"
      ],
      "execution_count": 0,
      "outputs": []
    },
    {
      "cell_type": "code",
      "metadata": {
        "id": "6H_zMeSGcS3Z",
        "colab_type": "code",
        "outputId": "c687478b-3471-4776-a1ea-697ef7afc006",
        "colab": {
          "base_uri": "https://localhost:8080/",
          "height": 35
        }
      },
      "source": [
        "print(cat)"
      ],
      "execution_count": 5,
      "outputs": [
        {
          "output_type": "stream",
          "text": [
            "<pyIUDX.cat.cat.Catalogue object at 0x7fbd0e8df0b8>\n"
          ],
          "name": "stdout"
        }
      ]
    },
    {
      "cell_type": "markdown",
      "metadata": {
        "id": "sxlSpkLmcsz0",
        "colab_type": "text"
      },
      "source": [
        "### Search for catalogue items (sensors)\n",
        "*getManyResourceItems* member of the catalogue class can be used to fetch a filtered version of catalogue items. The example below shows how to obtain items (sensors) whose tags attribute have the values \"aqi\" or \"aqm\". The metadata is returned as a list of dictionary item for each sensor."
      ]
    },
    {
      "cell_type": "code",
      "metadata": {
        "colab_type": "code",
        "id": "ohlsK6A5bPMp",
        "colab": {}
      },
      "source": [
        "attributes = {\"tags\": [\"aqi\", \"aqm\"]}\n",
        "allAQMItems = cat.getManyResourceItems(attributes)"
      ],
      "execution_count": 0,
      "outputs": []
    },
    {
      "cell_type": "code",
      "metadata": {
        "id": "VVf9T4vlcS4H",
        "colab_type": "code",
        "outputId": "3211e6ba-b8bf-41c3-ee82-67a3880f84cf",
        "colab": {
          "base_uri": "https://localhost:8080/",
          "height": 55
        }
      },
      "source": [
        "print(allAQMItems)"
      ],
      "execution_count": 7,
      "outputs": [
        {
          "output_type": "stream",
          "text": [
            "[{'@context': ['https://raw.githubusercontent.com/iudx/iudx-ld/master/data_models/environment/airQuality/env_aqm_climoPune_0.json'], 'onboardedBy': 'Technical consultant at rbccps.org', 'itemDescription': 'Describes Air Quality Monitoring (AQM) Resource.', 'id': 'rbccps.org/aa9d66a000d94a78895de8d4c0b3a67f3450e531/pudx-resource-server/aqm-bosch-climo/ABC Farm House Junction_4', 'deviceModelInfo': {'type': 'Property', 'value': {'url': 'http://www.boschclimo.com/', 'brand': 'Climo', 'model': 'Bosch-Climo'}}, 'refBaseSchema': {'type': 'Relationship', 'value': 'https://raw.githubusercontent.com/iudx/iudx-ld/master/base_schemas/v0.0.0/resourceItem_schema.json'}, 'itemType': {'type': 'Property', 'value': 'resourceItem'}, 'tags': {'type': 'Property', 'value': ['environment', 'air quality', 'air', 'aqi', 'aqm', 'climo', 'climate', 'pollution', 'so2', 'co2', 'co', 'no', 'no2', 'pm2.5', 'pm25', 'lux', 'pm10', 'humidity', 'temperature', 'ozone', 'o3', 'noise', 'light', 'uv']}, 'resourceServerGroup': {'type': 'Relationship', 'value': 'urn:iudx-catalogue-pune:pudx-resource-server/aqm-bosch-climo'}, 'refDataModel': {'type': 'Relationship', 'value': 'https://raw.githubusercontent.com/iudx/iudx-ld/master/data_models/environment/airQuality/env_aqm_climoPune_0.json'}, 'provider': {'type': 'Relationship', 'value': 'urn:iudx-catalogue-pune:pscdcl'}, 'location': {'type': 'GeoProperty', 'value': {'address': 'ABD area, Pune', 'geometry': {'type': 'Point', 'coordinates': [73.903987, 18.539107]}}}, 'resourceServer': {'type': 'Relationship', 'value': 'urn:iudx-catalogue-pune:pudx-resource-server'}, 'DEVICEID': {'type': 'Property', 'value': '02f7e7ee-29d6-c1c1-4d98-8f74981d9683'}, 'resourceId': {'type': 'Property', 'value': 'ABC Farm House Junction_4'}, 'updatedAt': {'type': 'TimeProperty', 'value': 'Thu Oct 31 16:35:29 UTC 2019'}, 'itemStatus': {'type': 'Property', 'value': 'active'}, 'createdAt': {'type': 'TimeProperty', 'value': 'Thu Oct 31 16:35:29 UTC 2019'}, 'NAME': {'type': 'Property', 'value': 'ABC Farm House Junction_4'}}, {'onboardedBy': 'Technical consultant at rbccps.org', 'itemDescription': 'Describes Air Quality Monitoring (AQM) Resource.', '@context': ['https://raw.githubusercontent.com/iudx/iudx-ld/master/data_models/environment/airQuality/env_aqm_climoPune_0.json'], 'id': 'rbccps.org/aa9d66a000d94a78895de8d4c0b3a67f3450e531/pudx-resource-server/aqm-bosch-climo/Ambedkar society circle_29', 'refBaseSchema': {'type': 'Relationship', 'value': 'https://raw.githubusercontent.com/iudx/iudx-ld/master/base_schemas/v0.0.0/resourceItem_schema.json'}, 'itemType': {'type': 'Property', 'value': 'resourceItem'}, 'tags': {'type': 'Property', 'value': ['environment', 'air quality', 'air', 'aqi', 'aqm', 'climo', 'climate', 'pollution', 'so2', 'co2', 'co', 'no', 'no2', 'pm2.5', 'pm25', 'lux', 'pm10', 'humidity', 'temperature', 'ozone', 'o3', 'noise', 'light', 'uv']}, 'resourceServerGroup': {'type': 'Relationship', 'value': 'urn:iudx-catalogue-pune:pudx-resource-server/aqm-bosch-climo'}, 'refDataModel': {'type': 'Relationship', 'value': 'https://raw.githubusercontent.com/iudx/iudx-ld/master/data_models/environment/airQuality/env_aqm_climoPune_0.json'}, 'updatedAt': {'type': 'TimeProperty', 'value': 'Fri Nov 01 05:29:51 UTC 2019'}, 'NAME': {'type': 'Property', 'value': 'Ambedkar society circle_29'}, 'createdAt': {'type': 'TimeProperty', 'value': 'Fri Nov 01 05:29:51 UTC 2019'}, 'resourceServer': {'type': 'Relationship', 'value': 'urn:iudx-catalogue-pune:pudx-resource-server'}, 'itemStatus': {'type': 'Property', 'value': 'active'}, 'location': {'type': 'GeoProperty', 'value': {'address': 'ABD area, Pune', 'geometry': {'type': 'Point', 'coordinates': [73.879657, 18.5529659]}}}, 'provider': {'type': 'Relationship', 'value': 'urn:iudx-catalogue-pune:pscdcl'}, 'resourceId': {'type': 'Property', 'value': 'Ambedkar society circle_29'}, 'deviceModelInfo': {'type': 'Property', 'value': {'url': 'http://www.boschclimo.com/', 'brand': 'Climo', 'model': 'Bosch-Climo'}}, 'DEVICEID': {'type': 'Property', 'value': '8cff12b2-b8be-1230-c5f6-ca96b4e4e441'}}, {'onboardedBy': 'Technical consultant at rbccps.org', 'itemDescription': 'Describes Air Quality Monitoring (AQM) Resource.', '@context': ['https://raw.githubusercontent.com/iudx/iudx-ld/master/data_models/environment/airQuality/env_aqm_climoPune_0.json'], 'id': 'rbccps.org/aa9d66a000d94a78895de8d4c0b3a67f3450e531/pudx-resource-server/aqm-bosch-climo/Appa_Balwant_Square_30', 'refBaseSchema': {'type': 'Relationship', 'value': 'https://raw.githubusercontent.com/iudx/iudx-ld/master/base_schemas/v0.0.0/resourceItem_schema.json'}, 'itemType': {'type': 'Property', 'value': 'resourceItem'}, 'tags': {'type': 'Property', 'value': ['environment', 'air quality', 'air', 'aqi', 'aqm', 'climo', 'climate', 'pollution', 'so2', 'co2', 'co', 'no', 'no2', 'pm2.5', 'pm25', 'lux', 'pm10', 'humidity', 'temperature', 'ozone', 'o3', 'noise', 'light', 'uv']}, 'resourceServerGroup': {'type': 'Relationship', 'value': 'urn:iudx-catalogue-pune:pudx-resource-server/aqm-bosch-climo'}, 'refDataModel': {'type': 'Relationship', 'value': 'https://raw.githubusercontent.com/iudx/iudx-ld/master/data_models/environment/airQuality/env_aqm_climoPune_0.json'}, 'updatedAt': {'type': 'TimeProperty', 'value': 'Fri Nov 01 05:29:53 UTC 2019'}, 'NAME': {'type': 'Property', 'value': 'Appa_Balwant_Square_30'}, 'createdAt': {'type': 'TimeProperty', 'value': 'Fri Nov 01 05:29:53 UTC 2019'}, 'resourceServer': {'type': 'Relationship', 'value': 'urn:iudx-catalogue-pune:pudx-resource-server'}, 'itemStatus': {'type': 'Property', 'value': 'active'}, 'location': {'type': 'GeoProperty', 'value': {'address': 'ABD area, Pune', 'geometry': {'type': 'Point', 'coordinates': [73.854009, 18.516644]}}}, 'provider': {'type': 'Relationship', 'value': 'urn:iudx-catalogue-pune:pscdcl'}, 'resourceId': {'type': 'Property', 'value': 'Appa_Balwant_Square_30'}, 'deviceModelInfo': {'type': 'Property', 'value': {'url': 'http://www.boschclimo.com/', 'brand': 'Climo', 'model': 'Bosch-Climo'}}, 'DEVICEID': {'type': 'Property', 'value': '169af06f-bfee-3513-56e5-b9ddd7b863f0'}}, {'onboardedBy': 'Technical consultant at rbccps.org', 'itemDescription': 'Describes Air Quality Monitoring (AQM) Resource.', '@context': ['https://raw.githubusercontent.com/iudx/iudx-ld/master/data_models/environment/airQuality/env_aqm_climoPune_0.json'], 'id': 'rbccps.org/aa9d66a000d94a78895de8d4c0b3a67f3450e531/pudx-resource-server/aqm-bosch-climo/Bajaj Statue Square_50', 'refBaseSchema': {'type': 'Relationship', 'value': 'https://raw.githubusercontent.com/iudx/iudx-ld/master/base_schemas/v0.0.0/resourceItem_schema.json'}, 'itemType': {'type': 'Property', 'value': 'resourceItem'}, 'tags': {'type': 'Property', 'value': ['environment', 'air quality', 'air', 'aqi', 'aqm', 'climo', 'climate', 'pollution', 'so2', 'co2', 'co', 'no', 'no2', 'pm2.5', 'pm25', 'lux', 'pm10', 'humidity', 'temperature', 'ozone', 'o3', 'noise', 'light', 'uv']}, 'resourceServerGroup': {'type': 'Relationship', 'value': 'urn:iudx-catalogue-pune:pudx-resource-server/aqm-bosch-climo'}, 'refDataModel': {'type': 'Relationship', 'value': 'https://raw.githubusercontent.com/iudx/iudx-ld/master/data_models/environment/airQuality/env_aqm_climoPune_0.json'}, 'updatedAt': {'type': 'TimeProperty', 'value': 'Fri Nov 01 05:29:55 UTC 2019'}, 'NAME': {'type': 'Property', 'value': 'Bajaj Statue Square_50'}, 'createdAt': {'type': 'TimeProperty', 'value': 'Fri Nov 01 05:29:55 UTC 2019'}, 'resourceServer': {'type': 'Relationship', 'value': 'urn:iudx-catalogue-pune:pudx-resource-server'}, 'itemStatus': {'type': 'Property', 'value': 'active'}, 'location': {'type': 'GeoProperty', 'value': {'address': 'ABD area, Pune', 'geometry': {'type': 'Point', 'coordinates': [73.854234, 18.501188]}}}, 'provider': {'type': 'Relationship', 'value': 'urn:iudx-catalogue-pune:pscdcl'}, 'resourceId': {'type': 'Property', 'value': 'Bajaj Statue Square_50'}, 'deviceModelInfo': {'type': 'Property', 'value': {'url': 'http://www.boschclimo.com/', 'brand': 'Climo', 'model': 'Bosch-Climo'}}, 'DEVICEID': {'type': 'Property', 'value': '2a072b6c-ec0b-d307-bdc6-86a8b585f5df'}}, {'onboardedBy': 'Technical consultant at rbccps.org', 'itemDescription': 'Describes Air Quality Monitoring (AQM) Resource.', '@context': ['https://raw.githubusercontent.com/iudx/iudx-ld/master/data_models/environment/airQuality/env_aqm_climoPune_0.json'], 'id': 'rbccps.org/aa9d66a000d94a78895de8d4c0b3a67f3450e531/pudx-resource-server/aqm-bosch-climo/Blue Diamond Square (Hotel Taj)_10', 'refBaseSchema': {'type': 'Relationship', 'value': 'https://raw.githubusercontent.com/iudx/iudx-ld/master/base_schemas/v0.0.0/resourceItem_schema.json'}, 'itemType': {'type': 'Property', 'value': 'resourceItem'}, 'tags': {'type': 'Property', 'value': ['environment', 'air quality', 'air', 'aqi', 'aqm', 'climo', 'climate', 'pollution', 'so2', 'co2', 'co', 'no', 'no2', 'pm2.5', 'pm25', 'lux', 'pm10', 'humidity', 'temperature', 'ozone', 'o3', 'noise', 'light', 'uv']}, 'resourceServerGroup': {'type': 'Relationship', 'value': 'urn:iudx-catalogue-pune:pudx-resource-server/aqm-bosch-climo'}, 'refDataModel': {'type': 'Relationship', 'value': 'https://raw.githubusercontent.com/iudx/iudx-ld/master/data_models/environment/airQuality/env_aqm_climoPune_0.json'}, 'updatedAt': {'type': 'TimeProperty', 'value': 'Fri Nov 01 05:29:56 UTC 2019'}, 'NAME': {'type': 'Property', 'value': 'Blue Diamond Square (Hotel Taj)_10'}, 'createdAt': {'type': 'TimeProperty', 'value': 'Fri Nov 01 05:29:56 UTC 2019'}, 'resourceServer': {'type': 'Relationship', 'value': 'urn:iudx-catalogue-pune:pudx-resource-server'}, 'itemStatus': {'type': 'Property', 'value': 'active'}, 'location': {'type': 'GeoProperty', 'value': {'address': 'ABD area, Pune', 'geometry': {'type': 'Point', 'coordinates': [73.88559, 18.538425]}}}, 'provider': {'type': 'Relationship', 'value': 'urn:iudx-catalogue-pune:pscdcl'}, 'resourceId': {'type': 'Property', 'value': 'Blue Diamond Square (Hotel Taj)_10'}, 'deviceModelInfo': {'type': 'Property', 'value': {'url': 'http://www.boschclimo.com/', 'brand': 'Climo', 'model': 'Bosch-Climo'}}, 'DEVICEID': {'type': 'Property', 'value': 'f36b4669-628b-ad93-9970-f9d424afbf75'}}, {'onboardedBy': 'Technical consultant at rbccps.org', 'itemDescription': 'Describes Air Quality Monitoring (AQM) Resource.', '@context': ['https://raw.githubusercontent.com/iudx/iudx-ld/master/data_models/environment/airQuality/env_aqm_climoPune_0.json'], 'id': 'rbccps.org/aa9d66a000d94a78895de8d4c0b3a67f3450e531/pudx-resource-server/aqm-bosch-climo/BopadiSquare_65', 'refBaseSchema': {'type': 'Relationship', 'value': 'https://raw.githubusercontent.com/iudx/iudx-ld/master/base_schemas/v0.0.0/resourceItem_schema.json'}, 'itemType': {'type': 'Property', 'value': 'resourceItem'}, 'tags': {'type': 'Property', 'value': ['environment', 'air quality', 'air', 'aqi', 'aqm', 'climo', 'climate', 'pollution', 'so2', 'co2', 'co', 'no', 'no2', 'pm2.5', 'pm25', 'lux', 'pm10', 'humidity', 'temperature', 'ozone', 'o3', 'noise', 'light', 'uv']}, 'resourceServerGroup': {'type': 'Relationship', 'value': 'urn:iudx-catalogue-pune:pudx-resource-server/aqm-bosch-climo'}, 'refDataModel': {'type': 'Relationship', 'value': 'https://raw.githubusercontent.com/iudx/iudx-ld/master/data_models/environment/airQuality/env_aqm_climoPune_0.json'}, 'updatedAt': {'type': 'TimeProperty', 'value': 'Fri Nov 01 05:29:58 UTC 2019'}, 'NAME': {'type': 'Property', 'value': 'BopadiSquare_65'}, 'createdAt': {'type': 'TimeProperty', 'value': 'Fri Nov 01 05:29:58 UTC 2019'}, 'resourceServer': {'type': 'Relationship', 'value': 'urn:iudx-catalogue-pune:pudx-resource-server'}, 'itemStatus': {'type': 'Property', 'value': 'active'}, 'location': {'type': 'GeoProperty', 'value': {'address': 'ABD area, Pune', 'geometry': {'type': 'Point', 'coordinates': [73.836808, 18.572797]}}}, 'provider': {'type': 'Relationship', 'value': 'urn:iudx-catalogue-pune:pscdcl'}, 'resourceId': {'type': 'Property', 'value': 'BopadiSquare_65'}, 'deviceModelInfo': {'type': 'Property', 'value': {'url': 'http://www.boschclimo.com/', 'brand': 'Climo', 'model': 'Bosch-Climo'}}, 'DEVICEID': {'type': 'Property', 'value': '10b6d0f8-ae93-6622-5d1b-76af4bebc11e'}}, {'onboardedBy': 'Technical consultant at rbccps.org', 'itemDescription': 'Describes Air Quality Monitoring (AQM) Resource.', '@context': ['https://raw.githubusercontent.com/iudx/iudx-ld/master/data_models/environment/airQuality/env_aqm_climoPune_0.json'], 'id': 'rbccps.org/aa9d66a000d94a78895de8d4c0b3a67f3450e531/pudx-resource-server/aqm-bosch-climo/Bremen Square_37', 'refBaseSchema': {'type': 'Relationship', 'value': 'https://raw.githubusercontent.com/iudx/iudx-ld/master/base_schemas/v0.0.0/resourceItem_schema.json'}, 'itemType': {'type': 'Property', 'value': 'resourceItem'}, 'tags': {'type': 'Property', 'value': ['environment', 'air quality', 'air', 'aqi', 'aqm', 'climo', 'climate', 'pollution', 'so2', 'co2', 'co', 'no', 'no2', 'pm2.5', 'pm25', 'lux', 'pm10', 'humidity', 'temperature', 'ozone', 'o3', 'noise', 'light', 'uv']}, 'resourceServerGroup': {'type': 'Relationship', 'value': 'urn:iudx-catalogue-pune:pudx-resource-server/aqm-bosch-climo'}, 'refDataModel': {'type': 'Relationship', 'value': 'https://raw.githubusercontent.com/iudx/iudx-ld/master/data_models/environment/airQuality/env_aqm_climoPune_0.json'}, 'updatedAt': {'type': 'TimeProperty', 'value': 'Fri Nov 01 05:30:00 UTC 2019'}, 'NAME': {'type': 'Property', 'value': 'Bremen Square_37'}, 'createdAt': {'type': 'TimeProperty', 'value': 'Fri Nov 01 05:30:00 UTC 2019'}, 'resourceServer': {'type': 'Relationship', 'value': 'urn:iudx-catalogue-pune:pudx-resource-server'}, 'itemStatus': {'type': 'Property', 'value': 'active'}, 'location': {'type': 'GeoProperty', 'value': {'address': 'ABD area, Pune', 'geometry': {'type': 'Point', 'coordinates': [73.812648, 18.560589]}}}, 'provider': {'type': 'Relationship', 'value': 'urn:iudx-catalogue-pune:pscdcl'}, 'resourceId': {'type': 'Property', 'value': 'Bremen Square_37'}, 'deviceModelInfo': {'type': 'Property', 'value': {'url': 'http://www.boschclimo.com/', 'brand': 'Climo', 'model': 'Bosch-Climo'}}, 'DEVICEID': {'type': 'Property', 'value': '98bf83b7-a2b8-ea70-88aa-7d1d9f33dbe0'}}, {'onboardedBy': 'Technical consultant at rbccps.org', 'itemDescription': 'Describes Air Quality Monitoring (AQM) Resource.', '@context': ['https://raw.githubusercontent.com/iudx/iudx-ld/master/data_models/environment/airQuality/env_aqm_climoPune_0.json'], 'id': 'rbccps.org/aa9d66a000d94a78895de8d4c0b3a67f3450e531/pudx-resource-server/aqm-bosch-climo/BRTS Visharant wadi_38', 'refBaseSchema': {'type': 'Relationship', 'value': 'https://raw.githubusercontent.com/iudx/iudx-ld/master/base_schemas/v0.0.0/resourceItem_schema.json'}, 'itemType': {'type': 'Property', 'value': 'resourceItem'}, 'tags': {'type': 'Property', 'value': ['environment', 'air quality', 'air', 'aqi', 'aqm', 'climo', 'climate', 'pollution', 'so2', 'co2', 'co', 'no', 'no2', 'pm2.5', 'pm25', 'lux', 'pm10', 'humidity', 'temperature', 'ozone', 'o3', 'noise', 'light', 'uv']}, 'resourceServerGroup': {'type': 'Relationship', 'value': 'urn:iudx-catalogue-pune:pudx-resource-server/aqm-bosch-climo'}, 'refDataModel': {'type': 'Relationship', 'value': 'https://raw.githubusercontent.com/iudx/iudx-ld/master/data_models/environment/airQuality/env_aqm_climoPune_0.json'}, 'updatedAt': {'type': 'TimeProperty', 'value': 'Fri Nov 01 05:30:01 UTC 2019'}, 'NAME': {'type': 'Property', 'value': 'BRTS Visharant wadi_38'}, 'createdAt': {'type': 'TimeProperty', 'value': 'Fri Nov 01 05:30:01 UTC 2019'}, 'resourceServer': {'type': 'Relationship', 'value': 'urn:iudx-catalogue-pune:pudx-resource-server'}, 'itemStatus': {'type': 'Property', 'value': 'active'}, 'location': {'type': 'GeoProperty', 'value': {'address': 'ABD area, Pune', 'geometry': {'type': 'Point', 'coordinates': [73.881, 18.572866]}}}, 'provider': {'type': 'Relationship', 'value': 'urn:iudx-catalogue-pune:pscdcl'}, 'resourceId': {'type': 'Property', 'value': 'BRTS Visharant wadi_38'}, 'deviceModelInfo': {'type': 'Property', 'value': {'url': 'http://www.boschclimo.com/', 'brand': 'Climo', 'model': 'Bosch-Climo'}}, 'DEVICEID': {'type': 'Property', 'value': '3c84ae0f-dcca-fd9b-1f09-bc0f0e092b63'}}, {'onboardedBy': 'Technical consultant at rbccps.org', 'itemDescription': 'Describes Air Quality Monitoring (AQM) Resource.', '@context': ['https://raw.githubusercontent.com/iudx/iudx-ld/master/data_models/environment/airQuality/env_aqm_climoPune_0.json'], 'id': 'rbccps.org/aa9d66a000d94a78895de8d4c0b3a67f3450e531/pudx-resource-server/aqm-bosch-climo/Chandani Square_25', 'refBaseSchema': {'type': 'Relationship', 'value': 'https://raw.githubusercontent.com/iudx/iudx-ld/master/base_schemas/v0.0.0/resourceItem_schema.json'}, 'itemType': {'type': 'Property', 'value': 'resourceItem'}, 'tags': {'type': 'Property', 'value': ['environment', 'air quality', 'air', 'aqi', 'aqm', 'climo', 'climate', 'pollution', 'so2', 'co2', 'co', 'no', 'no2', 'pm2.5', 'pm25', 'lux', 'pm10', 'humidity', 'temperature', 'ozone', 'o3', 'noise', 'light', 'uv']}, 'resourceServerGroup': {'type': 'Relationship', 'value': 'urn:iudx-catalogue-pune:pudx-resource-server/aqm-bosch-climo'}, 'refDataModel': {'type': 'Relationship', 'value': 'https://raw.githubusercontent.com/iudx/iudx-ld/master/data_models/environment/airQuality/env_aqm_climoPune_0.json'}, 'updatedAt': {'type': 'TimeProperty', 'value': 'Fri Nov 01 05:30:03 UTC 2019'}, 'NAME': {'type': 'Property', 'value': 'Chandani Square_25'}, 'createdAt': {'type': 'TimeProperty', 'value': 'Fri Nov 01 05:30:03 UTC 2019'}, 'resourceServer': {'type': 'Relationship', 'value': 'urn:iudx-catalogue-pune:pudx-resource-server'}, 'itemStatus': {'type': 'Property', 'value': 'active'}, 'location': {'type': 'GeoProperty', 'value': {'address': 'ABD area, Pune', 'geometry': {'type': 'Point', 'coordinates': [73.783532, 18.507789]}}}, 'provider': {'type': 'Relationship', 'value': 'urn:iudx-catalogue-pune:pscdcl'}, 'resourceId': {'type': 'Property', 'value': 'Chandani Square_25'}, 'deviceModelInfo': {'type': 'Property', 'value': {'url': 'http://www.boschclimo.com/', 'brand': 'Climo', 'model': 'Bosch-Climo'}}, 'DEVICEID': {'type': 'Property', 'value': '21ece4ba-0dcf-843a-16e0-35e0082277dd'}}, {'onboardedBy': 'Technical consultant at rbccps.org', 'itemDescription': 'Describes Air Quality Monitoring (AQM) Resource.', '@context': ['https://raw.githubusercontent.com/iudx/iudx-ld/master/data_models/environment/airQuality/env_aqm_climoPune_0.json'], 'id': 'rbccps.org/aa9d66a000d94a78895de8d4c0b3a67f3450e531/pudx-resource-server/aqm-bosch-climo/Chitale Bandhu Corner_41', 'refBaseSchema': {'type': 'Relationship', 'value': 'https://raw.githubusercontent.com/iudx/iudx-ld/master/base_schemas/v0.0.0/resourceItem_schema.json'}, 'itemType': {'type': 'Property', 'value': 'resourceItem'}, 'tags': {'type': 'Property', 'value': ['environment', 'air quality', 'air', 'aqi', 'aqm', 'climo', 'climate', 'pollution', 'so2', 'co2', 'co', 'no', 'no2', 'pm2.5', 'pm25', 'lux', 'pm10', 'humidity', 'temperature', 'ozone', 'o3', 'noise', 'light', 'uv']}, 'resourceServerGroup': {'type': 'Relationship', 'value': 'urn:iudx-catalogue-pune:pudx-resource-server/aqm-bosch-climo'}, 'refDataModel': {'type': 'Relationship', 'value': 'https://raw.githubusercontent.com/iudx/iudx-ld/master/data_models/environment/airQuality/env_aqm_climoPune_0.json'}, 'updatedAt': {'type': 'TimeProperty', 'value': 'Fri Nov 01 05:30:04 UTC 2019'}, 'NAME': {'type': 'Property', 'value': 'Chitale Bandhu Corner_41'}, 'createdAt': {'type': 'TimeProperty', 'value': 'Fri Nov 01 05:30:04 UTC 2019'}, 'resourceServer': {'type': 'Relationship', 'value': 'urn:iudx-catalogue-pune:pudx-resource-server'}, 'itemStatus': {'type': 'Property', 'value': 'active'}, 'location': {'type': 'GeoProperty', 'value': {'address': 'ABD area, Pune', 'geometry': {'type': 'Point', 'coordinates': [73.8525898, 18.5137013]}}}, 'provider': {'type': 'Relationship', 'value': 'urn:iudx-catalogue-pune:pscdcl'}, 'resourceId': {'type': 'Property', 'value': 'Chitale Bandhu Corner_41'}, 'deviceModelInfo': {'type': 'Property', 'value': {'url': 'http://www.boschclimo.com/', 'brand': 'Climo', 'model': 'Bosch-Climo'}}, 'DEVICEID': {'type': 'Property', 'value': '17429134-c3d7-da41-0057-388a28723913'}}, {'onboardedBy': 'Technical consultant at rbccps.org', 'itemDescription': 'Describes Air Quality Monitoring (AQM) Resource.', '@context': ['https://raw.githubusercontent.com/iudx/iudx-ld/master/data_models/environment/airQuality/env_aqm_climoPune_0.json'], 'id': 'rbccps.org/aa9d66a000d94a78895de8d4c0b3a67f3450e531/pudx-resource-server/aqm-bosch-climo/ChurchKhadakiRailwayStation_36', 'refBaseSchema': {'type': 'Relationship', 'value': 'https://raw.githubusercontent.com/iudx/iudx-ld/master/base_schemas/v0.0.0/resourceItem_schema.json'}, 'itemType': {'type': 'Property', 'value': 'resourceItem'}, 'tags': {'type': 'Property', 'value': ['environment', 'air quality', 'air', 'aqi', 'aqm', 'climo', 'climate', 'pollution', 'so2', 'co2', 'co', 'no', 'no2', 'pm2.5', 'pm25', 'lux', 'pm10', 'humidity', 'temperature', 'ozone', 'o3', 'noise', 'light', 'uv']}, 'resourceServerGroup': {'type': 'Relationship', 'value': 'urn:iudx-catalogue-pune:pudx-resource-server/aqm-bosch-climo'}, 'refDataModel': {'type': 'Relationship', 'value': 'https://raw.githubusercontent.com/iudx/iudx-ld/master/data_models/environment/airQuality/env_aqm_climoPune_0.json'}, 'updatedAt': {'type': 'TimeProperty', 'value': 'Fri Nov 01 05:30:06 UTC 2019'}, 'NAME': {'type': 'Property', 'value': 'ChurchKhadakiRailwayStation_36'}, 'createdAt': {'type': 'TimeProperty', 'value': 'Fri Nov 01 05:30:06 UTC 2019'}, 'resourceServer': {'type': 'Relationship', 'value': 'urn:iudx-catalogue-pune:pudx-resource-server'}, 'itemStatus': {'type': 'Property', 'value': 'active'}, 'location': {'type': 'GeoProperty', 'value': {'address': 'ABD area, Pune', 'geometry': {'type': 'Point', 'coordinates': [73.840686, 18.564223]}}}, 'provider': {'type': 'Relationship', 'value': 'urn:iudx-catalogue-pune:pscdcl'}, 'resourceId': {'type': 'Property', 'value': 'ChurchKhadakiRailwayStation_36'}, 'deviceModelInfo': {'type': 'Property', 'value': {'url': 'http://www.boschclimo.com/', 'brand': 'Climo', 'model': 'Bosch-Climo'}}, 'DEVICEID': {'type': 'Property', 'value': '3c4ebd7e-00e2-3881-ca79-281a1ba5bc22'}}, {'onboardedBy': 'Technical consultant at rbccps.org', 'itemDescription': 'Describes Air Quality Monitoring (AQM) Resource.', '@context': ['https://raw.githubusercontent.com/iudx/iudx-ld/master/data_models/environment/airQuality/env_aqm_climoPune_0.json'], 'id': 'rbccps.org/aa9d66a000d94a78895de8d4c0b3a67f3450e531/pudx-resource-server/aqm-bosch-climo/Datta Mandir Square_20', 'refBaseSchema': {'type': 'Relationship', 'value': 'https://raw.githubusercontent.com/iudx/iudx-ld/master/base_schemas/v0.0.0/resourceItem_schema.json'}, 'itemType': {'type': 'Property', 'value': 'resourceItem'}, 'tags': {'type': 'Property', 'value': ['environment', 'air quality', 'air', 'aqi', 'aqm', 'climo', 'climate', 'pollution', 'so2', 'co2', 'co', 'no', 'no2', 'pm2.5', 'pm25', 'lux', 'pm10', 'humidity', 'temperature', 'ozone', 'o3', 'noise', 'light', 'uv']}, 'resourceServerGroup': {'type': 'Relationship', 'value': 'urn:iudx-catalogue-pune:pudx-resource-server/aqm-bosch-climo'}, 'refDataModel': {'type': 'Relationship', 'value': 'https://raw.githubusercontent.com/iudx/iudx-ld/master/data_models/environment/airQuality/env_aqm_climoPune_0.json'}, 'updatedAt': {'type': 'TimeProperty', 'value': 'Fri Nov 01 05:30:08 UTC 2019'}, 'NAME': {'type': 'Property', 'value': 'Datta Mandir Square_20'}, 'createdAt': {'type': 'TimeProperty', 'value': 'Fri Nov 01 05:30:08 UTC 2019'}, 'resourceServer': {'type': 'Relationship', 'value': 'urn:iudx-catalogue-pune:pudx-resource-server'}, 'itemStatus': {'type': 'Property', 'value': 'active'}, 'location': {'type': 'GeoProperty', 'value': {'address': 'ABD area, Pune', 'geometry': {'type': 'Point', 'coordinates': [73.913848, 18.565271]}}}, 'provider': {'type': 'Relationship', 'value': 'urn:iudx-catalogue-pune:pscdcl'}, 'resourceId': {'type': 'Property', 'value': 'Datta Mandir Square_20'}, 'deviceModelInfo': {'type': 'Property', 'value': {'url': 'http://www.boschclimo.com/', 'brand': 'Climo', 'model': 'Bosch-Climo'}}, 'DEVICEID': {'type': 'Property', 'value': '8011a665-ea2b-dd08-4c49-667bb2256545'}}, {'onboardedBy': 'Technical consultant at rbccps.org', 'itemDescription': 'Describes Air Quality Monitoring (AQM) Resource.', '@context': ['https://raw.githubusercontent.com/iudx/iudx-ld/master/data_models/environment/airQuality/env_aqm_climoPune_0.json'], 'id': 'rbccps.org/aa9d66a000d94a78895de8d4c0b3a67f3450e531/pudx-resource-server/aqm-bosch-climo/Dr Baba Saheb Ambedkar Sethu Junction_3', 'refBaseSchema': {'type': 'Relationship', 'value': 'https://raw.githubusercontent.com/iudx/iudx-ld/master/base_schemas/v0.0.0/resourceItem_schema.json'}, 'itemType': {'type': 'Property', 'value': 'resourceItem'}, 'tags': {'type': 'Property', 'value': ['environment', 'air quality', 'air', 'aqi', 'aqm', 'climo', 'climate', 'pollution', 'so2', 'co2', 'co', 'no', 'no2', 'pm2.5', 'pm25', 'lux', 'pm10', 'humidity', 'temperature', 'ozone', 'o3', 'noise', 'light', 'uv']}, 'resourceServerGroup': {'type': 'Relationship', 'value': 'urn:iudx-catalogue-pune:pudx-resource-server/aqm-bosch-climo'}, 'refDataModel': {'type': 'Relationship', 'value': 'https://raw.githubusercontent.com/iudx/iudx-ld/master/data_models/environment/airQuality/env_aqm_climoPune_0.json'}, 'updatedAt': {'type': 'TimeProperty', 'value': 'Fri Nov 01 05:30:09 UTC 2019'}, 'NAME': {'type': 'Property', 'value': 'Dr Baba Saheb Ambedkar Sethu Junction_3'}, 'createdAt': {'type': 'TimeProperty', 'value': 'Fri Nov 01 05:30:09 UTC 2019'}, 'resourceServer': {'type': 'Relationship', 'value': 'urn:iudx-catalogue-pune:pudx-resource-server'}, 'itemStatus': {'type': 'Property', 'value': 'active'}, 'location': {'type': 'GeoProperty', 'value': {'address': 'ABD area, Pune', 'geometry': {'type': 'Point', 'coordinates': [73.8843632, 18.5412778]}}}, 'provider': {'type': 'Relationship', 'value': 'urn:iudx-catalogue-pune:pscdcl'}, 'resourceId': {'type': 'Property', 'value': 'Dr Baba Saheb Ambedkar Sethu Junction_3'}, 'deviceModelInfo': {'type': 'Property', 'value': {'url': 'http://www.boschclimo.com/', 'brand': 'Climo', 'model': 'Bosch-Climo'}}, 'DEVICEID': {'type': 'Property', 'value': '05fbae93-d3f7-0bbe-dd5d-2c2b4180edc7'}}, {'onboardedBy': 'Technical consultant at rbccps.org', 'itemDescription': 'Describes Air Quality Monitoring (AQM) Resource.', '@context': ['https://raw.githubusercontent.com/iudx/iudx-ld/master/data_models/environment/airQuality/env_aqm_climoPune_0.json'], 'id': 'rbccps.org/aa9d66a000d94a78895de8d4c0b3a67f3450e531/pudx-resource-server/aqm-bosch-climo/FursungiKaman_31', 'refBaseSchema': {'type': 'Relationship', 'value': 'https://raw.githubusercontent.com/iudx/iudx-ld/master/base_schemas/v0.0.0/resourceItem_schema.json'}, 'itemType': {'type': 'Property', 'value': 'resourceItem'}, 'tags': {'type': 'Property', 'value': ['environment', 'air quality', 'air', 'aqi', 'aqm', 'climo', 'climate', 'pollution', 'so2', 'co2', 'co', 'no', 'no2', 'pm2.5', 'pm25', 'lux', 'pm10', 'humidity', 'temperature', 'ozone', 'o3', 'noise', 'light', 'uv']}, 'resourceServerGroup': {'type': 'Relationship', 'value': 'urn:iudx-catalogue-pune:pudx-resource-server/aqm-bosch-climo'}, 'refDataModel': {'type': 'Relationship', 'value': 'https://raw.githubusercontent.com/iudx/iudx-ld/master/data_models/environment/airQuality/env_aqm_climoPune_0.json'}, 'updatedAt': {'type': 'TimeProperty', 'value': 'Fri Nov 01 05:30:11 UTC 2019'}, 'NAME': {'type': 'Property', 'value': 'FursungiKaman_31'}, 'createdAt': {'type': 'TimeProperty', 'value': 'Fri Nov 01 05:30:11 UTC 2019'}, 'resourceServer': {'type': 'Relationship', 'value': 'urn:iudx-catalogue-pune:pudx-resource-server'}, 'itemStatus': {'type': 'Property', 'value': 'active'}, 'location': {'type': 'GeoProperty', 'value': {'address': 'ABD area, Pune', 'geometry': {'type': 'Point', 'coordinates': [73.952635, 18.48664]}}}, 'provider': {'type': 'Relationship', 'value': 'urn:iudx-catalogue-pune:pscdcl'}, 'resourceId': {'type': 'Property', 'value': 'FursungiKaman_31'}, 'deviceModelInfo': {'type': 'Property', 'value': {'url': 'http://www.boschclimo.com/', 'brand': 'Climo', 'model': 'Bosch-Climo'}}, 'DEVICEID': {'type': 'Property', 'value': 'd824fa46-223b-f248-493e-80bb5bdeda68'}}, {'onboardedBy': 'Technical consultant at rbccps.org', 'itemDescription': 'Describes Air Quality Monitoring (AQM) Resource.', '@context': ['https://raw.githubusercontent.com/iudx/iudx-ld/master/data_models/environment/airQuality/env_aqm_climoPune_0.json'], 'id': 'rbccps.org/aa9d66a000d94a78895de8d4c0b3a67f3450e531/pudx-resource-server/aqm-bosch-climo/Golf Club Junction_27', 'refBaseSchema': {'type': 'Relationship', 'value': 'https://raw.githubusercontent.com/iudx/iudx-ld/master/base_schemas/v0.0.0/resourceItem_schema.json'}, 'itemType': {'type': 'Property', 'value': 'resourceItem'}, 'tags': {'type': 'Property', 'value': ['environment', 'air quality', 'air', 'aqi', 'aqm', 'climo', 'climate', 'pollution', 'so2', 'co2', 'co', 'no', 'no2', 'pm2.5', 'pm25', 'lux', 'pm10', 'humidity', 'temperature', 'ozone', 'o3', 'noise', 'light', 'uv']}, 'resourceServerGroup': {'type': 'Relationship', 'value': 'urn:iudx-catalogue-pune:pudx-resource-server/aqm-bosch-climo'}, 'refDataModel': {'type': 'Relationship', 'value': 'https://raw.githubusercontent.com/iudx/iudx-ld/master/data_models/environment/airQuality/env_aqm_climoPune_0.json'}, 'updatedAt': {'type': 'TimeProperty', 'value': 'Fri Nov 01 05:30:13 UTC 2019'}, 'NAME': {'type': 'Property', 'value': 'Golf Club Junction_27'}, 'createdAt': {'type': 'TimeProperty', 'value': 'Fri Nov 01 05:30:13 UTC 2019'}, 'resourceServer': {'type': 'Relationship', 'value': 'urn:iudx-catalogue-pune:pudx-resource-server'}, 'itemStatus': {'type': 'Property', 'value': 'active'}, 'location': {'type': 'GeoProperty', 'value': {'address': 'ABD area, Pune', 'geometry': {'type': 'Point', 'coordinates': [73.8893219, 18.5526023]}}}, 'provider': {'type': 'Relationship', 'value': 'urn:iudx-catalogue-pune:pscdcl'}, 'resourceId': {'type': 'Property', 'value': 'Golf Club Junction_27'}, 'deviceModelInfo': {'type': 'Property', 'value': {'url': 'http://www.boschclimo.com/', 'brand': 'Climo', 'model': 'Bosch-Climo'}}, 'DEVICEID': {'type': 'Property', 'value': '0541f9dd-2787-d791-9340-c30da7750de7'}}, {'onboardedBy': 'Technical consultant at rbccps.org', 'itemDescription': 'Describes Air Quality Monitoring (AQM) Resource.', '@context': ['https://raw.githubusercontent.com/iudx/iudx-ld/master/data_models/environment/airQuality/env_aqm_climoPune_0.json'], 'id': 'rbccps.org/aa9d66a000d94a78895de8d4c0b3a67f3450e531/pudx-resource-server/aqm-bosch-climo/Golibar Square_11', 'refBaseSchema': {'type': 'Relationship', 'value': 'https://raw.githubusercontent.com/iudx/iudx-ld/master/base_schemas/v0.0.0/resourceItem_schema.json'}, 'itemType': {'type': 'Property', 'value': 'resourceItem'}, 'tags': {'type': 'Property', 'value': ['environment', 'air quality', 'air', 'aqi', 'aqm', 'climo', 'climate', 'pollution', 'so2', 'co2', 'co', 'no', 'no2', 'pm2.5', 'pm25', 'lux', 'pm10', 'humidity', 'temperature', 'ozone', 'o3', 'noise', 'light', 'uv']}, 'resourceServerGroup': {'type': 'Relationship', 'value': 'urn:iudx-catalogue-pune:pudx-resource-server/aqm-bosch-climo'}, 'refDataModel': {'type': 'Relationship', 'value': 'https://raw.githubusercontent.com/iudx/iudx-ld/master/data_models/environment/airQuality/env_aqm_climoPune_0.json'}, 'updatedAt': {'type': 'TimeProperty', 'value': 'Fri Nov 01 05:30:15 UTC 2019'}, 'NAME': {'type': 'Property', 'value': 'Golibar Square_11'}, 'createdAt': {'type': 'TimeProperty', 'value': 'Fri Nov 01 05:30:15 UTC 2019'}, 'resourceServer': {'type': 'Relationship', 'value': 'urn:iudx-catalogue-pune:pudx-resource-server'}, 'itemStatus': {'type': 'Property', 'value': 'active'}, 'location': {'type': 'GeoProperty', 'value': {'address': 'ABD area, Pune', 'geometry': {'type': 'Point', 'coordinates': [73.878603, 18.502865]}}}, 'provider': {'type': 'Relationship', 'value': 'urn:iudx-catalogue-pune:pscdcl'}, 'resourceId': {'type': 'Property', 'value': 'Golibar Square_11'}, 'deviceModelInfo': {'type': 'Property', 'value': {'url': 'http://www.boschclimo.com/', 'brand': 'Climo', 'model': 'Bosch-Climo'}}, 'DEVICEID': {'type': 'Property', 'value': '146a3c4f-c6e4-959f-e967-f0cfd5b03dcb'}}, {'onboardedBy': 'Technical consultant at rbccps.org', 'itemDescription': 'Describes Air Quality Monitoring (AQM) Resource.', '@context': ['https://raw.githubusercontent.com/iudx/iudx-ld/master/data_models/environment/airQuality/env_aqm_climoPune_0.json'], 'id': 'rbccps.org/aa9d66a000d94a78895de8d4c0b3a67f3450e531/pudx-resource-server/aqm-bosch-climo/Goodluck Square_Cafe_23', 'refBaseSchema': {'type': 'Relationship', 'value': 'https://raw.githubusercontent.com/iudx/iudx-ld/master/base_schemas/v0.0.0/resourceItem_schema.json'}, 'itemType': {'type': 'Property', 'value': 'resourceItem'}, 'tags': {'type': 'Property', 'value': ['environment', 'air quality', 'air', 'aqi', 'aqm', 'climo', 'climate', 'pollution', 'so2', 'co2', 'co', 'no', 'no2', 'pm2.5', 'pm25', 'lux', 'pm10', 'humidity', 'temperature', 'ozone', 'o3', 'noise', 'light', 'uv']}, 'resourceServerGroup': {'type': 'Relationship', 'value': 'urn:iudx-catalogue-pune:pudx-resource-server/aqm-bosch-climo'}, 'refDataModel': {'type': 'Relationship', 'value': 'https://raw.githubusercontent.com/iudx/iudx-ld/master/data_models/environment/airQuality/env_aqm_climoPune_0.json'}, 'updatedAt': {'type': 'TimeProperty', 'value': 'Fri Nov 01 05:30:17 UTC 2019'}, 'NAME': {'type': 'Property', 'value': 'Goodluck Square_Cafe_23'}, 'createdAt': {'type': 'TimeProperty', 'value': 'Fri Nov 01 05:30:17 UTC 2019'}, 'resourceServer': {'type': 'Relationship', 'value': 'urn:iudx-catalogue-pune:pudx-resource-server'}, 'itemStatus': {'type': 'Property', 'value': 'active'}, 'location': {'type': 'GeoProperty', 'value': {'address': 'ABD area, Pune', 'geometry': {'type': 'Point', 'coordinates': [73.841424, 18.517439]}}}, 'provider': {'type': 'Relationship', 'value': 'urn:iudx-catalogue-pune:pscdcl'}, 'resourceId': {'type': 'Property', 'value': 'Goodluck Square_Cafe_23'}, 'deviceModelInfo': {'type': 'Property', 'value': {'url': 'http://www.boschclimo.com/', 'brand': 'Climo', 'model': 'Bosch-Climo'}}, 'DEVICEID': {'type': 'Property', 'value': '67ae0343-59e4-e88f-bc4a-f55e7789df44'}}, {'onboardedBy': 'Technical consultant at rbccps.org', 'itemDescription': 'Describes Air Quality Monitoring (AQM) Resource.', '@context': ['https://raw.githubusercontent.com/iudx/iudx-ld/master/data_models/environment/airQuality/env_aqm_climoPune_0.json'], 'id': 'rbccps.org/aa9d66a000d94a78895de8d4c0b3a67f3450e531/pudx-resource-server/aqm-bosch-climo/Gunjan Square_18', 'refBaseSchema': {'type': 'Relationship', 'value': 'https://raw.githubusercontent.com/iudx/iudx-ld/master/base_schemas/v0.0.0/resourceItem_schema.json'}, 'itemType': {'type': 'Property', 'value': 'resourceItem'}, 'tags': {'type': 'Property', 'value': ['environment', 'air quality', 'air', 'aqi', 'aqm', 'climo', 'climate', 'pollution', 'so2', 'co2', 'co', 'no', 'no2', 'pm2.5', 'pm25', 'lux', 'pm10', 'humidity', 'temperature', 'ozone', 'o3', 'noise', 'light', 'uv']}, 'resourceServerGroup': {'type': 'Relationship', 'value': 'urn:iudx-catalogue-pune:pudx-resource-server/aqm-bosch-climo'}, 'refDataModel': {'type': 'Relationship', 'value': 'https://raw.githubusercontent.com/iudx/iudx-ld/master/data_models/environment/airQuality/env_aqm_climoPune_0.json'}, 'updatedAt': {'type': 'TimeProperty', 'value': 'Fri Nov 01 05:30:18 UTC 2019'}, 'NAME': {'type': 'Property', 'value': 'Gunjan Square_18'}, 'createdAt': {'type': 'TimeProperty', 'value': 'Fri Nov 01 05:30:18 UTC 2019'}, 'resourceServer': {'type': 'Relationship', 'value': 'urn:iudx-catalogue-pune:pudx-resource-server'}, 'itemStatus': {'type': 'Property', 'value': 'active'}, 'location': {'type': 'GeoProperty', 'value': {'address': 'ABD area, Pune', 'geometry': {'type': 'Point', 'coordinates': [73.8891134, 18.5461542]}}}, 'provider': {'type': 'Relationship', 'value': 'urn:iudx-catalogue-pune:pscdcl'}, 'resourceId': {'type': 'Property', 'value': 'Gunjan Square_18'}, 'deviceModelInfo': {'type': 'Property', 'value': {'url': 'http://www.boschclimo.com/', 'brand': 'Climo', 'model': 'Bosch-Climo'}}, 'DEVICEID': {'type': 'Property', 'value': 'b4b9e3b8-fcfa-08c2-a9c5-2093748a116c'}}, {'onboardedBy': 'Technical consultant at rbccps.org', 'itemDescription': 'Describes Air Quality Monitoring (AQM) Resource.', '@context': ['https://raw.githubusercontent.com/iudx/iudx-ld/master/data_models/environment/airQuality/env_aqm_climoPune_0.json'], 'id': 'rbccps.org/aa9d66a000d94a78895de8d4c0b3a67f3450e531/pudx-resource-server/aqm-bosch-climo/Hadapsar_Gadital_01', 'refBaseSchema': {'type': 'Relationship', 'value': 'https://raw.githubusercontent.com/iudx/iudx-ld/master/base_schemas/v0.0.0/resourceItem_schema.json'}, 'itemType': {'type': 'Property', 'value': 'resourceItem'}, 'tags': {'type': 'Property', 'value': ['environment', 'air quality', 'air', 'aqi', 'aqm', 'climo', 'climate', 'pollution', 'so2', 'co2', 'co', 'no', 'no2', 'pm2.5', 'pm25', 'lux', 'pm10', 'humidity', 'temperature', 'ozone', 'o3', 'noise', 'light', 'uv']}, 'resourceServerGroup': {'type': 'Relationship', 'value': 'urn:iudx-catalogue-pune:pudx-resource-server/aqm-bosch-climo'}, 'refDataModel': {'type': 'Relationship', 'value': 'https://raw.githubusercontent.com/iudx/iudx-ld/master/data_models/environment/airQuality/env_aqm_climoPune_0.json'}, 'updatedAt': {'type': 'TimeProperty', 'value': 'Fri Nov 01 05:30:20 UTC 2019'}, 'NAME': {'type': 'Property', 'value': 'Hadapsar_Gadital_01'}, 'createdAt': {'type': 'TimeProperty', 'value': 'Fri Nov 01 05:30:20 UTC 2019'}, 'resourceServer': {'type': 'Relationship', 'value': 'urn:iudx-catalogue-pune:pudx-resource-server'}, 'itemStatus': {'type': 'Property', 'value': 'active'}, 'location': {'type': 'GeoProperty', 'value': {'address': 'ABD area, Pune', 'geometry': {'type': 'Point', 'coordinates': [73.938942, 18.500945]}}}, 'provider': {'type': 'Relationship', 'value': 'urn:iudx-catalogue-pune:pscdcl'}, 'resourceId': {'type': 'Property', 'value': 'Hadapsar_Gadital_01'}, 'deviceModelInfo': {'type': 'Property', 'value': {'url': 'http://www.boschclimo.com/', 'brand': 'Climo', 'model': 'Bosch-Climo'}}, 'DEVICEID': {'type': 'Property', 'value': '390a5098-1616-60ca-955e-ce9b5d3ee5f9'}}, {'onboardedBy': 'Technical consultant at rbccps.org', 'itemDescription': 'Describes Air Quality Monitoring (AQM) Resource.', '@context': ['https://raw.githubusercontent.com/iudx/iudx-ld/master/data_models/environment/airQuality/env_aqm_climoPune_0.json'], 'id': 'rbccps.org/aa9d66a000d94a78895de8d4c0b3a67f3450e531/pudx-resource-server/aqm-bosch-climo/Jhanshi Rani Square_59', 'refBaseSchema': {'type': 'Relationship', 'value': 'https://raw.githubusercontent.com/iudx/iudx-ld/master/base_schemas/v0.0.0/resourceItem_schema.json'}, 'itemType': {'type': 'Property', 'value': 'resourceItem'}, 'tags': {'type': 'Property', 'value': ['environment', 'air quality', 'air', 'aqi', 'aqm', 'climo', 'climate', 'pollution', 'so2', 'co2', 'co', 'no', 'no2', 'pm2.5', 'pm25', 'lux', 'pm10', 'humidity', 'temperature', 'ozone', 'o3', 'noise', 'light', 'uv']}, 'resourceServerGroup': {'type': 'Relationship', 'value': 'urn:iudx-catalogue-pune:pudx-resource-server/aqm-bosch-climo'}, 'refDataModel': {'type': 'Relationship', 'value': 'https://raw.githubusercontent.com/iudx/iudx-ld/master/data_models/environment/airQuality/env_aqm_climoPune_0.json'}, 'updatedAt': {'type': 'TimeProperty', 'value': 'Fri Nov 01 05:30:22 UTC 2019'}, 'NAME': {'type': 'Property', 'value': 'Jhanshi Rani Square_59'}, 'createdAt': {'type': 'TimeProperty', 'value': 'Fri Nov 01 05:30:22 UTC 2019'}, 'resourceServer': {'type': 'Relationship', 'value': 'urn:iudx-catalogue-pune:pudx-resource-server'}, 'itemStatus': {'type': 'Property', 'value': 'active'}, 'location': {'type': 'GeoProperty', 'value': {'address': 'ABD area, Pune', 'geometry': {'type': 'Point', 'coordinates': [73.8480461, 18.522622]}}}, 'provider': {'type': 'Relationship', 'value': 'urn:iudx-catalogue-pune:pscdcl'}, 'resourceId': {'type': 'Property', 'value': 'Jhanshi Rani Square_59'}, 'deviceModelInfo': {'type': 'Property', 'value': {'url': 'http://www.boschclimo.com/', 'brand': 'Climo', 'model': 'Bosch-Climo'}}, 'DEVICEID': {'type': 'Property', 'value': 'a46a64ca-c27c-631a-ebce-26782e8a20e7'}}, {'onboardedBy': 'Technical consultant at rbccps.org', 'itemDescription': 'Describes Air Quality Monitoring (AQM) Resource.', '@context': ['https://raw.githubusercontent.com/iudx/iudx-ld/master/data_models/environment/airQuality/env_aqm_climoPune_0.json'], 'id': 'rbccps.org/aa9d66a000d94a78895de8d4c0b3a67f3450e531/pudx-resource-server/aqm-bosch-climo/Karve Statue Square_5', 'refBaseSchema': {'type': 'Relationship', 'value': 'https://raw.githubusercontent.com/iudx/iudx-ld/master/base_schemas/v0.0.0/resourceItem_schema.json'}, 'itemType': {'type': 'Property', 'value': 'resourceItem'}, 'tags': {'type': 'Property', 'value': ['environment', 'air quality', 'air', 'aqi', 'aqm', 'climo', 'climate', 'pollution', 'so2', 'co2', 'co', 'no', 'no2', 'pm2.5', 'pm25', 'lux', 'pm10', 'humidity', 'temperature', 'ozone', 'o3', 'noise', 'light', 'uv']}, 'resourceServerGroup': {'type': 'Relationship', 'value': 'urn:iudx-catalogue-pune:pudx-resource-server/aqm-bosch-climo'}, 'refDataModel': {'type': 'Relationship', 'value': 'https://raw.githubusercontent.com/iudx/iudx-ld/master/data_models/environment/airQuality/env_aqm_climoPune_0.json'}, 'updatedAt': {'type': 'TimeProperty', 'value': 'Fri Nov 01 05:30:23 UTC 2019'}, 'NAME': {'type': 'Property', 'value': 'Karve Statue Square_5'}, 'createdAt': {'type': 'TimeProperty', 'value': 'Fri Nov 01 05:30:23 UTC 2019'}, 'resourceServer': {'type': 'Relationship', 'value': 'urn:iudx-catalogue-pune:pudx-resource-server'}, 'itemStatus': {'type': 'Property', 'value': 'active'}, 'location': {'type': 'GeoProperty', 'value': {'address': 'ABD area, Pune', 'geometry': {'type': 'Point', 'coordinates': [73.815409, 18.501802]}}}, 'provider': {'type': 'Relationship', 'value': 'urn:iudx-catalogue-pune:pscdcl'}, 'resourceId': {'type': 'Property', 'value': 'Karve Statue Square_5'}, 'deviceModelInfo': {'type': 'Property', 'value': {'url': 'http://www.boschclimo.com/', 'brand': 'Climo', 'model': 'Bosch-Climo'}}, 'DEVICEID': {'type': 'Property', 'value': '7bd8af4f-99bf-2f69-996c-5fde241fb29a'}}, {'onboardedBy': 'Technical consultant at rbccps.org', 'itemDescription': 'Describes Air Quality Monitoring (AQM) Resource.', '@context': ['https://raw.githubusercontent.com/iudx/iudx-ld/master/data_models/environment/airQuality/env_aqm_climoPune_0.json'], 'id': 'rbccps.org/aa9d66a000d94a78895de8d4c0b3a67f3450e531/pudx-resource-server/aqm-bosch-climo/Kothrud PMPML BusDepot_48', 'refBaseSchema': {'type': 'Relationship', 'value': 'https://raw.githubusercontent.com/iudx/iudx-ld/master/base_schemas/v0.0.0/resourceItem_schema.json'}, 'itemType': {'type': 'Property', 'value': 'resourceItem'}, 'tags': {'type': 'Property', 'value': ['environment', 'air quality', 'air', 'aqi', 'aqm', 'climo', 'climate', 'pollution', 'so2', 'co2', 'co', 'no', 'no2', 'pm2.5', 'pm25', 'lux', 'pm10', 'humidity', 'temperature', 'ozone', 'o3', 'noise', 'light', 'uv']}, 'resourceServerGroup': {'type': 'Relationship', 'value': 'urn:iudx-catalogue-pune:pudx-resource-server/aqm-bosch-climo'}, 'refDataModel': {'type': 'Relationship', 'value': 'https://raw.githubusercontent.com/iudx/iudx-ld/master/data_models/environment/airQuality/env_aqm_climoPune_0.json'}, 'updatedAt': {'type': 'TimeProperty', 'value': 'Fri Nov 01 05:30:25 UTC 2019'}, 'NAME': {'type': 'Property', 'value': 'Kothrud PMPML BusDepot_48'}, 'createdAt': {'type': 'TimeProperty', 'value': 'Fri Nov 01 05:30:25 UTC 2019'}, 'resourceServer': {'type': 'Relationship', 'value': 'urn:iudx-catalogue-pune:pudx-resource-server'}, 'itemStatus': {'type': 'Property', 'value': 'active'}, 'location': {'type': 'GeoProperty', 'value': {'address': 'ABD area, Pune', 'geometry': {'type': 'Point', 'coordinates': [73.7952478, 18.5080491]}}}, 'provider': {'type': 'Relationship', 'value': 'urn:iudx-catalogue-pune:pscdcl'}, 'resourceId': {'type': 'Property', 'value': 'Kothrud PMPML BusDepot_48'}, 'deviceModelInfo': {'type': 'Property', 'value': {'url': 'http://www.boschclimo.com/', 'brand': 'Climo', 'model': 'Bosch-Climo'}}, 'DEVICEID': {'type': 'Property', 'value': 'd3f2fcf3-24de-0fb6-7b74-0d7b3fa0467d'}}, {'onboardedBy': 'Technical consultant at rbccps.org', 'itemDescription': 'Describes Air Quality Monitoring (AQM) Resource.', '@context': ['https://raw.githubusercontent.com/iudx/iudx-ld/master/data_models/environment/airQuality/env_aqm_climoPune_0.json'], 'id': 'rbccps.org/aa9d66a000d94a78895de8d4c0b3a67f3450e531/pudx-resource-server/aqm-bosch-climo/Lullanagar_Square_14', 'refBaseSchema': {'type': 'Relationship', 'value': 'https://raw.githubusercontent.com/iudx/iudx-ld/master/base_schemas/v0.0.0/resourceItem_schema.json'}, 'itemType': {'type': 'Property', 'value': 'resourceItem'}, 'tags': {'type': 'Property', 'value': ['environment', 'air quality', 'air', 'aqi', 'aqm', 'climo', 'climate', 'pollution', 'so2', 'co2', 'co', 'no', 'no2', 'pm2.5', 'pm25', 'lux', 'pm10', 'humidity', 'temperature', 'ozone', 'o3', 'noise', 'light', 'uv']}, 'resourceServerGroup': {'type': 'Relationship', 'value': 'urn:iudx-catalogue-pune:pudx-resource-server/aqm-bosch-climo'}, 'refDataModel': {'type': 'Relationship', 'value': 'https://raw.githubusercontent.com/iudx/iudx-ld/master/data_models/environment/airQuality/env_aqm_climoPune_0.json'}, 'updatedAt': {'type': 'TimeProperty', 'value': 'Fri Nov 01 05:30:27 UTC 2019'}, 'NAME': {'type': 'Property', 'value': 'Lullanagar_Square_14'}, 'createdAt': {'type': 'TimeProperty', 'value': 'Fri Nov 01 05:30:27 UTC 2019'}, 'resourceServer': {'type': 'Relationship', 'value': 'urn:iudx-catalogue-pune:pudx-resource-server'}, 'itemStatus': {'type': 'Property', 'value': 'active'}, 'location': {'type': 'GeoProperty', 'value': {'address': 'ABD area, Pune', 'geometry': {'type': 'Point', 'coordinates': [73.888922, 18.485643]}}}, 'provider': {'type': 'Relationship', 'value': 'urn:iudx-catalogue-pune:pscdcl'}, 'resourceId': {'type': 'Property', 'value': 'Lullanagar_Square_14'}, 'deviceModelInfo': {'type': 'Property', 'value': {'url': 'http://www.boschclimo.com/', 'brand': 'Climo', 'model': 'Bosch-Climo'}}, 'DEVICEID': {'type': 'Property', 'value': '12bd3b5b-a189-0d10-3a1f-20a0ba699d7f'}}, {'onboardedBy': 'Technical consultant at rbccps.org', 'itemDescription': 'Describes Air Quality Monitoring (AQM) Resource.', '@context': ['https://raw.githubusercontent.com/iudx/iudx-ld/master/data_models/environment/airQuality/env_aqm_climoPune_0.json'], 'id': 'rbccps.org/aa9d66a000d94a78895de8d4c0b3a67f3450e531/pudx-resource-server/aqm-bosch-climo/Market Yard Junction_2', 'refBaseSchema': {'type': 'Relationship', 'value': 'https://raw.githubusercontent.com/iudx/iudx-ld/master/base_schemas/v0.0.0/resourceItem_schema.json'}, 'itemType': {'type': 'Property', 'value': 'resourceItem'}, 'tags': {'type': 'Property', 'value': ['environment', 'air quality', 'air', 'aqi', 'aqm', 'climo', 'climate', 'pollution', 'so2', 'co2', 'co', 'no', 'no2', 'pm2.5', 'pm25', 'lux', 'pm10', 'humidity', 'temperature', 'ozone', 'o3', 'noise', 'light', 'uv']}, 'resourceServerGroup': {'type': 'Relationship', 'value': 'urn:iudx-catalogue-pune:pudx-resource-server/aqm-bosch-climo'}, 'refDataModel': {'type': 'Relationship', 'value': 'https://raw.githubusercontent.com/iudx/iudx-ld/master/data_models/environment/airQuality/env_aqm_climoPune_0.json'}, 'updatedAt': {'type': 'TimeProperty', 'value': 'Fri Nov 01 05:30:28 UTC 2019'}, 'NAME': {'type': 'Property', 'value': 'Market Yard Junction_2'}, 'createdAt': {'type': 'TimeProperty', 'value': 'Fri Nov 01 05:30:28 UTC 2019'}, 'resourceServer': {'type': 'Relationship', 'value': 'urn:iudx-catalogue-pune:pudx-resource-server'}, 'itemStatus': {'type': 'Property', 'value': 'active'}, 'location': {'type': 'GeoProperty', 'value': {'address': 'ABD area, Pune', 'geometry': {'type': 'Point', 'coordinates': [73.857307, 18.489599]}}}, 'provider': {'type': 'Relationship', 'value': 'urn:iudx-catalogue-pune:pscdcl'}, 'resourceId': {'type': 'Property', 'value': 'Market Yard Junction_2'}, 'deviceModelInfo': {'type': 'Property', 'value': {'url': 'http://www.boschclimo.com/', 'brand': 'Climo', 'model': 'Bosch-Climo'}}, 'DEVICEID': {'type': 'Property', 'value': 'c37c6979-6802-4a1c-c852-609b7706f5ba'}}, {'onboardedBy': 'Technical consultant at rbccps.org', 'itemDescription': 'Describes Air Quality Monitoring (AQM) Resource.', '@context': ['https://raw.githubusercontent.com/iudx/iudx-ld/master/data_models/environment/airQuality/env_aqm_climoPune_0.json'], 'id': 'rbccps.org/aa9d66a000d94a78895de8d4c0b3a67f3450e531/pudx-resource-server/aqm-bosch-climo/Mundhwa Road Junction_51', 'refBaseSchema': {'type': 'Relationship', 'value': 'https://raw.githubusercontent.com/iudx/iudx-ld/master/base_schemas/v0.0.0/resourceItem_schema.json'}, 'itemType': {'type': 'Property', 'value': 'resourceItem'}, 'tags': {'type': 'Property', 'value': ['environment', 'air quality', 'air', 'aqi', 'aqm', 'climo', 'climate', 'pollution', 'so2', 'co2', 'co', 'no', 'no2', 'pm2.5', 'pm25', 'lux', 'pm10', 'humidity', 'temperature', 'ozone', 'o3', 'noise', 'light', 'uv']}, 'resourceServerGroup': {'type': 'Relationship', 'value': 'urn:iudx-catalogue-pune:pudx-resource-server/aqm-bosch-climo'}, 'refDataModel': {'type': 'Relationship', 'value': 'https://raw.githubusercontent.com/iudx/iudx-ld/master/data_models/environment/airQuality/env_aqm_climoPune_0.json'}, 'updatedAt': {'type': 'TimeProperty', 'value': 'Fri Nov 01 05:30:30 UTC 2019'}, 'NAME': {'type': 'Property', 'value': 'Mundhwa Road Junction_51'}, 'createdAt': {'type': 'TimeProperty', 'value': 'Fri Nov 01 05:30:30 UTC 2019'}, 'resourceServer': {'type': 'Relationship', 'value': 'urn:iudx-catalogue-pune:pudx-resource-server'}, 'itemStatus': {'type': 'Property', 'value': 'active'}, 'location': {'type': 'GeoProperty', 'value': {'address': 'ABD area, Pune', 'geometry': {'type': 'Point', 'coordinates': [73.932817, 18.532934]}}}, 'provider': {'type': 'Relationship', 'value': 'urn:iudx-catalogue-pune:pscdcl'}, 'resourceId': {'type': 'Property', 'value': 'Mundhwa Road Junction_51'}, 'deviceModelInfo': {'type': 'Property', 'value': {'url': 'http://www.boschclimo.com/', 'brand': 'Climo', 'model': 'Bosch-Climo'}}, 'DEVICEID': {'type': 'Property', 'value': 'f40c0b8e-248f-9f62-414e-7e2a7065d53e'}}, {'onboardedBy': 'Technical consultant at rbccps.org', 'itemDescription': 'Describes Air Quality Monitoring (AQM) Resource.', '@context': ['https://raw.githubusercontent.com/iudx/iudx-ld/master/data_models/environment/airQuality/env_aqm_climoPune_0.json'], 'id': 'rbccps.org/aa9d66a000d94a78895de8d4c0b3a67f3450e531/pudx-resource-server/aqm-bosch-climo/Nanded City Entry_42', 'refBaseSchema': {'type': 'Relationship', 'value': 'https://raw.githubusercontent.com/iudx/iudx-ld/master/base_schemas/v0.0.0/resourceItem_schema.json'}, 'itemType': {'type': 'Property', 'value': 'resourceItem'}, 'tags': {'type': 'Property', 'value': ['environment', 'air quality', 'air', 'aqi', 'aqm', 'climo', 'climate', 'pollution', 'so2', 'co2', 'co', 'no', 'no2', 'pm2.5', 'pm25', 'lux', 'pm10', 'humidity', 'temperature', 'ozone', 'o3', 'noise', 'light', 'uv']}, 'resourceServerGroup': {'type': 'Relationship', 'value': 'urn:iudx-catalogue-pune:pudx-resource-server/aqm-bosch-climo'}, 'refDataModel': {'type': 'Relationship', 'value': 'https://raw.githubusercontent.com/iudx/iudx-ld/master/data_models/environment/airQuality/env_aqm_climoPune_0.json'}, 'updatedAt': {'type': 'TimeProperty', 'value': 'Fri Nov 01 05:30:32 UTC 2019'}, 'NAME': {'type': 'Property', 'value': 'Nanded City Entry_42'}, 'createdAt': {'type': 'TimeProperty', 'value': 'Fri Nov 01 05:30:32 UTC 2019'}, 'resourceServer': {'type': 'Relationship', 'value': 'urn:iudx-catalogue-pune:pudx-resource-server'}, 'itemStatus': {'type': 'Property', 'value': 'active'}, 'location': {'type': 'GeoProperty', 'value': {'address': 'ABD area, Pune', 'geometry': {'type': 'Point', 'coordinates': [73.801601, 18.456863]}}}, 'provider': {'type': 'Relationship', 'value': 'urn:iudx-catalogue-pune:pscdcl'}, 'resourceId': {'type': 'Property', 'value': 'Nanded City Entry_42'}, 'deviceModelInfo': {'type': 'Property', 'value': {'url': 'http://www.boschclimo.com/', 'brand': 'Climo', 'model': 'Bosch-Climo'}}, 'DEVICEID': {'type': 'Property', 'value': '52e11fbe-2458-987f-b756-8c5cab1f051e'}}, {'onboardedBy': 'Technical consultant at rbccps.org', 'itemDescription': 'Describes Air Quality Monitoring (AQM) Resource.', '@context': ['https://raw.githubusercontent.com/iudx/iudx-ld/master/data_models/environment/airQuality/env_aqm_climoPune_0.json'], 'id': 'rbccps.org/aa9d66a000d94a78895de8d4c0b3a67f3450e531/pudx-resource-server/aqm-bosch-climo/Noble Hospital junction_35', 'refBaseSchema': {'type': 'Relationship', 'value': 'https://raw.githubusercontent.com/iudx/iudx-ld/master/base_schemas/v0.0.0/resourceItem_schema.json'}, 'itemType': {'type': 'Property', 'value': 'resourceItem'}, 'tags': {'type': 'Property', 'value': ['environment', 'air quality', 'air', 'aqi', 'aqm', 'climo', 'climate', 'pollution', 'so2', 'co2', 'co', 'no', 'no2', 'pm2.5', 'pm25', 'lux', 'pm10', 'humidity', 'temperature', 'ozone', 'o3', 'noise', 'light', 'uv']}, 'resourceServerGroup': {'type': 'Relationship', 'value': 'urn:iudx-catalogue-pune:pudx-resource-server/aqm-bosch-climo'}, 'refDataModel': {'type': 'Relationship', 'value': 'https://raw.githubusercontent.com/iudx/iudx-ld/master/data_models/environment/airQuality/env_aqm_climoPune_0.json'}, 'updatedAt': {'type': 'TimeProperty', 'value': 'Fri Nov 01 05:30:33 UTC 2019'}, 'NAME': {'type': 'Property', 'value': 'Noble Hospital junction_35'}, 'createdAt': {'type': 'TimeProperty', 'value': 'Fri Nov 01 05:30:33 UTC 2019'}, 'resourceServer': {'type': 'Relationship', 'value': 'urn:iudx-catalogue-pune:pudx-resource-server'}, 'itemStatus': {'type': 'Property', 'value': 'active'}, 'location': {'type': 'GeoProperty', 'value': {'address': 'ABD area, Pune', 'geometry': {'type': 'Point', 'coordinates': [73.927285, 18.502712]}}}, 'provider': {'type': 'Relationship', 'value': 'urn:iudx-catalogue-pune:pscdcl'}, 'resourceId': {'type': 'Property', 'value': 'Noble Hospital junction_35'}, 'deviceModelInfo': {'type': 'Property', 'value': {'url': 'http://www.boschclimo.com/', 'brand': 'Climo', 'model': 'Bosch-Climo'}}, 'DEVICEID': {'type': 'Property', 'value': 'db3d6ea0-a84a-b3d6-7ec9-71ae66736273'}}, {'onboardedBy': 'Technical consultant at rbccps.org', 'itemDescription': 'Describes Air Quality Monitoring (AQM) Resource.', '@context': ['https://raw.githubusercontent.com/iudx/iudx-ld/master/data_models/environment/airQuality/env_aqm_climoPune_0.json'], 'id': 'rbccps.org/aa9d66a000d94a78895de8d4c0b3a67f3450e531/pudx-resource-server/aqm-bosch-climo/PMPML_Bus_Depot_Deccan_15', 'refBaseSchema': {'type': 'Relationship', 'value': 'https://raw.githubusercontent.com/iudx/iudx-ld/master/base_schemas/v0.0.0/resourceItem_schema.json'}, 'itemType': {'type': 'Property', 'value': 'resourceItem'}, 'tags': {'type': 'Property', 'value': ['environment', 'air quality', 'air', 'aqi', 'aqm', 'climo', 'climate', 'pollution', 'so2', 'co2', 'co', 'no', 'no2', 'pm2.5', 'pm25', 'lux', 'pm10', 'humidity', 'temperature', 'ozone', 'o3', 'noise', 'light', 'uv']}, 'resourceServerGroup': {'type': 'Relationship', 'value': 'urn:iudx-catalogue-pune:pudx-resource-server/aqm-bosch-climo'}, 'refDataModel': {'type': 'Relationship', 'value': 'https://raw.githubusercontent.com/iudx/iudx-ld/master/data_models/environment/airQuality/env_aqm_climoPune_0.json'}, 'updatedAt': {'type': 'TimeProperty', 'value': 'Fri Nov 01 05:30:35 UTC 2019'}, 'NAME': {'type': 'Property', 'value': 'PMPML_Bus_Depot_Deccan_15'}, 'createdAt': {'type': 'TimeProperty', 'value': 'Fri Nov 01 05:30:35 UTC 2019'}, 'resourceServer': {'type': 'Relationship', 'value': 'urn:iudx-catalogue-pune:pudx-resource-server'}, 'itemStatus': {'type': 'Property', 'value': 'active'}, 'location': {'type': 'GeoProperty', 'value': {'address': 'ABD area, Pune', 'geometry': {'type': 'Point', 'coordinates': [73.842727, 18.516163]}}}, 'provider': {'type': 'Relationship', 'value': 'urn:iudx-catalogue-pune:pscdcl'}, 'resourceId': {'type': 'Property', 'value': 'PMPML_Bus_Depot_Deccan_15'}, 'deviceModelInfo': {'type': 'Property', 'value': {'url': 'http://www.boschclimo.com/', 'brand': 'Climo', 'model': 'Bosch-Climo'}}, 'DEVICEID': {'type': 'Property', 'value': 'c7b8f786-2f89-116f-d98d-8c54bfc7caaf'}}, {'onboardedBy': 'Technical consultant at rbccps.org', 'itemDescription': 'Describes Air Quality Monitoring (AQM) Resource.', '@context': ['https://raw.githubusercontent.com/iudx/iudx-ld/master/data_models/environment/airQuality/env_aqm_climoPune_0.json'], 'id': 'rbccps.org/aa9d66a000d94a78895de8d4c0b3a67f3450e531/pudx-resource-server/aqm-bosch-climo/PMPML Katraj_Depot_New_26', 'refBaseSchema': {'type': 'Relationship', 'value': 'https://raw.githubusercontent.com/iudx/iudx-ld/master/base_schemas/v0.0.0/resourceItem_schema.json'}, 'itemType': {'type': 'Property', 'value': 'resourceItem'}, 'tags': {'type': 'Property', 'value': ['environment', 'air quality', 'air', 'aqi', 'aqm', 'climo', 'climate', 'pollution', 'so2', 'co2', 'co', 'no', 'no2', 'pm2.5', 'pm25', 'lux', 'pm10', 'humidity', 'temperature', 'ozone', 'o3', 'noise', 'light', 'uv']}, 'resourceServerGroup': {'type': 'Relationship', 'value': 'urn:iudx-catalogue-pune:pudx-resource-server/aqm-bosch-climo'}, 'refDataModel': {'type': 'Relationship', 'value': 'https://raw.githubusercontent.com/iudx/iudx-ld/master/data_models/environment/airQuality/env_aqm_climoPune_0.json'}, 'updatedAt': {'type': 'TimeProperty', 'value': 'Fri Nov 01 05:30:37 UTC 2019'}, 'NAME': {'type': 'Property', 'value': 'PMPML Katraj_Depot_New_26'}, 'createdAt': {'type': 'TimeProperty', 'value': 'Fri Nov 01 05:30:37 UTC 2019'}, 'resourceServer': {'type': 'Relationship', 'value': 'urn:iudx-catalogue-pune:pudx-resource-server'}, 'itemStatus': {'type': 'Property', 'value': 'active'}, 'location': {'type': 'GeoProperty', 'value': {'address': 'ABD area, Pune', 'geometry': {'type': 'Point', 'coordinates': [73.858556, 18.447118]}}}, 'provider': {'type': 'Relationship', 'value': 'urn:iudx-catalogue-pune:pscdcl'}, 'resourceId': {'type': 'Property', 'value': 'PMPML Katraj_Depot_New_26'}, 'deviceModelInfo': {'type': 'Property', 'value': {'url': 'http://www.boschclimo.com/', 'brand': 'Climo', 'model': 'Bosch-Climo'}}, 'DEVICEID': {'type': 'Property', 'value': '02b868e6-59f7-9359-3ae3-6feaf0e6bd9f'}}, {'onboardedBy': 'Technical consultant at rbccps.org', 'itemDescription': 'Describes Air Quality Monitoring (AQM) Resource.', '@context': ['https://raw.githubusercontent.com/iudx/iudx-ld/master/data_models/environment/airQuality/env_aqm_climoPune_0.json'], 'id': 'rbccps.org/aa9d66a000d94a78895de8d4c0b3a67f3450e531/pudx-resource-server/aqm-bosch-climo/Pune Railway Station_28', 'refBaseSchema': {'type': 'Relationship', 'value': 'https://raw.githubusercontent.com/iudx/iudx-ld/master/base_schemas/v0.0.0/resourceItem_schema.json'}, 'itemType': {'type': 'Property', 'value': 'resourceItem'}, 'tags': {'type': 'Property', 'value': ['environment', 'air quality', 'air', 'aqi', 'aqm', 'climo', 'climate', 'pollution', 'so2', 'co2', 'co', 'no', 'no2', 'pm2.5', 'pm25', 'lux', 'pm10', 'humidity', 'temperature', 'ozone', 'o3', 'noise', 'light', 'uv']}, 'resourceServerGroup': {'type': 'Relationship', 'value': 'urn:iudx-catalogue-pune:pudx-resource-server/aqm-bosch-climo'}, 'refDataModel': {'type': 'Relationship', 'value': 'https://raw.githubusercontent.com/iudx/iudx-ld/master/data_models/environment/airQuality/env_aqm_climoPune_0.json'}, 'updatedAt': {'type': 'TimeProperty', 'value': 'Fri Nov 01 05:30:38 UTC 2019'}, 'NAME': {'type': 'Property', 'value': 'Pune Railway Station_28'}, 'createdAt': {'type': 'TimeProperty', 'value': 'Fri Nov 01 05:30:38 UTC 2019'}, 'resourceServer': {'type': 'Relationship', 'value': 'urn:iudx-catalogue-pune:pudx-resource-server'}, 'itemStatus': {'type': 'Property', 'value': 'active'}, 'location': {'type': 'GeoProperty', 'value': {'address': 'ABD area, Pune', 'geometry': {'type': 'Point', 'coordinates': [73.874537, 18.528311]}}}, 'provider': {'type': 'Relationship', 'value': 'urn:iudx-catalogue-pune:pscdcl'}, 'resourceId': {'type': 'Property', 'value': 'Pune Railway Station_28'}, 'deviceModelInfo': {'type': 'Property', 'value': {'url': 'http://www.boschclimo.com/', 'brand': 'Climo', 'model': 'Bosch-Climo'}}, 'DEVICEID': {'type': 'Property', 'value': 'b3ec32ff-fa7d-64fa-c0af-272e25d314e9'}}, {'onboardedBy': 'Technical consultant at rbccps.org', 'itemDescription': 'Describes Air Quality Monitoring (AQM) Resource.', '@context': ['https://raw.githubusercontent.com/iudx/iudx-ld/master/data_models/environment/airQuality/env_aqm_climoPune_0.json'], 'id': 'rbccps.org/aa9d66a000d94a78895de8d4c0b3a67f3450e531/pudx-resource-server/aqm-bosch-climo/Pune_ST_Stand_40', 'refBaseSchema': {'type': 'Relationship', 'value': 'https://raw.githubusercontent.com/iudx/iudx-ld/master/base_schemas/v0.0.0/resourceItem_schema.json'}, 'itemType': {'type': 'Property', 'value': 'resourceItem'}, 'tags': {'type': 'Property', 'value': ['environment', 'air quality', 'air', 'aqi', 'aqm', 'climo', 'climate', 'pollution', 'so2', 'co2', 'co', 'no', 'no2', 'pm2.5', 'pm25', 'lux', 'pm10', 'humidity', 'temperature', 'ozone', 'o3', 'noise', 'light', 'uv']}, 'resourceServerGroup': {'type': 'Relationship', 'value': 'urn:iudx-catalogue-pune:pudx-resource-server/aqm-bosch-climo'}, 'refDataModel': {'type': 'Relationship', 'value': 'https://raw.githubusercontent.com/iudx/iudx-ld/master/data_models/environment/airQuality/env_aqm_climoPune_0.json'}, 'updatedAt': {'type': 'TimeProperty', 'value': 'Fri Nov 01 05:30:40 UTC 2019'}, 'NAME': {'type': 'Property', 'value': 'Pune_ST_Stand_40'}, 'createdAt': {'type': 'TimeProperty', 'value': 'Fri Nov 01 05:30:40 UTC 2019'}, 'resourceServer': {'type': 'Relationship', 'value': 'urn:iudx-catalogue-pune:pudx-resource-server'}, 'itemStatus': {'type': 'Property', 'value': 'active'}, 'location': {'type': 'GeoProperty', 'value': {'address': 'ABD area, Pune', 'geometry': {'type': 'Point', 'coordinates': [73.8723841, 18.527615]}}}, 'provider': {'type': 'Relationship', 'value': 'urn:iudx-catalogue-pune:pscdcl'}, 'resourceId': {'type': 'Property', 'value': 'Pune_ST_Stand_40'}, 'deviceModelInfo': {'type': 'Property', 'value': {'url': 'http://www.boschclimo.com/', 'brand': 'Climo', 'model': 'Bosch-Climo'}}, 'DEVICEID': {'type': 'Property', 'value': '184ba502-22a8-ad15-a8f1-c966cd3aa7a7'}}, {'onboardedBy': 'Technical consultant at rbccps.org', 'itemDescription': 'Describes Air Quality Monitoring (AQM) Resource.', '@context': ['https://raw.githubusercontent.com/iudx/iudx-ld/master/data_models/environment/airQuality/env_aqm_climoPune_0.json'], 'id': 'rbccps.org/aa9d66a000d94a78895de8d4c0b3a67f3450e531/pudx-resource-server/aqm-bosch-climo/Rajashri_Shahu_Bus_stand_19', 'refBaseSchema': {'type': 'Relationship', 'value': 'https://raw.githubusercontent.com/iudx/iudx-ld/master/base_schemas/v0.0.0/resourceItem_schema.json'}, 'itemType': {'type': 'Property', 'value': 'resourceItem'}, 'tags': {'type': 'Property', 'value': ['environment', 'air quality', 'air', 'aqi', 'aqm', 'climo', 'climate', 'pollution', 'so2', 'co2', 'co', 'no', 'no2', 'pm2.5', 'pm25', 'lux', 'pm10', 'humidity', 'temperature', 'ozone', 'o3', 'noise', 'light', 'uv']}, 'resourceServerGroup': {'type': 'Relationship', 'value': 'urn:iudx-catalogue-pune:pudx-resource-server/aqm-bosch-climo'}, 'refDataModel': {'type': 'Relationship', 'value': 'https://raw.githubusercontent.com/iudx/iudx-ld/master/data_models/environment/airQuality/env_aqm_climoPune_0.json'}, 'updatedAt': {'type': 'TimeProperty', 'value': 'Fri Nov 01 05:30:42 UTC 2019'}, 'NAME': {'type': 'Property', 'value': 'Rajashri_Shahu_Bus_stand_19'}, 'createdAt': {'type': 'TimeProperty', 'value': 'Fri Nov 01 05:30:42 UTC 2019'}, 'resourceServer': {'type': 'Relationship', 'value': 'urn:iudx-catalogue-pune:pudx-resource-server'}, 'itemStatus': {'type': 'Property', 'value': 'active'}, 'location': {'type': 'GeoProperty', 'value': {'address': 'ABD area, Pune', 'geometry': {'type': 'Point', 'coordinates': [73.857933, 18.498504]}}}, 'provider': {'type': 'Relationship', 'value': 'urn:iudx-catalogue-pune:pscdcl'}, 'resourceId': {'type': 'Property', 'value': 'Rajashri_Shahu_Bus_stand_19'}, 'deviceModelInfo': {'type': 'Property', 'value': {'url': 'http://www.boschclimo.com/', 'brand': 'Climo', 'model': 'Bosch-Climo'}}, 'DEVICEID': {'type': 'Property', 'value': '64131670-4db5-8b9b-6a81-7ddc23f176fd'}}, {'onboardedBy': 'Technical consultant at rbccps.org', 'itemDescription': 'Describes Air Quality Monitoring (AQM) Resource.', '@context': ['https://raw.githubusercontent.com/iudx/iudx-ld/master/data_models/environment/airQuality/env_aqm_climoPune_0.json'], 'id': 'rbccps.org/aa9d66a000d94a78895de8d4c0b3a67f3450e531/pudx-resource-server/aqm-bosch-climo/RTO Square_8', 'refBaseSchema': {'type': 'Relationship', 'value': 'https://raw.githubusercontent.com/iudx/iudx-ld/master/base_schemas/v0.0.0/resourceItem_schema.json'}, 'itemType': {'type': 'Property', 'value': 'resourceItem'}, 'tags': {'type': 'Property', 'value': ['environment', 'air quality', 'air', 'aqi', 'aqm', 'climo', 'climate', 'pollution', 'so2', 'co2', 'co', 'no', 'no2', 'pm2.5', 'pm25', 'lux', 'pm10', 'humidity', 'temperature', 'ozone', 'o3', 'noise', 'light', 'uv']}, 'resourceServerGroup': {'type': 'Relationship', 'value': 'urn:iudx-catalogue-pune:pudx-resource-server/aqm-bosch-climo'}, 'refDataModel': {'type': 'Relationship', 'value': 'https://raw.githubusercontent.com/iudx/iudx-ld/master/data_models/environment/airQuality/env_aqm_climoPune_0.json'}, 'updatedAt': {'type': 'TimeProperty', 'value': 'Fri Nov 01 05:30:43 UTC 2019'}, 'NAME': {'type': 'Property', 'value': 'RTO Square_8'}, 'createdAt': {'type': 'TimeProperty', 'value': 'Fri Nov 01 05:30:43 UTC 2019'}, 'resourceServer': {'type': 'Relationship', 'value': 'urn:iudx-catalogue-pune:pudx-resource-server'}, 'itemStatus': {'type': 'Property', 'value': 'active'}, 'location': {'type': 'GeoProperty', 'value': {'address': 'ABD area, Pune', 'geometry': {'type': 'Point', 'coordinates': [73.863395, 18.529578]}}}, 'provider': {'type': 'Relationship', 'value': 'urn:iudx-catalogue-pune:pscdcl'}, 'resourceId': {'type': 'Property', 'value': 'RTO Square_8'}, 'deviceModelInfo': {'type': 'Property', 'value': {'url': 'http://www.boschclimo.com/', 'brand': 'Climo', 'model': 'Bosch-Climo'}}, 'DEVICEID': {'type': 'Property', 'value': '0ede317b-62b5-86e2-de37-604271f37d73'}}, {'onboardedBy': 'Technical consultant at rbccps.org', 'itemDescription': 'Describes Air Quality Monitoring (AQM) Resource.', '@context': ['https://raw.githubusercontent.com/iudx/iudx-ld/master/data_models/environment/airQuality/env_aqm_climoPune_0.json'], 'id': 'rbccps.org/aa9d66a000d94a78895de8d4c0b3a67f3450e531/pudx-resource-server/aqm-bosch-climo/Sadanand Hotel Square_39', 'refBaseSchema': {'type': 'Relationship', 'value': 'https://raw.githubusercontent.com/iudx/iudx-ld/master/base_schemas/v0.0.0/resourceItem_schema.json'}, 'itemType': {'type': 'Property', 'value': 'resourceItem'}, 'tags': {'type': 'Property', 'value': ['environment', 'air quality', 'air', 'aqi', 'aqm', 'climo', 'climate', 'pollution', 'so2', 'co2', 'co', 'no', 'no2', 'pm2.5', 'pm25', 'lux', 'pm10', 'humidity', 'temperature', 'ozone', 'o3', 'noise', 'light', 'uv']}, 'resourceServerGroup': {'type': 'Relationship', 'value': 'urn:iudx-catalogue-pune:pudx-resource-server/aqm-bosch-climo'}, 'refDataModel': {'type': 'Relationship', 'value': 'https://raw.githubusercontent.com/iudx/iudx-ld/master/data_models/environment/airQuality/env_aqm_climoPune_0.json'}, 'updatedAt': {'type': 'TimeProperty', 'value': 'Fri Nov 01 05:30:45 UTC 2019'}, 'NAME': {'type': 'Property', 'value': 'Sadanand Hotel Square_39'}, 'createdAt': {'type': 'TimeProperty', 'value': 'Fri Nov 01 05:30:45 UTC 2019'}, 'resourceServer': {'type': 'Relationship', 'value': 'urn:iudx-catalogue-pune:pudx-resource-server'}, 'itemStatus': {'type': 'Property', 'value': 'active'}, 'location': {'type': 'GeoProperty', 'value': {'address': 'ABD area, Pune', 'geometry': {'type': 'Point', 'coordinates': [73.766392, 18.56857]}}}, 'provider': {'type': 'Relationship', 'value': 'urn:iudx-catalogue-pune:pscdcl'}, 'resourceId': {'type': 'Property', 'value': 'Sadanand Hotel Square_39'}, 'deviceModelInfo': {'type': 'Property', 'value': {'url': 'http://www.boschclimo.com/', 'brand': 'Climo', 'model': 'Bosch-Climo'}}, 'DEVICEID': {'type': 'Property', 'value': '763f8470-1fca-6f8b-3a8b-ee883a0c5f06'}}, {'onboardedBy': 'Technical consultant at rbccps.org', 'itemDescription': 'Describes Air Quality Monitoring (AQM) Resource.', '@context': ['https://raw.githubusercontent.com/iudx/iudx-ld/master/data_models/environment/airQuality/env_aqm_climoPune_0.json'], 'id': 'rbccps.org/aa9d66a000d94a78895de8d4c0b3a67f3450e531/pudx-resource-server/aqm-bosch-climo/Sadhu_Wasvani_Square_24', 'refBaseSchema': {'type': 'Relationship', 'value': 'https://raw.githubusercontent.com/iudx/iudx-ld/master/base_schemas/v0.0.0/resourceItem_schema.json'}, 'itemType': {'type': 'Property', 'value': 'resourceItem'}, 'tags': {'type': 'Property', 'value': ['environment', 'air quality', 'air', 'aqi', 'aqm', 'climo', 'climate', 'pollution', 'so2', 'co2', 'co', 'no', 'no2', 'pm2.5', 'pm25', 'lux', 'pm10', 'humidity', 'temperature', 'ozone', 'o3', 'noise', 'light', 'uv']}, 'resourceServerGroup': {'type': 'Relationship', 'value': 'urn:iudx-catalogue-pune:pudx-resource-server/aqm-bosch-climo'}, 'refDataModel': {'type': 'Relationship', 'value': 'https://raw.githubusercontent.com/iudx/iudx-ld/master/data_models/environment/airQuality/env_aqm_climoPune_0.json'}, 'updatedAt': {'type': 'TimeProperty', 'value': 'Fri Nov 01 05:30:46 UTC 2019'}, 'NAME': {'type': 'Property', 'value': 'Sadhu_Wasvani_Square_24'}, 'createdAt': {'type': 'TimeProperty', 'value': 'Fri Nov 01 05:30:46 UTC 2019'}, 'resourceServer': {'type': 'Relationship', 'value': 'urn:iudx-catalogue-pune:pudx-resource-server'}, 'itemStatus': {'type': 'Property', 'value': 'active'}, 'location': {'type': 'GeoProperty', 'value': {'address': 'ABD area, Pune', 'geometry': {'type': 'Point', 'coordinates': [73.876484, 18.525007]}}}, 'provider': {'type': 'Relationship', 'value': 'urn:iudx-catalogue-pune:pscdcl'}, 'resourceId': {'type': 'Property', 'value': 'Sadhu_Wasvani_Square_24'}, 'deviceModelInfo': {'type': 'Property', 'value': {'url': 'http://www.boschclimo.com/', 'brand': 'Climo', 'model': 'Bosch-Climo'}}, 'DEVICEID': {'type': 'Property', 'value': 'a70a062d-1bc8-ba77-a530-af9b5d4f2145'}}, {'onboardedBy': 'Technical consultant at rbccps.org', 'itemDescription': 'Describes Air Quality Monitoring (AQM) Resource.', '@context': ['https://raw.githubusercontent.com/iudx/iudx-ld/master/data_models/environment/airQuality/env_aqm_climoPune_0.json'], 'id': 'rbccps.org/aa9d66a000d94a78895de8d4c0b3a67f3450e531/pudx-resource-server/aqm-bosch-climo/Seven Loves Square_16', 'refBaseSchema': {'type': 'Relationship', 'value': 'https://raw.githubusercontent.com/iudx/iudx-ld/master/base_schemas/v0.0.0/resourceItem_schema.json'}, 'itemType': {'type': 'Property', 'value': 'resourceItem'}, 'tags': {'type': 'Property', 'value': ['environment', 'air quality', 'air', 'aqi', 'aqm', 'climo', 'climate', 'pollution', 'so2', 'co2', 'co', 'no', 'no2', 'pm2.5', 'pm25', 'lux', 'pm10', 'humidity', 'temperature', 'ozone', 'o3', 'noise', 'light', 'uv']}, 'resourceServerGroup': {'type': 'Relationship', 'value': 'urn:iudx-catalogue-pune:pudx-resource-server/aqm-bosch-climo'}, 'refDataModel': {'type': 'Relationship', 'value': 'https://raw.githubusercontent.com/iudx/iudx-ld/master/data_models/environment/airQuality/env_aqm_climoPune_0.json'}, 'updatedAt': {'type': 'TimeProperty', 'value': 'Fri Nov 01 05:30:48 UTC 2019'}, 'NAME': {'type': 'Property', 'value': 'Seven Loves Square_16'}, 'createdAt': {'type': 'TimeProperty', 'value': 'Fri Nov 01 05:30:48 UTC 2019'}, 'resourceServer': {'type': 'Relationship', 'value': 'urn:iudx-catalogue-pune:pudx-resource-server'}, 'itemStatus': {'type': 'Property', 'value': 'active'}, 'location': {'type': 'GeoProperty', 'value': {'address': 'ABD area, Pune', 'geometry': {'type': 'Point', 'coordinates': [73.8693985, 18.5013059]}}}, 'provider': {'type': 'Relationship', 'value': 'urn:iudx-catalogue-pune:pscdcl'}, 'resourceId': {'type': 'Property', 'value': 'Seven Loves Square_16'}, 'deviceModelInfo': {'type': 'Property', 'value': {'url': 'http://www.boschclimo.com/', 'brand': 'Climo', 'model': 'Bosch-Climo'}}, 'DEVICEID': {'type': 'Property', 'value': '388977ff-210f-b2f4-19e6-c619669708a2'}}, {'onboardedBy': 'Technical consultant at rbccps.org', 'itemDescription': 'Describes Air Quality Monitoring (AQM) Resource.', '@context': ['https://raw.githubusercontent.com/iudx/iudx-ld/master/data_models/environment/airQuality/env_aqm_climoPune_0.json'], 'id': 'rbccps.org/aa9d66a000d94a78895de8d4c0b3a67f3450e531/pudx-resource-server/aqm-bosch-climo/Shimla Office Square (Shivaji Nagar Chowk)_33', 'refBaseSchema': {'type': 'Relationship', 'value': 'https://raw.githubusercontent.com/iudx/iudx-ld/master/base_schemas/v0.0.0/resourceItem_schema.json'}, 'itemType': {'type': 'Property', 'value': 'resourceItem'}, 'tags': {'type': 'Property', 'value': ['environment', 'air quality', 'air', 'aqi', 'aqm', 'climo', 'climate', 'pollution', 'so2', 'co2', 'co', 'no', 'no2', 'pm2.5', 'pm25', 'lux', 'pm10', 'humidity', 'temperature', 'ozone', 'o3', 'noise', 'light', 'uv']}, 'resourceServerGroup': {'type': 'Relationship', 'value': 'urn:iudx-catalogue-pune:pudx-resource-server/aqm-bosch-climo'}, 'refDataModel': {'type': 'Relationship', 'value': 'https://raw.githubusercontent.com/iudx/iudx-ld/master/data_models/environment/airQuality/env_aqm_climoPune_0.json'}, 'updatedAt': {'type': 'TimeProperty', 'value': 'Fri Nov 01 05:30:50 UTC 2019'}, 'NAME': {'type': 'Property', 'value': 'Shimla Office Square (Shivaji Nagar Chowk)_33'}, 'createdAt': {'type': 'TimeProperty', 'value': 'Fri Nov 01 05:30:50 UTC 2019'}, 'resourceServer': {'type': 'Relationship', 'value': 'urn:iudx-catalogue-pune:pudx-resource-server'}, 'itemStatus': {'type': 'Property', 'value': 'active'}, 'location': {'type': 'GeoProperty', 'value': {'address': 'ABD area, Pune', 'geometry': {'type': 'Point', 'coordinates': [73.84992, 18.530344]}}}, 'provider': {'type': 'Relationship', 'value': 'urn:iudx-catalogue-pune:pscdcl'}, 'resourceId': {'type': 'Property', 'value': 'Shimla Office Square (Shivaji Nagar Chowk)_33'}, 'deviceModelInfo': {'type': 'Property', 'value': {'url': 'http://www.boschclimo.com/', 'brand': 'Climo', 'model': 'Bosch-Climo'}}, 'DEVICEID': {'type': 'Property', 'value': '2353b250-df9a-4108-8e2c-240955969d7e'}}, {'onboardedBy': 'Technical consultant at rbccps.org', 'itemDescription': 'Describes Air Quality Monitoring (AQM) Resource.', '@context': ['https://raw.githubusercontent.com/iudx/iudx-ld/master/data_models/environment/airQuality/env_aqm_climoPune_0.json'], 'id': 'rbccps.org/aa9d66a000d94a78895de8d4c0b3a67f3450e531/pudx-resource-server/aqm-bosch-climo/Shivaji Nagar ST Stand_45', 'refBaseSchema': {'type': 'Relationship', 'value': 'https://raw.githubusercontent.com/iudx/iudx-ld/master/base_schemas/v0.0.0/resourceItem_schema.json'}, 'itemType': {'type': 'Property', 'value': 'resourceItem'}, 'tags': {'type': 'Property', 'value': ['environment', 'air quality', 'air', 'aqi', 'aqm', 'climo', 'climate', 'pollution', 'so2', 'co2', 'co', 'no', 'no2', 'pm2.5', 'pm25', 'lux', 'pm10', 'humidity', 'temperature', 'ozone', 'o3', 'noise', 'light', 'uv']}, 'resourceServerGroup': {'type': 'Relationship', 'value': 'urn:iudx-catalogue-pune:pudx-resource-server/aqm-bosch-climo'}, 'refDataModel': {'type': 'Relationship', 'value': 'https://raw.githubusercontent.com/iudx/iudx-ld/master/data_models/environment/airQuality/env_aqm_climoPune_0.json'}, 'updatedAt': {'type': 'TimeProperty', 'value': 'Fri Nov 01 05:30:51 UTC 2019'}, 'NAME': {'type': 'Property', 'value': 'Shivaji Nagar ST Stand_45'}, 'createdAt': {'type': 'TimeProperty', 'value': 'Fri Nov 01 05:30:51 UTC 2019'}, 'resourceServer': {'type': 'Relationship', 'value': 'urn:iudx-catalogue-pune:pudx-resource-server'}, 'itemStatus': {'type': 'Property', 'value': 'active'}, 'location': {'type': 'GeoProperty', 'value': {'address': 'ABD area, Pune', 'geometry': {'type': 'Point', 'coordinates': [73.8494754, 18.5320014]}}}, 'provider': {'type': 'Relationship', 'value': 'urn:iudx-catalogue-pune:pscdcl'}, 'resourceId': {'type': 'Property', 'value': 'Shivaji Nagar ST Stand_45'}, 'deviceModelInfo': {'type': 'Property', 'value': {'url': 'http://www.boschclimo.com/', 'brand': 'Climo', 'model': 'Bosch-Climo'}}, 'DEVICEID': {'type': 'Property', 'value': '9426e6f0-71cc-d3f1-6466-760ac8b655a2'}}, {'onboardedBy': 'Technical consultant at rbccps.org', 'itemDescription': 'Describes Air Quality Monitoring (AQM) Resource.', '@context': ['https://raw.githubusercontent.com/iudx/iudx-ld/master/data_models/environment/airQuality/env_aqm_climoPune_0.json'], 'id': 'rbccps.org/aa9d66a000d94a78895de8d4c0b3a67f3450e531/pudx-resource-server/aqm-bosch-climo/Shree Krishna Hotel Square _12', 'refBaseSchema': {'type': 'Relationship', 'value': 'https://raw.githubusercontent.com/iudx/iudx-ld/master/base_schemas/v0.0.0/resourceItem_schema.json'}, 'itemType': {'type': 'Property', 'value': 'resourceItem'}, 'tags': {'type': 'Property', 'value': ['environment', 'air quality', 'air', 'aqi', 'aqm', 'climo', 'climate', 'pollution', 'so2', 'co2', 'co', 'no', 'no2', 'pm2.5', 'pm25', 'lux', 'pm10', 'humidity', 'temperature', 'ozone', 'o3', 'noise', 'light', 'uv']}, 'resourceServerGroup': {'type': 'Relationship', 'value': 'urn:iudx-catalogue-pune:pudx-resource-server/aqm-bosch-climo'}, 'refDataModel': {'type': 'Relationship', 'value': 'https://raw.githubusercontent.com/iudx/iudx-ld/master/data_models/environment/airQuality/env_aqm_climoPune_0.json'}, 'updatedAt': {'type': 'TimeProperty', 'value': 'Fri Nov 01 05:30:53 UTC 2019'}, 'NAME': {'type': 'Property', 'value': 'Shree Krishna Hotel Square _12'}, 'createdAt': {'type': 'TimeProperty', 'value': 'Fri Nov 01 05:30:53 UTC 2019'}, 'resourceServer': {'type': 'Relationship', 'value': 'urn:iudx-catalogue-pune:pudx-resource-server'}, 'itemStatus': {'type': 'Property', 'value': 'active'}, 'location': {'type': 'GeoProperty', 'value': {'address': 'ABD area, Pune', 'geometry': {'type': 'Point', 'coordinates': [73.918006, 18.5652]}}}, 'provider': {'type': 'Relationship', 'value': 'urn:iudx-catalogue-pune:pscdcl'}, 'resourceId': {'type': 'Property', 'value': 'Shree Krishna Hotel Square _12'}, 'deviceModelInfo': {'type': 'Property', 'value': {'url': 'http://www.boschclimo.com/', 'brand': 'Climo', 'model': 'Bosch-Climo'}}, 'DEVICEID': {'type': 'Property', 'value': '503328c5-a2ac-bfae-fd08-cf2630f51a7b'}}, {'onboardedBy': 'Technical consultant at rbccps.org', 'itemDescription': 'Describes Air Quality Monitoring (AQM) Resource.', '@context': ['https://raw.githubusercontent.com/iudx/iudx-ld/master/data_models/environment/airQuality/env_aqm_climoPune_0.json'], 'id': 'rbccps.org/aa9d66a000d94a78895de8d4c0b3a67f3450e531/pudx-resource-server/aqm-bosch-climo/Sinhgad Road Junction_9', 'refBaseSchema': {'type': 'Relationship', 'value': 'https://raw.githubusercontent.com/iudx/iudx-ld/master/base_schemas/v0.0.0/resourceItem_schema.json'}, 'itemType': {'type': 'Property', 'value': 'resourceItem'}, 'tags': {'type': 'Property', 'value': ['environment', 'air quality', 'air', 'aqi', 'aqm', 'climo', 'climate', 'pollution', 'so2', 'co2', 'co', 'no', 'no2', 'pm2.5', 'pm25', 'lux', 'pm10', 'humidity', 'temperature', 'ozone', 'o3', 'noise', 'light', 'uv']}, 'resourceServerGroup': {'type': 'Relationship', 'value': 'urn:iudx-catalogue-pune:pudx-resource-server/aqm-bosch-climo'}, 'refDataModel': {'type': 'Relationship', 'value': 'https://raw.githubusercontent.com/iudx/iudx-ld/master/data_models/environment/airQuality/env_aqm_climoPune_0.json'}, 'updatedAt': {'type': 'TimeProperty', 'value': 'Fri Nov 01 05:30:55 UTC 2019'}, 'NAME': {'type': 'Property', 'value': 'Sinhgad Road Junction_9'}, 'createdAt': {'type': 'TimeProperty', 'value': 'Fri Nov 01 05:30:55 UTC 2019'}, 'resourceServer': {'type': 'Relationship', 'value': 'urn:iudx-catalogue-pune:pudx-resource-server'}, 'itemStatus': {'type': 'Property', 'value': 'active'}, 'location': {'type': 'GeoProperty', 'value': {'address': 'ABD area, Pune', 'geometry': {'type': 'Point', 'coordinates': [73.845483, 18.500949]}}}, 'provider': {'type': 'Relationship', 'value': 'urn:iudx-catalogue-pune:pscdcl'}, 'resourceId': {'type': 'Property', 'value': 'Sinhgad Road Junction_9'}, 'deviceModelInfo': {'type': 'Property', 'value': {'url': 'http://www.boschclimo.com/', 'brand': 'Climo', 'model': 'Bosch-Climo'}}, 'DEVICEID': {'type': 'Property', 'value': 'a1198ebc-db62-1c31-28c6-09d51441f153'}}, {'onboardedBy': 'Technical consultant at rbccps.org', 'itemDescription': 'Describes Air Quality Monitoring (AQM) Resource.', '@context': ['https://raw.githubusercontent.com/iudx/iudx-ld/master/data_models/environment/airQuality/env_aqm_climoPune_0.json'], 'id': 'rbccps.org/aa9d66a000d94a78895de8d4c0b3a67f3450e531/pudx-resource-server/aqm-bosch-climo/Susgaon_46', 'refBaseSchema': {'type': 'Relationship', 'value': 'https://raw.githubusercontent.com/iudx/iudx-ld/master/base_schemas/v0.0.0/resourceItem_schema.json'}, 'itemType': {'type': 'Property', 'value': 'resourceItem'}, 'tags': {'type': 'Property', 'value': ['environment', 'air quality', 'air', 'aqi', 'aqm', 'climo', 'climate', 'pollution', 'so2', 'co2', 'co', 'no', 'no2', 'pm2.5', 'pm25', 'lux', 'pm10', 'humidity', 'temperature', 'ozone', 'o3', 'noise', 'light', 'uv']}, 'resourceServerGroup': {'type': 'Relationship', 'value': 'urn:iudx-catalogue-pune:pudx-resource-server/aqm-bosch-climo'}, 'refDataModel': {'type': 'Relationship', 'value': 'https://raw.githubusercontent.com/iudx/iudx-ld/master/data_models/environment/airQuality/env_aqm_climoPune_0.json'}, 'updatedAt': {'type': 'TimeProperty', 'value': 'Fri Nov 01 05:30:57 UTC 2019'}, 'NAME': {'type': 'Property', 'value': 'Susgaon_46'}, 'createdAt': {'type': 'TimeProperty', 'value': 'Fri Nov 01 05:30:57 UTC 2019'}, 'resourceServer': {'type': 'Relationship', 'value': 'urn:iudx-catalogue-pune:pudx-resource-server'}, 'itemStatus': {'type': 'Property', 'value': 'active'}, 'location': {'type': 'GeoProperty', 'value': {'address': 'ABD area, Pune', 'geometry': {'type': 'Point', 'coordinates': [73.75385, 18.553421]}}}, 'provider': {'type': 'Relationship', 'value': 'urn:iudx-catalogue-pune:pscdcl'}, 'resourceId': {'type': 'Property', 'value': 'Susgaon_46'}, 'deviceModelInfo': {'type': 'Property', 'value': {'url': 'http://www.boschclimo.com/', 'brand': 'Climo', 'model': 'Bosch-Climo'}}, 'DEVICEID': {'type': 'Property', 'value': '3d3a569a-1a89-c3b6-671c-5675e4132c32'}}, {'onboardedBy': 'Technical consultant at rbccps.org', 'itemDescription': 'Describes Air Quality Monitoring (AQM) Resource.', '@context': ['https://raw.githubusercontent.com/iudx/iudx-ld/master/data_models/environment/airQuality/env_aqm_climoPune_0.json'], 'id': 'rbccps.org/aa9d66a000d94a78895de8d4c0b3a67f3450e531/pudx-resource-server/aqm-bosch-climo/Vadgaon_Sheri_Square_52', 'refBaseSchema': {'type': 'Relationship', 'value': 'https://raw.githubusercontent.com/iudx/iudx-ld/master/base_schemas/v0.0.0/resourceItem_schema.json'}, 'itemType': {'type': 'Property', 'value': 'resourceItem'}, 'tags': {'type': 'Property', 'value': ['environment', 'air quality', 'air', 'aqi', 'aqm', 'climo', 'climate', 'pollution', 'so2', 'co2', 'co', 'no', 'no2', 'pm2.5', 'pm25', 'lux', 'pm10', 'humidity', 'temperature', 'ozone', 'o3', 'noise', 'light', 'uv']}, 'resourceServerGroup': {'type': 'Relationship', 'value': 'urn:iudx-catalogue-pune:pudx-resource-server/aqm-bosch-climo'}, 'refDataModel': {'type': 'Relationship', 'value': 'https://raw.githubusercontent.com/iudx/iudx-ld/master/data_models/environment/airQuality/env_aqm_climoPune_0.json'}, 'updatedAt': {'type': 'TimeProperty', 'value': 'Fri Nov 01 05:30:59 UTC 2019'}, 'NAME': {'type': 'Property', 'value': 'Vadgaon_Sheri_Square_52'}, 'createdAt': {'type': 'TimeProperty', 'value': 'Fri Nov 01 05:30:59 UTC 2019'}, 'resourceServer': {'type': 'Relationship', 'value': 'urn:iudx-catalogue-pune:pudx-resource-server'}, 'itemStatus': {'type': 'Property', 'value': 'active'}, 'location': {'type': 'GeoProperty', 'value': {'address': 'ABD area, Pune', 'geometry': {'type': 'Point', 'coordinates': [73.9113707, 18.5583356]}}}, 'provider': {'type': 'Relationship', 'value': 'urn:iudx-catalogue-pune:pscdcl'}, 'resourceId': {'type': 'Property', 'value': 'Vadgaon_Sheri_Square_52'}, 'deviceModelInfo': {'type': 'Property', 'value': {'url': 'http://www.boschclimo.com/', 'brand': 'Climo', 'model': 'Bosch-Climo'}}, 'DEVICEID': {'type': 'Property', 'value': '6e5c898e-23ee-f77a-82f5-ebc4998f5f4a'}}, {'onboardedBy': 'Technical consultant at rbccps.org', 'itemDescription': 'Describes Air Quality Monitoring (AQM) Resource.', '@context': ['https://raw.githubusercontent.com/iudx/iudx-ld/master/data_models/environment/airQuality/env_aqm_climoPune_0.json'], 'id': 'rbccps.org/aa9d66a000d94a78895de8d4c0b3a67f3450e531/pudx-resource-server/aqm-bosch-climo/Vishrantwadi junction_6', 'refBaseSchema': {'type': 'Relationship', 'value': 'https://raw.githubusercontent.com/iudx/iudx-ld/master/base_schemas/v0.0.0/resourceItem_schema.json'}, 'itemType': {'type': 'Property', 'value': 'resourceItem'}, 'tags': {'type': 'Property', 'value': ['environment', 'air quality', 'air', 'aqi', 'aqm', 'climo', 'climate', 'pollution', 'so2', 'co2', 'co', 'no', 'no2', 'pm2.5', 'pm25', 'lux', 'pm10', 'humidity', 'temperature', 'ozone', 'o3', 'noise', 'light', 'uv']}, 'resourceServerGroup': {'type': 'Relationship', 'value': 'urn:iudx-catalogue-pune:pudx-resource-server/aqm-bosch-climo'}, 'refDataModel': {'type': 'Relationship', 'value': 'https://raw.githubusercontent.com/iudx/iudx-ld/master/data_models/environment/airQuality/env_aqm_climoPune_0.json'}, 'updatedAt': {'type': 'TimeProperty', 'value': 'Fri Nov 01 05:31:01 UTC 2019'}, 'NAME': {'type': 'Property', 'value': 'Vishrantwadi junction_6'}, 'createdAt': {'type': 'TimeProperty', 'value': 'Fri Nov 01 05:31:01 UTC 2019'}, 'resourceServer': {'type': 'Relationship', 'value': 'urn:iudx-catalogue-pune:pudx-resource-server'}, 'itemStatus': {'type': 'Property', 'value': 'active'}, 'location': {'type': 'GeoProperty', 'value': {'address': 'ABD area, Pune', 'geometry': {'type': 'Point', 'coordinates': [73.8785177, 18.5724037]}}}, 'provider': {'type': 'Relationship', 'value': 'urn:iudx-catalogue-pune:pscdcl'}, 'resourceId': {'type': 'Property', 'value': 'Vishrantwadi junction_6'}, 'deviceModelInfo': {'type': 'Property', 'value': {'url': 'http://www.boschclimo.com/', 'brand': 'Climo', 'model': 'Bosch-Climo'}}, 'DEVICEID': {'type': 'Property', 'value': '145bacfd-da11-d35f-ed80-ce7475d9bf3d'}}, {'onboardedBy': 'Technical consultant at rbccps.org', 'itemDescription': 'Describes Air Quality Monitoring (AQM) Resource.', '@context': ['https://raw.githubusercontent.com/iudx/iudx-ld/master/data_models/environment/airQuality/env_aqm_climoPune_0.json'], 'id': 'rbccps.org/aa9d66a000d94a78895de8d4c0b3a67f3450e531/pudx-resource-server/aqm-bosch-climo/Warje_Square_21', 'refBaseSchema': {'type': 'Relationship', 'value': 'https://raw.githubusercontent.com/iudx/iudx-ld/master/base_schemas/v0.0.0/resourceItem_schema.json'}, 'itemType': {'type': 'Property', 'value': 'resourceItem'}, 'tags': {'type': 'Property', 'value': ['environment', 'air quality', 'air', 'aqi', 'aqm', 'climo', 'climate', 'pollution', 'so2', 'co2', 'co', 'no', 'no2', 'pm2.5', 'pm25', 'lux', 'pm10', 'humidity', 'temperature', 'ozone', 'o3', 'noise', 'light', 'uv']}, 'resourceServerGroup': {'type': 'Relationship', 'value': 'urn:iudx-catalogue-pune:pudx-resource-server/aqm-bosch-climo'}, 'refDataModel': {'type': 'Relationship', 'value': 'https://raw.githubusercontent.com/iudx/iudx-ld/master/data_models/environment/airQuality/env_aqm_climoPune_0.json'}, 'updatedAt': {'type': 'TimeProperty', 'value': 'Fri Nov 01 05:31:03 UTC 2019'}, 'NAME': {'type': 'Property', 'value': 'Warje_Square_21'}, 'createdAt': {'type': 'TimeProperty', 'value': 'Fri Nov 01 05:31:03 UTC 2019'}, 'resourceServer': {'type': 'Relationship', 'value': 'urn:iudx-catalogue-pune:pudx-resource-server'}, 'itemStatus': {'type': 'Property', 'value': 'active'}, 'location': {'type': 'GeoProperty', 'value': {'address': 'ABD area, Pune', 'geometry': {'type': 'Point', 'coordinates': [73.805765, 18.480309]}}}, 'provider': {'type': 'Relationship', 'value': 'urn:iudx-catalogue-pune:pscdcl'}, 'resourceId': {'type': 'Property', 'value': 'Warje_Square_21'}, 'deviceModelInfo': {'type': 'Property', 'value': {'url': 'http://www.boschclimo.com/', 'brand': 'Climo', 'model': 'Bosch-Climo'}}, 'DEVICEID': {'type': 'Property', 'value': 'ae767590-445c-4079-14a6-6a954239d7c7'}}, {'id': 'rbccps.org/aa9d66a000d94a78895de8d4c0b3a67f3450e531/pudx-resource-server/aqm-bosch-climo/Pune Railway Station_29', '@context': ['https://raw.githubusercontent.com/iudx/iudx-ld/master/data_models/environment/airQuality/env_aqm_climoPune_0.json'], 'itemDescription': 'Description for Bosch-Climo AQM resource', 'onboardedBy': 'Technical consultant at rbccps.org', 'refBaseSchema': {'type': 'Relationship', 'value': 'https://raw.githubusercontent.com/iudx/iudx-ld/master/base_schemas/v0.0.0/resourceItem_schema.json'}, 'itemType': {'type': 'Property', 'value': 'resourceItem'}, 'resourceId': {'type': 'Property', 'value': 'Pune Railway Station_29'}, 'resourceServer': {'value': 'urn:iudx-catalogue-pune:pudx-resource-server', 'type': 'Relationship'}, 'resourceServerGroup': {'type': 'Relationship', 'value': 'urn:iudx-catalogue-pune:pudx-resource-server/aqm-bosch-climo'}, 'updatedAt': {'type': 'TimeProperty', 'value': 'Fri Nov 01 07:25:19 UTC 2019'}, 'deviceModelInfo': {'type': 'Property', 'value': {'url': 'http://www.boschclimo.com/', 'brand': 'Climo', 'model': 'Bosch-Climo'}}, 'latestResourceData': {'type': 'Property', 'value': 'https://pune.iudx.org.in/api/1.0.0/resource/latest/aqm-bosch-climo/Pune%20Railway%20Station_28'}, 'location': {'type': 'GeoProperty', 'value': {'address': 'ABD area, Pune', 'geometry': {'type': 'Point', 'coordinates': [73.874537, 18.528311]}}}, 'provider': {'type': 'Relationship', 'value': 'urn:iudx-catalogue-pune:pscdcl'}, 'tags': {'type': 'Property', 'value': ['environment', 'air quality', 'climate', 'air', 'aqi', 'aqm', 'climo', 'pollution', 'so2', 'co2', 'co', 'no', 'no2', 'pm2.5', 'pm10', 'humidity', 'temperature', 'ozone', 'o3', 'noise', 'light', 'uv']}, 'refDataModel': {'type': 'Relationship', 'value': 'https://raw.githubusercontent.com/iudx/iudx-ld/master/data_models/environment/airQuality/env_aqm_climoPune_0.json'}, 'itemStatus': {'type': 'Property', 'value': 'active'}, 'NAME': {'type': 'Property', 'value': 'Pune Railway Station_29'}, 'createdAt': {'type': 'TimeProperty', 'value': 'Fri Nov 01 07:25:19 UTC 2019'}, 'DEVICEID': {'type': 'Property', 'value': 'b3ec32ff-fa7d-64fa-c0af-272e25d314e9'}, 'accessInformation': {'type': 'Property', 'value': [{'accessObjectURL': 'https://bosch.climo.org/APIs', 'accessObject': {'type': 'Relationship', 'value': 'https://raw.githubusercontent.com/iudx/iudx-ld/master/data_models/environment/airQuality/examples/exApiObject_env_aqm_climoPune_0.json'}, 'accessObjectType': 'OpenAPI', 'accessObjectVariables': {'type': 'Property', 'value': {'resourceClass': 'aqm-bosch-climo', 'NAME': 'Pune Railway Station_28'}}}]}}, {'@context': ['https://raw.githubusercontent.com/iudx/iudx-ld/master/data_models/environment/airQuality/env_aqm_climoPune_0.json'], 'itemDescription': 'Description for IITM weather station resource providing RAINFALL and AQI data', 'id': 'rbccps.org/aa9d66a000d94a78895de8d4c0b3a67f3450e531/pudx-resource-server/pune-iitm-aqi/Bhosari', 'onboardedBy': 'Technical consultant at rbccps.org', 'refBaseSchema': {'type': 'Relationship', 'value': 'https://raw.githubusercontent.com/iudx/iudx-ld/master/base_schemas/v0.0.0/resourceItem_schema.json'}, 'itemType': {'type': 'Property', 'value': 'resourceItem'}, 'tags': {'type': 'Property', 'value': ['environment', 'air quality', 'climate', 'air', 'aqi', 'iitm', 'safar', 'pollution', 'rainfall', 'temperature', 'uv']}, 'resourceServerGroup': {'type': 'Relationship', 'value': 'urn:iudx-catalogue-pune:pudx-resource-server/pune-iitm-aqi'}, 'refDataModel': {'type': 'Relationship', 'value': 'https://raw.githubusercontent.com/iudx/iudx-ld/master/data_models/environment/airQuality/env_aqi_iitmPune_0.json'}, 'resourceServer': {'type': 'Relationship', 'value': 'urn:iudx-catalogue-pune:pudx-resource-server'}, 'location': {'type': 'GeoProperty', 'value': {'address': 'Bhosari Area, Pune', 'geometry': {'type': 'Point', 'coordinates': [73.849083, 18.642103]}}}, 'provider': {'type': 'Relationship', 'value': 'urn:iudx-catalogue-pune:pscdcl'}, 'itemStatus': {'type': 'Property', 'value': 'active'}, 'resourceId': {'type': 'Property', 'value': 'Bhosari'}, 'authorizationServerInfo': {'type': 'Property', 'value': {'authServer': 'http://auth.iudx.org.in', 'authType': 'iudx-auth'}}, 'createdAt': {'type': 'TimeProperty', 'value': 'Sat Nov 02 08:26:44 UTC 2019'}, 'NAME': {'type': 'Property', 'value': 'Bhosari'}, 'updatedAt': {'type': 'TimeProperty', 'value': 'Sat Nov 02 08:26:44 UTC 2019'}}, {'@context': ['https://raw.githubusercontent.com/iudx/iudx-ld/master/data_models/environment/airQuality/env_aqm_climoPune_0.json'], 'itemDescription': 'Description for IITM weather station resource providing RAINFALL and AQI data', 'id': 'rbccps.org/aa9d66a000d94a78895de8d4c0b3a67f3450e531/pudx-resource-server/pune-iitm-aqi/Shivajinagar', 'onboardedBy': 'Technical consultant at rbccps.org', 'refBaseSchema': {'type': 'Relationship', 'value': 'https://raw.githubusercontent.com/iudx/iudx-ld/master/base_schemas/v0.0.0/resourceItem_schema.json'}, 'itemType': {'type': 'Property', 'value': 'resourceItem'}, 'tags': {'type': 'Property', 'value': ['environment', 'air quality', 'climate', 'air', 'aqi', 'iitm', 'safar', 'pollution', 'rainfall', 'temperature', 'uv']}, 'resourceServerGroup': {'type': 'Relationship', 'value': 'urn:iudx-catalogue-pune:pudx-resource-server/pune-iitm-aqi'}, 'refDataModel': {'type': 'Relationship', 'value': 'https://raw.githubusercontent.com/iudx/iudx-ld/master/data_models/environment/airQuality/env_aqi_iitmPune_0.json'}, 'resourceServer': {'type': 'Relationship', 'value': 'urn:iudx-catalogue-pune:pudx-resource-server'}, 'location': {'type': 'GeoProperty', 'value': {'address': 'Shivajinagar Area, Pune', 'geometry': {'type': 'Point', 'coordinates': [73.849586, 18.529603]}}}, 'provider': {'type': 'Relationship', 'value': 'urn:iudx-catalogue-pune:pscdcl'}, 'itemStatus': {'type': 'Property', 'value': 'active'}, 'resourceId': {'type': 'Property', 'value': 'Shivajinagar'}, 'authorizationServerInfo': {'type': 'Property', 'value': {'authServer': 'http://auth.iudx.org.in', 'authType': 'iudx-auth'}}, 'createdAt': {'type': 'TimeProperty', 'value': 'Sat Nov 02 08:26:46 UTC 2019'}, 'NAME': {'type': 'Property', 'value': 'Shivajinagar'}, 'updatedAt': {'type': 'TimeProperty', 'value': 'Sat Nov 02 08:26:46 UTC 2019'}}, {'@context': ['https://raw.githubusercontent.com/iudx/iudx-ld/master/data_models/environment/airQuality/env_aqm_climoPune_0.json'], 'itemDescription': 'Description for IITM weather station resource providing RAINFALL and AQI data', 'id': 'rbccps.org/aa9d66a000d94a78895de8d4c0b3a67f3450e531/pudx-resource-server/pune-iitm-aqi/Hadapsar', 'onboardedBy': 'Technical consultant at rbccps.org', 'refBaseSchema': {'type': 'Relationship', 'value': 'https://raw.githubusercontent.com/iudx/iudx-ld/master/base_schemas/v0.0.0/resourceItem_schema.json'}, 'itemType': {'type': 'Property', 'value': 'resourceItem'}, 'tags': {'type': 'Property', 'value': ['environment', 'air quality', 'climate', 'air', 'aqi', 'iitm', 'safar', 'pollution', 'rainfall', 'temperature', 'uv']}, 'resourceServerGroup': {'type': 'Relationship', 'value': 'urn:iudx-catalogue-pune:pudx-resource-server/pune-iitm-aqi'}, 'refDataModel': {'type': 'Relationship', 'value': 'https://raw.githubusercontent.com/iudx/iudx-ld/master/data_models/environment/airQuality/env_aqi_iitmPune_0.json'}, 'resourceServer': {'type': 'Relationship', 'value': 'urn:iudx-catalogue-pune:pudx-resource-server'}, 'location': {'type': 'GeoProperty', 'value': {'address': 'Hadapsar Area, Pune', 'geometry': {'type': 'Point', 'coordinates': [73.927456, 18.502167]}}}, 'provider': {'type': 'Relationship', 'value': 'urn:iudx-catalogue-pune:pscdcl'}, 'itemStatus': {'type': 'Property', 'value': 'active'}, 'resourceId': {'type': 'Property', 'value': 'Hadapsar'}, 'authorizationServerInfo': {'type': 'Property', 'value': {'authServer': 'http://auth.iudx.org.in', 'authType': 'iudx-auth'}}, 'createdAt': {'type': 'TimeProperty', 'value': 'Sat Nov 02 08:26:47 UTC 2019'}, 'NAME': {'type': 'Property', 'value': 'Hadapsar'}, 'updatedAt': {'type': 'TimeProperty', 'value': 'Sat Nov 02 08:26:47 UTC 2019'}}, {'@context': ['https://raw.githubusercontent.com/iudx/iudx-ld/master/data_models/environment/airQuality/env_aqm_climoPune_0.json'], 'itemDescription': 'Description for IITM weather station resource providing RAINFALL and AQI data', 'id': 'rbccps.org/aa9d66a000d94a78895de8d4c0b3a67f3450e531/pudx-resource-server/pune-iitm-aqi/Lohgaon', 'onboardedBy': 'Technical consultant at rbccps.org', 'refBaseSchema': {'type': 'Relationship', 'value': 'https://raw.githubusercontent.com/iudx/iudx-ld/master/base_schemas/v0.0.0/resourceItem_schema.json'}, 'itemType': {'type': 'Property', 'value': 'resourceItem'}, 'tags': {'type': 'Property', 'value': ['environment', 'air quality', 'climate', 'air', 'aqi', 'iitm', 'safar', 'pollution', 'rainfall', 'temperature', 'uv']}, 'resourceServerGroup': {'type': 'Relationship', 'value': 'urn:iudx-catalogue-pune:pudx-resource-server/pune-iitm-aqi'}, 'refDataModel': {'type': 'Relationship', 'value': 'https://raw.githubusercontent.com/iudx/iudx-ld/master/data_models/environment/airQuality/env_aqi_iitmPune_0.json'}, 'resourceServer': {'type': 'Relationship', 'value': 'urn:iudx-catalogue-pune:pudx-resource-server'}, 'location': {'type': 'GeoProperty', 'value': {'address': 'Lohgaon Area, Pune', 'geometry': {'type': 'Point', 'coordinates': [73.908086, 18.577864]}}}, 'provider': {'type': 'Relationship', 'value': 'urn:iudx-catalogue-pune:pscdcl'}, 'itemStatus': {'type': 'Property', 'value': 'active'}, 'resourceId': {'type': 'Property', 'value': 'Lohgaon'}, 'authorizationServerInfo': {'type': 'Property', 'value': {'authServer': 'http://auth.iudx.org.in', 'authType': 'iudx-auth'}}, 'createdAt': {'type': 'TimeProperty', 'value': 'Sat Nov 02 08:26:48 UTC 2019'}, 'NAME': {'type': 'Property', 'value': 'Lohgaon'}, 'updatedAt': {'type': 'TimeProperty', 'value': 'Sat Nov 02 08:26:48 UTC 2019'}}, {'@context': ['https://raw.githubusercontent.com/iudx/iudx-ld/master/data_models/environment/airQuality/env_aqm_climoPune_0.json'], 'itemDescription': 'Description for IITM weather station resource providing RAINFALL and AQI data', 'id': 'rbccps.org/aa9d66a000d94a78895de8d4c0b3a67f3450e531/pudx-resource-server/pune-iitm-aqi/Bhumkar Chowk', 'onboardedBy': 'Technical consultant at rbccps.org', 'refBaseSchema': {'type': 'Relationship', 'value': 'https://raw.githubusercontent.com/iudx/iudx-ld/master/base_schemas/v0.0.0/resourceItem_schema.json'}, 'itemType': {'type': 'Property', 'value': 'resourceItem'}, 'tags': {'type': 'Property', 'value': ['environment', 'air quality', 'climate', 'air', 'aqi', 'iitm', 'safar', 'pollution', 'rainfall', 'temperature', 'uv']}, 'resourceServerGroup': {'type': 'Relationship', 'value': 'urn:iudx-catalogue-pune:pudx-resource-server/pune-iitm-aqi'}, 'refDataModel': {'type': 'Relationship', 'value': 'https://raw.githubusercontent.com/iudx/iudx-ld/master/data_models/environment/airQuality/env_aqi_iitmPune_0.json'}, 'resourceServer': {'type': 'Relationship', 'value': 'urn:iudx-catalogue-pune:pudx-resource-server'}, 'location': {'type': 'GeoProperty', 'value': {'address': 'Bhumkar Chowk Area, Pune', 'geometry': {'type': 'Point', 'coordinates': [73.750022, 18.606219]}}}, 'provider': {'type': 'Relationship', 'value': 'urn:iudx-catalogue-pune:pscdcl'}, 'itemStatus': {'type': 'Property', 'value': 'active'}, 'resourceId': {'type': 'Property', 'value': 'Bhumkar Chowk'}, 'authorizationServerInfo': {'type': 'Property', 'value': {'authServer': 'http://auth.iudx.org.in', 'authType': 'iudx-auth'}}, 'createdAt': {'type': 'TimeProperty', 'value': 'Sat Nov 02 08:26:50 UTC 2019'}, 'NAME': {'type': 'Property', 'value': 'Bhumkar Chowk'}, 'updatedAt': {'type': 'TimeProperty', 'value': 'Sat Nov 02 08:26:50 UTC 2019'}}, {'@context': ['https://raw.githubusercontent.com/iudx/iudx-ld/master/data_models/environment/airQuality/env_aqm_climoPune_0.json'], 'itemDescription': 'Description for IITM weather station resource providing RAINFALL and AQI data', 'id': 'rbccps.org/aa9d66a000d94a78895de8d4c0b3a67f3450e531/pudx-resource-server/pune-iitm-aqi/Nigadi', 'onboardedBy': 'Technical consultant at rbccps.org', 'refBaseSchema': {'type': 'Relationship', 'value': 'https://raw.githubusercontent.com/iudx/iudx-ld/master/base_schemas/v0.0.0/resourceItem_schema.json'}, 'itemType': {'type': 'Property', 'value': 'resourceItem'}, 'tags': {'type': 'Property', 'value': ['environment', 'air quality', 'climate', 'air', 'aqi', 'iitm', 'safar', 'pollution', 'rainfall', 'temperature', 'uv']}, 'resourceServerGroup': {'type': 'Relationship', 'value': 'urn:iudx-catalogue-pune:pudx-resource-server/pune-iitm-aqi'}, 'refDataModel': {'type': 'Relationship', 'value': 'https://raw.githubusercontent.com/iudx/iudx-ld/master/data_models/environment/airQuality/env_aqi_iitmPune_0.json'}, 'resourceServer': {'type': 'Relationship', 'value': 'urn:iudx-catalogue-pune:pudx-resource-server'}, 'location': {'type': 'GeoProperty', 'value': {'address': 'Nigadi Area, Pune', 'geometry': {'type': 'Point', 'coordinates': [73.762331, 18.661667]}}}, 'provider': {'type': 'Relationship', 'value': 'urn:iudx-catalogue-pune:pscdcl'}, 'itemStatus': {'type': 'Property', 'value': 'active'}, 'resourceId': {'type': 'Property', 'value': 'Nigadi'}, 'authorizationServerInfo': {'type': 'Property', 'value': {'authServer': 'http://auth.iudx.org.in', 'authType': 'iudx-auth'}}, 'createdAt': {'type': 'TimeProperty', 'value': 'Sat Nov 02 08:26:51 UTC 2019'}, 'NAME': {'type': 'Property', 'value': 'Nigadi'}, 'updatedAt': {'type': 'TimeProperty', 'value': 'Sat Nov 02 08:26:51 UTC 2019'}}, {'@context': ['https://raw.githubusercontent.com/iudx/iudx-ld/master/data_models/environment/airQuality/env_aqm_climoPune_0.json'], 'itemDescription': 'Description for IITM weather station resource providing RAINFALL and AQI data', 'id': 'rbccps.org/aa9d66a000d94a78895de8d4c0b3a67f3450e531/pudx-resource-server/pune-iitm-aqi/Pashan', 'onboardedBy': 'Technical consultant at rbccps.org', 'refBaseSchema': {'type': 'Relationship', 'value': 'https://raw.githubusercontent.com/iudx/iudx-ld/master/base_schemas/v0.0.0/resourceItem_schema.json'}, 'itemType': {'type': 'Property', 'value': 'resourceItem'}, 'tags': {'type': 'Property', 'value': ['environment', 'air quality', 'climate', 'air', 'aqi', 'iitm', 'safar', 'pollution', 'rainfall', 'temperature', 'uv']}, 'resourceServerGroup': {'type': 'Relationship', 'value': 'urn:iudx-catalogue-pune:pudx-resource-server/pune-iitm-aqi'}, 'refDataModel': {'type': 'Relationship', 'value': 'https://raw.githubusercontent.com/iudx/iudx-ld/master/data_models/environment/airQuality/env_aqi_iitmPune_0.json'}, 'resourceServer': {'type': 'Relationship', 'value': 'urn:iudx-catalogue-pune:pudx-resource-server'}, 'location': {'type': 'GeoProperty', 'value': {'address': 'Pashan Area, Pune', 'geometry': {'type': 'Point', 'coordinates': [73.805453, 18.536428]}}}, 'provider': {'type': 'Relationship', 'value': 'urn:iudx-catalogue-pune:pscdcl'}, 'itemStatus': {'type': 'Property', 'value': 'active'}, 'resourceId': {'type': 'Property', 'value': 'Pashan'}, 'authorizationServerInfo': {'type': 'Property', 'value': {'authServer': 'http://auth.iudx.org.in', 'authType': 'iudx-auth'}}, 'createdAt': {'type': 'TimeProperty', 'value': 'Sat Nov 02 08:26:52 UTC 2019'}, 'NAME': {'type': 'Property', 'value': 'Pashan'}, 'updatedAt': {'type': 'TimeProperty', 'value': 'Sat Nov 02 08:26:52 UTC 2019'}}, {'@context': ['https://raw.githubusercontent.com/iudx/iudx-ld/master/data_models/environment/airQuality/env_aqm_climoPune_0.json'], 'itemDescription': 'Description for IITM weather station resource providing RAINFALL and AQI data', 'id': 'rbccps.org/aa9d66a000d94a78895de8d4c0b3a67f3450e531/pudx-resource-server/pune-iitm-aqi/Katraj', 'onboardedBy': 'Technical consultant at rbccps.org', 'refBaseSchema': {'type': 'Relationship', 'value': 'https://raw.githubusercontent.com/iudx/iudx-ld/master/base_schemas/v0.0.0/resourceItem_schema.json'}, 'itemType': {'type': 'Property', 'value': 'resourceItem'}, 'tags': {'type': 'Property', 'value': ['environment', 'air quality', 'climate', 'air', 'aqi', 'iitm', 'safar', 'pollution', 'rainfall', 'temperature', 'uv']}, 'resourceServerGroup': {'type': 'Relationship', 'value': 'urn:iudx-catalogue-pune:pudx-resource-server/pune-iitm-aqi'}, 'refDataModel': {'type': 'Relationship', 'value': 'https://raw.githubusercontent.com/iudx/iudx-ld/master/data_models/environment/airQuality/env_aqi_iitmPune_0.json'}, 'resourceServer': {'type': 'Relationship', 'value': 'urn:iudx-catalogue-pune:pudx-resource-server'}, 'location': {'type': 'GeoProperty', 'value': {'address': 'Katraj Area, Pune', 'geometry': {'type': 'Point', 'coordinates': [73.852306, 18.459869]}}}, 'provider': {'type': 'Relationship', 'value': 'urn:iudx-catalogue-pune:pscdcl'}, 'itemStatus': {'type': 'Property', 'value': 'active'}, 'resourceId': {'type': 'Property', 'value': 'Katraj'}, 'authorizationServerInfo': {'type': 'Property', 'value': {'authServer': 'http://auth.iudx.org.in', 'authType': 'iudx-auth'}}, 'createdAt': {'type': 'TimeProperty', 'value': 'Sat Nov 02 08:26:53 UTC 2019'}, 'NAME': {'type': 'Property', 'value': 'Katraj'}, 'updatedAt': {'type': 'TimeProperty', 'value': 'Sat Nov 02 08:26:53 UTC 2019'}}, {'@context': ['https://raw.githubusercontent.com/iudx/iudx-ld/master/data_models/environment/airQuality/env_aqm_climoPune_0.json'], 'itemDescription': 'Description for IITM weather station resource providing RAINFALL and AQI data', 'id': 'rbccps.org/aa9d66a000d94a78895de8d4c0b3a67f3450e531/pudx-resource-server/pune-iitm-aqi/Alandi', 'onboardedBy': 'Technical consultant at rbccps.org', 'refBaseSchema': {'type': 'Relationship', 'value': 'https://raw.githubusercontent.com/iudx/iudx-ld/master/base_schemas/v0.0.0/resourceItem_schema.json'}, 'itemType': {'type': 'Property', 'value': 'resourceItem'}, 'tags': {'type': 'Property', 'value': ['environment', 'air quality', 'climate', 'air', 'aqi', 'iitm', 'safar', 'pollution', 'rainfall', 'temperature', 'uv']}, 'resourceServerGroup': {'type': 'Relationship', 'value': 'urn:iudx-catalogue-pune:pudx-resource-server/pune-iitm-aqi'}, 'refDataModel': {'type': 'Relationship', 'value': 'https://raw.githubusercontent.com/iudx/iudx-ld/master/data_models/environment/airQuality/env_aqi_iitmPune_0.json'}, 'resourceServer': {'type': 'Relationship', 'value': 'urn:iudx-catalogue-pune:pudx-resource-server'}, 'location': {'type': 'GeoProperty', 'value': {'address': 'Alandi Area, Pune', 'geometry': {'type': 'Point', 'coordinates': [73.891506, 18.673708]}}}, 'provider': {'type': 'Relationship', 'value': 'urn:iudx-catalogue-pune:pscdcl'}, 'itemStatus': {'type': 'Property', 'value': 'active'}, 'resourceId': {'type': 'Property', 'value': 'Alandi'}, 'authorizationServerInfo': {'type': 'Property', 'value': {'authServer': 'http://auth.iudx.org.in', 'authType': 'iudx-auth'}}, 'createdAt': {'type': 'TimeProperty', 'value': 'Sat Nov 02 08:26:55 UTC 2019'}, 'NAME': {'type': 'Property', 'value': 'Alandi'}, 'updatedAt': {'type': 'TimeProperty', 'value': 'Sat Nov 02 08:26:55 UTC 2019'}}]\n"
          ],
          "name": "stdout"
        }
      ]
    },
    {
      "cell_type": "code",
      "metadata": {
        "id": "XF_Ga4FHcS4N",
        "colab_type": "code",
        "colab": {}
      },
      "source": [
        "allAQMItemsCount = cat.getItemCount(attributes)"
      ],
      "execution_count": 0,
      "outputs": []
    },
    {
      "cell_type": "code",
      "metadata": {
        "id": "_dgz9A8ycS4T",
        "colab_type": "code",
        "outputId": "922d2d43-6564-4de1-c98f-908f115c3c5d",
        "colab": {
          "base_uri": "https://localhost:8080/",
          "height": 35
        }
      },
      "source": [
        "print(allAQMItemsCount)"
      ],
      "execution_count": 9,
      "outputs": [
        {
          "output_type": "stream",
          "text": [
            "54\n"
          ],
          "name": "stdout"
        }
      ]
    },
    {
      "cell_type": "markdown",
      "metadata": {
        "id": "9b7XTpjWfypS",
        "colab_type": "text"
      },
      "source": [
        "### Filter the catalogue response\n",
        "An unfiltered call to *getManyResourceItems* will return all information associated with each sensor. Using the filters option, we can filter the information returned.\n",
        "\n",
        "In the example below, by specifying the filters = [\"id\"], only the \"id\" of the sensor is returned."
      ]
    },
    {
      "cell_type": "code",
      "metadata": {
        "id": "e8oYwsbHcS4c",
        "colab_type": "code",
        "colab": {}
      },
      "source": [
        "filters = [\"id\"]\n",
        "allAQMItemsByID = cat.getManyResourceItems(attributes, filters)"
      ],
      "execution_count": 0,
      "outputs": []
    },
    {
      "cell_type": "code",
      "metadata": {
        "id": "POUeqt1BlSUS",
        "colab_type": "code",
        "outputId": "eb7a2636-5621-43c3-d3c9-ad1a9ec47eba",
        "colab": {
          "base_uri": "https://localhost:8080/",
          "height": 55
        }
      },
      "source": [
        "print(allAQMItemsByID)"
      ],
      "execution_count": 11,
      "outputs": [
        {
          "output_type": "stream",
          "text": [
            "[{'id': 'rbccps.org/aa9d66a000d94a78895de8d4c0b3a67f3450e531/pudx-resource-server/aqm-bosch-climo/ABC Farm House Junction_4'}, {'id': 'rbccps.org/aa9d66a000d94a78895de8d4c0b3a67f3450e531/pudx-resource-server/aqm-bosch-climo/Ambedkar society circle_29'}, {'id': 'rbccps.org/aa9d66a000d94a78895de8d4c0b3a67f3450e531/pudx-resource-server/aqm-bosch-climo/Appa_Balwant_Square_30'}, {'id': 'rbccps.org/aa9d66a000d94a78895de8d4c0b3a67f3450e531/pudx-resource-server/aqm-bosch-climo/Bajaj Statue Square_50'}, {'id': 'rbccps.org/aa9d66a000d94a78895de8d4c0b3a67f3450e531/pudx-resource-server/aqm-bosch-climo/Blue Diamond Square (Hotel Taj)_10'}, {'id': 'rbccps.org/aa9d66a000d94a78895de8d4c0b3a67f3450e531/pudx-resource-server/aqm-bosch-climo/BopadiSquare_65'}, {'id': 'rbccps.org/aa9d66a000d94a78895de8d4c0b3a67f3450e531/pudx-resource-server/aqm-bosch-climo/Bremen Square_37'}, {'id': 'rbccps.org/aa9d66a000d94a78895de8d4c0b3a67f3450e531/pudx-resource-server/aqm-bosch-climo/BRTS Visharant wadi_38'}, {'id': 'rbccps.org/aa9d66a000d94a78895de8d4c0b3a67f3450e531/pudx-resource-server/aqm-bosch-climo/Chandani Square_25'}, {'id': 'rbccps.org/aa9d66a000d94a78895de8d4c0b3a67f3450e531/pudx-resource-server/aqm-bosch-climo/Chitale Bandhu Corner_41'}, {'id': 'rbccps.org/aa9d66a000d94a78895de8d4c0b3a67f3450e531/pudx-resource-server/aqm-bosch-climo/ChurchKhadakiRailwayStation_36'}, {'id': 'rbccps.org/aa9d66a000d94a78895de8d4c0b3a67f3450e531/pudx-resource-server/aqm-bosch-climo/Datta Mandir Square_20'}, {'id': 'rbccps.org/aa9d66a000d94a78895de8d4c0b3a67f3450e531/pudx-resource-server/aqm-bosch-climo/Dr Baba Saheb Ambedkar Sethu Junction_3'}, {'id': 'rbccps.org/aa9d66a000d94a78895de8d4c0b3a67f3450e531/pudx-resource-server/aqm-bosch-climo/FursungiKaman_31'}, {'id': 'rbccps.org/aa9d66a000d94a78895de8d4c0b3a67f3450e531/pudx-resource-server/aqm-bosch-climo/Golf Club Junction_27'}, {'id': 'rbccps.org/aa9d66a000d94a78895de8d4c0b3a67f3450e531/pudx-resource-server/aqm-bosch-climo/Golibar Square_11'}, {'id': 'rbccps.org/aa9d66a000d94a78895de8d4c0b3a67f3450e531/pudx-resource-server/aqm-bosch-climo/Goodluck Square_Cafe_23'}, {'id': 'rbccps.org/aa9d66a000d94a78895de8d4c0b3a67f3450e531/pudx-resource-server/aqm-bosch-climo/Gunjan Square_18'}, {'id': 'rbccps.org/aa9d66a000d94a78895de8d4c0b3a67f3450e531/pudx-resource-server/aqm-bosch-climo/Hadapsar_Gadital_01'}, {'id': 'rbccps.org/aa9d66a000d94a78895de8d4c0b3a67f3450e531/pudx-resource-server/aqm-bosch-climo/Jhanshi Rani Square_59'}, {'id': 'rbccps.org/aa9d66a000d94a78895de8d4c0b3a67f3450e531/pudx-resource-server/aqm-bosch-climo/Karve Statue Square_5'}, {'id': 'rbccps.org/aa9d66a000d94a78895de8d4c0b3a67f3450e531/pudx-resource-server/aqm-bosch-climo/Kothrud PMPML BusDepot_48'}, {'id': 'rbccps.org/aa9d66a000d94a78895de8d4c0b3a67f3450e531/pudx-resource-server/aqm-bosch-climo/Lullanagar_Square_14'}, {'id': 'rbccps.org/aa9d66a000d94a78895de8d4c0b3a67f3450e531/pudx-resource-server/aqm-bosch-climo/Market Yard Junction_2'}, {'id': 'rbccps.org/aa9d66a000d94a78895de8d4c0b3a67f3450e531/pudx-resource-server/aqm-bosch-climo/Mundhwa Road Junction_51'}, {'id': 'rbccps.org/aa9d66a000d94a78895de8d4c0b3a67f3450e531/pudx-resource-server/aqm-bosch-climo/Nanded City Entry_42'}, {'id': 'rbccps.org/aa9d66a000d94a78895de8d4c0b3a67f3450e531/pudx-resource-server/aqm-bosch-climo/Noble Hospital junction_35'}, {'id': 'rbccps.org/aa9d66a000d94a78895de8d4c0b3a67f3450e531/pudx-resource-server/aqm-bosch-climo/PMPML_Bus_Depot_Deccan_15'}, {'id': 'rbccps.org/aa9d66a000d94a78895de8d4c0b3a67f3450e531/pudx-resource-server/aqm-bosch-climo/PMPML Katraj_Depot_New_26'}, {'id': 'rbccps.org/aa9d66a000d94a78895de8d4c0b3a67f3450e531/pudx-resource-server/aqm-bosch-climo/Pune Railway Station_28'}, {'id': 'rbccps.org/aa9d66a000d94a78895de8d4c0b3a67f3450e531/pudx-resource-server/aqm-bosch-climo/Pune_ST_Stand_40'}, {'id': 'rbccps.org/aa9d66a000d94a78895de8d4c0b3a67f3450e531/pudx-resource-server/aqm-bosch-climo/Rajashri_Shahu_Bus_stand_19'}, {'id': 'rbccps.org/aa9d66a000d94a78895de8d4c0b3a67f3450e531/pudx-resource-server/aqm-bosch-climo/RTO Square_8'}, {'id': 'rbccps.org/aa9d66a000d94a78895de8d4c0b3a67f3450e531/pudx-resource-server/aqm-bosch-climo/Sadanand Hotel Square_39'}, {'id': 'rbccps.org/aa9d66a000d94a78895de8d4c0b3a67f3450e531/pudx-resource-server/aqm-bosch-climo/Sadhu_Wasvani_Square_24'}, {'id': 'rbccps.org/aa9d66a000d94a78895de8d4c0b3a67f3450e531/pudx-resource-server/aqm-bosch-climo/Seven Loves Square_16'}, {'id': 'rbccps.org/aa9d66a000d94a78895de8d4c0b3a67f3450e531/pudx-resource-server/aqm-bosch-climo/Shimla Office Square (Shivaji Nagar Chowk)_33'}, {'id': 'rbccps.org/aa9d66a000d94a78895de8d4c0b3a67f3450e531/pudx-resource-server/aqm-bosch-climo/Shivaji Nagar ST Stand_45'}, {'id': 'rbccps.org/aa9d66a000d94a78895de8d4c0b3a67f3450e531/pudx-resource-server/aqm-bosch-climo/Shree Krishna Hotel Square _12'}, {'id': 'rbccps.org/aa9d66a000d94a78895de8d4c0b3a67f3450e531/pudx-resource-server/aqm-bosch-climo/Sinhgad Road Junction_9'}, {'id': 'rbccps.org/aa9d66a000d94a78895de8d4c0b3a67f3450e531/pudx-resource-server/aqm-bosch-climo/Susgaon_46'}, {'id': 'rbccps.org/aa9d66a000d94a78895de8d4c0b3a67f3450e531/pudx-resource-server/aqm-bosch-climo/Vadgaon_Sheri_Square_52'}, {'id': 'rbccps.org/aa9d66a000d94a78895de8d4c0b3a67f3450e531/pudx-resource-server/aqm-bosch-climo/Vishrantwadi junction_6'}, {'id': 'rbccps.org/aa9d66a000d94a78895de8d4c0b3a67f3450e531/pudx-resource-server/aqm-bosch-climo/Warje_Square_21'}, {'id': 'rbccps.org/aa9d66a000d94a78895de8d4c0b3a67f3450e531/pudx-resource-server/aqm-bosch-climo/Pune Railway Station_29'}, {'id': 'rbccps.org/aa9d66a000d94a78895de8d4c0b3a67f3450e531/pudx-resource-server/pune-iitm-aqi/Bhosari'}, {'id': 'rbccps.org/aa9d66a000d94a78895de8d4c0b3a67f3450e531/pudx-resource-server/pune-iitm-aqi/Shivajinagar'}, {'id': 'rbccps.org/aa9d66a000d94a78895de8d4c0b3a67f3450e531/pudx-resource-server/pune-iitm-aqi/Hadapsar'}, {'id': 'rbccps.org/aa9d66a000d94a78895de8d4c0b3a67f3450e531/pudx-resource-server/pune-iitm-aqi/Lohgaon'}, {'id': 'rbccps.org/aa9d66a000d94a78895de8d4c0b3a67f3450e531/pudx-resource-server/pune-iitm-aqi/Bhumkar Chowk'}, {'id': 'rbccps.org/aa9d66a000d94a78895de8d4c0b3a67f3450e531/pudx-resource-server/pune-iitm-aqi/Nigadi'}, {'id': 'rbccps.org/aa9d66a000d94a78895de8d4c0b3a67f3450e531/pudx-resource-server/pune-iitm-aqi/Pashan'}, {'id': 'rbccps.org/aa9d66a000d94a78895de8d4c0b3a67f3450e531/pudx-resource-server/pune-iitm-aqi/Katraj'}, {'id': 'rbccps.org/aa9d66a000d94a78895de8d4c0b3a67f3450e531/pudx-resource-server/pune-iitm-aqi/Alandi'}]\n"
          ],
          "name": "stdout"
        }
      ]
    },
    {
      "cell_type": "markdown",
      "metadata": {
        "id": "8wKHHJVTgklb",
        "colab_type": "text"
      },
      "source": [
        "### Filter items (sensors) by geo-location\n",
        "The function *getManyResourceItems* can also be used to filter items (sensors) based on their locations. In the example below, we specify the area of interest as a circle with center specified by latitude (\"lat\") and longitude (\"lon\") and radius in meters.\n",
        "In this case, we are requesting for sensors around a 3km radius.\n",
        "We also will specify that we are specifically interested in Air Quality Monitoring Stations present in that region.\n",
        "We only require the ID's for now, which we can obtain by passing a filters option"
      ]
    },
    {
      "cell_type": "code",
      "metadata": {
        "id": "ImETKLDHSj7e",
        "colab_type": "code",
        "colab": {}
      },
      "source": [
        "geo1 = {\"circle\": {\"lat\": 18.539107, \"lon\": 73.903987, \"radius\": 3000}}\n",
        "attributes = {\"tags\": [\"aqm\"]}\n",
        "filters = [\"id\"]\n"
      ],
      "execution_count": 0,
      "outputs": []
    },
    {
      "cell_type": "markdown",
      "metadata": {
        "id": "4cfK_aCohwoA",
        "colab_type": "text"
      },
      "source": [
        "The below call returns all sensors with tags \"aqi\" or \"aqm\" and within the geographical area specified. Further, as specified by the filters argument, only the \"id\" information is returned for each of the sensors.\n"
      ]
    },
    {
      "cell_type": "code",
      "metadata": {
        "id": "u7h7KW7nSl0l",
        "colab_type": "code",
        "colab": {}
      },
      "source": [
        "allAQMItemsByID = cat.getManyResourceItems(attributes, filters, geo=geo1)"
      ],
      "execution_count": 0,
      "outputs": []
    },
    {
      "cell_type": "code",
      "metadata": {
        "id": "IzsC9_V6cS4h",
        "colab_type": "code",
        "outputId": "ab55f64e-0da4-4b07-ea61-ddb0ec40fa4d",
        "colab": {
          "base_uri": "https://localhost:8080/",
          "height": 73
        }
      },
      "source": [
        "print(allAQMItemsByID)\n",
        "print(\"Number of items = \", len(allAQMItemsByID))"
      ],
      "execution_count": 14,
      "outputs": [
        {
          "output_type": "stream",
          "text": [
            "[{'id': 'rbccps.org/aa9d66a000d94a78895de8d4c0b3a67f3450e531/pudx-resource-server/aqm-bosch-climo/Ambedkar society circle_29'}, {'id': 'rbccps.org/aa9d66a000d94a78895de8d4c0b3a67f3450e531/pudx-resource-server/aqm-bosch-climo/Blue Diamond Square (Hotel Taj)_10'}, {'id': 'rbccps.org/aa9d66a000d94a78895de8d4c0b3a67f3450e531/pudx-resource-server/aqm-bosch-climo/Dr Baba Saheb Ambedkar Sethu Junction_3'}, {'id': 'rbccps.org/aa9d66a000d94a78895de8d4c0b3a67f3450e531/pudx-resource-server/aqm-bosch-climo/ABC Farm House Junction_4'}, {'id': 'rbccps.org/aa9d66a000d94a78895de8d4c0b3a67f3450e531/pudx-resource-server/aqm-bosch-climo/Gunjan Square_18'}, {'id': 'rbccps.org/aa9d66a000d94a78895de8d4c0b3a67f3450e531/pudx-resource-server/aqm-bosch-climo/Golf Club Junction_27'}, {'id': 'rbccps.org/aa9d66a000d94a78895de8d4c0b3a67f3450e531/pudx-resource-server/aqm-bosch-climo/Vadgaon_Sheri_Square_52'}]\n",
            "Number of items =  7\n"
          ],
          "name": "stdout"
        }
      ]
    },
    {
      "cell_type": "markdown",
      "metadata": {
        "id": "PJoUpvaLh5nl",
        "colab_type": "text"
      },
      "source": [
        "## Fetch data from sensors\n",
        "In this section we will fetch sensor data from the resource server.\n",
        "\n",
        "We will iterate across the sensors and obtain the required information for each sensor."
      ]
    },
    {
      "cell_type": "markdown",
      "metadata": {
        "id": "Kdmr4_yBnAlx",
        "colab_type": "text"
      },
      "source": [
        "### Import *item* class from *pyIUDX.rs*\n",
        "The *item* class provides the APIs to access relevant sensor data."
      ]
    },
    {
      "cell_type": "markdown",
      "metadata": {
        "id": "ZTkz_Z929ykB",
        "colab_type": "text"
      },
      "source": [
        ""
      ]
    },
    {
      "cell_type": "code",
      "metadata": {
        "id": "nx8JGkMymxyj",
        "colab_type": "code",
        "colab": {}
      },
      "source": [
        "# Import the item class from pyIUDX.rs\n",
        "from pyIUDX.rs import item"
      ],
      "execution_count": 0,
      "outputs": []
    },
    {
      "cell_type": "code",
      "metadata": {
        "id": "ARPU392a9y9E",
        "colab_type": "code",
        "colab": {}
      },
      "source": [
        ""
      ],
      "execution_count": 0,
      "outputs": []
    },
    {
      "cell_type": "markdown",
      "metadata": {
        "id": "FumTVfc--V8u",
        "colab_type": "text"
      },
      "source": [
        "### Plot sensor locations"
      ]
    },
    {
      "cell_type": "markdown",
      "metadata": {
        "id": "JaI6weqN9mP9",
        "colab_type": "text"
      },
      "source": [
        "We can pass the previously obtained list of filtered Air Quality Monitoring stations to the Items class. This will load a list of resourceItem objects and provide neat access to their data."
      ]
    },
    {
      "cell_type": "code",
      "metadata": {
        "id": "HgZvgDIt8I3e",
        "colab_type": "code",
        "outputId": "9f47de75-4574-41d6-9134-d5c2aaabeebd",
        "colab": {
          "base_uri": "https://localhost:8080/",
          "height": 1000
        }
      },
      "source": [
        "m = folium.Map(location=[18.5204,73.8567],zoom_start=12)\n",
        "aqms = item.Items(\"https://pudx.catalogue.iudx.org.in/catalogue/v1\", allAQMItemsByID)\n",
        "for sensor in aqms:\n",
        "  sensor_id = sensor.id  \n",
        "  print(\"Sensor location = \", sensor.location.coordinates)\n",
        "  folium.Marker([sensor.location.coordinates[1], sensor.location.coordinates[0] ], popup=sensor_id).add_to(m)    \n",
        "m"
      ],
      "execution_count": 16,
      "outputs": [
        {
          "output_type": "stream",
          "text": [
            "Sensor location =  [73.903987, 18.539107]\n",
            "Sensor location =  [73.879657, 18.5529659]\n",
            "Sensor location =  [73.8843632, 18.5412778]\n",
            "Sensor location =  [73.88559, 18.538425]\n",
            "Sensor location =  [73.8891134, 18.5461542]\n",
            "Sensor location =  [73.9113707, 18.5583356]\n",
            "Sensor location =  [73.8893219, 18.5526023]\n"
          ],
          "name": "stdout"
        },
        {
          "output_type": "execute_result",
          "data": {
            "text/html": [
              "<div style=\"width:100%;\"><div style=\"position:relative;width:100%;height:0;padding-bottom:60%;\"><iframe src=\"data:text/html;charset=utf-8;base64,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\" style=\"position:absolute;width:100%;height:100%;left:0;top:0;border:none !important;\" allowfullscreen webkitallowfullscreen mozallowfullscreen></iframe></div></div>"
            ],
            "text/plain": [
              "<folium.folium.Map at 0x7fbce9b60630>"
            ]
          },
          "metadata": {
            "tags": []
          },
          "execution_count": 16
        }
      ]
    },
    {
      "cell_type": "markdown",
      "metadata": {
        "id": "ss-wVF_OoXSd",
        "colab_type": "text"
      },
      "source": [
        "### Fetch PM2 and PM10 data from the list of sensors\n",
        "We will iterate across the list of sensors and obtain the latest *PM2_MAX* and *PM10_MAX* values from each sensor. Further, we will also obtain data for a specified duration."
      ]
    },
    {
      "cell_type": "code",
      "metadata": {
        "id": "-o-PBYIhEpRF",
        "colab_type": "code",
        "colab": {}
      },
      "source": [
        ""
      ],
      "execution_count": 0,
      "outputs": []
    },
    {
      "cell_type": "markdown",
      "metadata": {
        "id": "puNH6LKyEg6l",
        "colab_type": "text"
      },
      "source": [
        "Let's use one of the items form the list of sensors we just created"
      ]
    },
    {
      "cell_type": "code",
      "metadata": {
        "id": "txGDMvwiEt2J",
        "colab_type": "code",
        "colab": {
          "base_uri": "https://localhost:8080/",
          "height": 35
        },
        "outputId": "4d12e71d-d95c-473a-83f6-3364ff8ab7d5"
      },
      "source": [
        "print(aqms[0].id)"
      ],
      "execution_count": 17,
      "outputs": [
        {
          "output_type": "stream",
          "text": [
            "rbccps.org/aa9d66a000d94a78895de8d4c0b3a67f3450e531/pudx-resource-server/aqm-bosch-climo/ABC Farm House Junction_4\n"
          ],
          "name": "stdout"
        }
      ]
    },
    {
      "cell_type": "markdown",
      "metadata": {
        "id": "yiFMxp9Z_QIk",
        "colab_type": "text"
      },
      "source": [
        "We can find out all the QuantitativeProperties (measured properties) of an aqm item by calling the Object.quantitativeProperties property.\n",
        "Since our previous filter filtered out all AQM sensors, we can assume that the quantitative properties for sensor aqms[0] is the same for the rest."
      ]
    },
    {
      "cell_type": "code",
      "metadata": {
        "id": "EYhBOkTe_aCd",
        "colab_type": "code",
        "colab": {
          "base_uri": "https://localhost:8080/",
          "height": 55
        },
        "outputId": "f6eddb75-6138-4faa-e749-15ab2ad9375b"
      },
      "source": [
        "print(aqms[0].quantitativeProperties)"
      ],
      "execution_count": 18,
      "outputs": [
        {
          "output_type": "stream",
          "text": [
            "['AIR_PRESSURE', 'AQI', 'CO2_MAX', 'CO2_MIN', 'CO_MAX', 'CO_MIN', 'HUMIDITY', 'LIGHT', 'NO2_MAX', 'NO2_MIN', 'NO_MAX', 'NO_MIN', 'OZONE_MAX', 'OZONE_MIN', 'PM10_MAX', 'PM10_MIN', 'PM2_MAX', 'PM2_MIN', 'SO2_MAX', 'SO2_MIN', 'TEMPRATURE_MAX', 'UV_MAX', 'UV_MIN']\n"
          ],
          "name": "stdout"
        }
      ]
    },
    {
      "cell_type": "markdown",
      "metadata": {
        "id": "aEFArN2yDJFl",
        "colab_type": "text"
      },
      "source": [
        "A quantitativeProperty also has further meta information related to that property, such as a detailed description, units, etc.\n",
        "We can get a list of such attributes for a quantitativeProperty, and access them directly.\n",
        "For e.g, for PM10_MAX.\n"
      ]
    },
    {
      "cell_type": "code",
      "metadata": {
        "id": "M0zQOJtqDTFa",
        "colab_type": "code",
        "colab": {
          "base_uri": "https://localhost:8080/",
          "height": 89
        },
        "outputId": "56463214-6969-40bb-fe26-eb85fe742c19"
      },
      "source": [
        "print(aqms[0].CO2_MAX.attributes)\n",
        "print(\"Name of the property is \" + aqms[0].CO2_MAX.symbol)\n",
        "print(\"Units of the property are \" + aqms[0].CO2_MAX.symbol)\n",
        "print(\"The property tells us the \" + aqms[0].CO2_MAX.describes)"
      ],
      "execution_count": 19,
      "outputs": [
        {
          "output_type": "stream",
          "text": [
            "{'name': 'CO2_MAX', 'describes': 'Maximum value of CO2 for the last 24 hours', 'symbol': 'ppm', 'unitCode': 'X59', 'unitText': 'part per million (ppm)'}\n",
            "Name of the property is ppm\n",
            "Units of the property are ppm\n",
            "The property tells us the Maximum value of CO2 for the last 24 hours\n"
          ],
          "name": "stdout"
        }
      ]
    },
    {
      "cell_type": "code",
      "metadata": {
        "id": "kub8fys8GHAF",
        "colab_type": "code",
        "colab": {}
      },
      "source": [
        ""
      ],
      "execution_count": 0,
      "outputs": []
    },
    {
      "cell_type": "markdown",
      "metadata": {
        "id": "vDaXH_FACbQp",
        "colab_type": "text"
      },
      "source": [
        "We need to call the object's latest() method to get the latest data .\n",
        "Calling aqms.latest() will update the latest values of all these properties and for **all the previously filtered sensors**."
      ]
    },
    {
      "cell_type": "code",
      "metadata": {
        "id": "KkvIFyyCCODJ",
        "colab_type": "code",
        "colab": {
          "base_uri": "https://localhost:8080/",
          "height": 700
        },
        "outputId": "44c47d86-e513-4bf2-f56f-1197966f695c"
      },
      "source": [
        "aqms.latest()"
      ],
      "execution_count": 20,
      "outputs": [
        {
          "output_type": "error",
          "ename": "Warning",
          "evalue": "ignored",
          "traceback": [
            "\u001b[0;31m---------------------------------------------------------------------------\u001b[0m",
            "\u001b[0;31mRemoteTraceback\u001b[0m                           Traceback (most recent call last)",
            "\u001b[0;31mRemoteTraceback\u001b[0m: \n\"\"\"\nTraceback (most recent call last):\n  File \"/usr/lib/python3.6/multiprocessing/pool.py\", line 119, in worker\n    result = (True, func(*args, **kwds))\n  File \"/usr/lib/python3.6/multiprocessing/pool.py\", line 44, in mapstar\n    return list(map(*args))\n  File \"/usr/local/lib/python3.6/dist-packages/pyIUDX/rs/item.py\", line 306, in getLatest\n    obj.latest()\n  File \"/usr/local/lib/python3.6/dist-packages/pyIUDX/rs/item.py\", line 231, in latest\n    data = self.rs.getLatestData(self.id)\n  File \"/usr/local/lib/python3.6/dist-packages/pyIUDX/rs/rs.py\", line 100, in getLatestData\n    return self.getData(id, opts, token)\n  File \"/usr/local/lib/python3.6/dist-packages/pyIUDX/rs/rs.py\", line 78, in getData\n    raise Warning(\"Bad request. Check query body\")\nWarning: Bad request. Check query body\n\"\"\"",
            "\nThe above exception was the direct cause of the following exception:\n",
            "\u001b[0;31mWarning\u001b[0m                                   Traceback (most recent call last)",
            "\u001b[0;32m<ipython-input-20-51128143f661>\u001b[0m in \u001b[0;36m<module>\u001b[0;34m()\u001b[0m\n\u001b[0;32m----> 1\u001b[0;31m \u001b[0maqms\u001b[0m\u001b[0;34m.\u001b[0m\u001b[0mlatest\u001b[0m\u001b[0;34m(\u001b[0m\u001b[0;34m)\u001b[0m\u001b[0;34m\u001b[0m\u001b[0;34m\u001b[0m\u001b[0m\n\u001b[0m",
            "\u001b[0;32m/usr/local/lib/python3.6/dist-packages/pyIUDX/rs/item.py\u001b[0m in \u001b[0;36mlatest\u001b[0;34m(self)\u001b[0m\n\u001b[1;32m    319\u001b[0m         \"\"\"\n\u001b[1;32m    320\u001b[0m         \u001b[0;32mwith\u001b[0m \u001b[0mPool\u001b[0m\u001b[0;34m(\u001b[0m\u001b[0;36m4\u001b[0m\u001b[0;34m)\u001b[0m \u001b[0;32mas\u001b[0m \u001b[0mp\u001b[0m\u001b[0;34m:\u001b[0m\u001b[0;34m\u001b[0m\u001b[0;34m\u001b[0m\u001b[0m\n\u001b[0;32m--> 321\u001b[0;31m             \u001b[0mself\u001b[0m\u001b[0;34m.\u001b[0m\u001b[0mlist\u001b[0m \u001b[0;34m=\u001b[0m \u001b[0mp\u001b[0m\u001b[0;34m.\u001b[0m\u001b[0mmap\u001b[0m\u001b[0;34m(\u001b[0m\u001b[0mself\u001b[0m\u001b[0;34m.\u001b[0m\u001b[0mgetLatest\u001b[0m\u001b[0;34m,\u001b[0m \u001b[0mself\u001b[0m\u001b[0;34m.\u001b[0m\u001b[0mlist\u001b[0m\u001b[0;34m)\u001b[0m\u001b[0;34m\u001b[0m\u001b[0;34m\u001b[0m\u001b[0m\n\u001b[0m\u001b[1;32m    322\u001b[0m             \u001b[0mp\u001b[0m\u001b[0;34m.\u001b[0m\u001b[0mclose\u001b[0m\u001b[0;34m(\u001b[0m\u001b[0;34m)\u001b[0m\u001b[0;34m\u001b[0m\u001b[0;34m\u001b[0m\u001b[0m\n\u001b[1;32m    323\u001b[0m             \u001b[0mp\u001b[0m\u001b[0;34m.\u001b[0m\u001b[0mjoin\u001b[0m\u001b[0;34m(\u001b[0m\u001b[0;34m)\u001b[0m\u001b[0;34m\u001b[0m\u001b[0;34m\u001b[0m\u001b[0m\n",
            "\u001b[0;32m/usr/lib/python3.6/multiprocessing/pool.py\u001b[0m in \u001b[0;36mmap\u001b[0;34m(self, func, iterable, chunksize)\u001b[0m\n\u001b[1;32m    264\u001b[0m         \u001b[0;32min\u001b[0m \u001b[0ma\u001b[0m \u001b[0mlist\u001b[0m \u001b[0mthat\u001b[0m \u001b[0;32mis\u001b[0m \u001b[0mreturned\u001b[0m\u001b[0;34m.\u001b[0m\u001b[0;34m\u001b[0m\u001b[0;34m\u001b[0m\u001b[0m\n\u001b[1;32m    265\u001b[0m         '''\n\u001b[0;32m--> 266\u001b[0;31m         \u001b[0;32mreturn\u001b[0m \u001b[0mself\u001b[0m\u001b[0;34m.\u001b[0m\u001b[0m_map_async\u001b[0m\u001b[0;34m(\u001b[0m\u001b[0mfunc\u001b[0m\u001b[0;34m,\u001b[0m \u001b[0miterable\u001b[0m\u001b[0;34m,\u001b[0m \u001b[0mmapstar\u001b[0m\u001b[0;34m,\u001b[0m \u001b[0mchunksize\u001b[0m\u001b[0;34m)\u001b[0m\u001b[0;34m.\u001b[0m\u001b[0mget\u001b[0m\u001b[0;34m(\u001b[0m\u001b[0;34m)\u001b[0m\u001b[0;34m\u001b[0m\u001b[0;34m\u001b[0m\u001b[0m\n\u001b[0m\u001b[1;32m    267\u001b[0m \u001b[0;34m\u001b[0m\u001b[0m\n\u001b[1;32m    268\u001b[0m     \u001b[0;32mdef\u001b[0m \u001b[0mstarmap\u001b[0m\u001b[0;34m(\u001b[0m\u001b[0mself\u001b[0m\u001b[0;34m,\u001b[0m \u001b[0mfunc\u001b[0m\u001b[0;34m,\u001b[0m \u001b[0miterable\u001b[0m\u001b[0;34m,\u001b[0m \u001b[0mchunksize\u001b[0m\u001b[0;34m=\u001b[0m\u001b[0;32mNone\u001b[0m\u001b[0;34m)\u001b[0m\u001b[0;34m:\u001b[0m\u001b[0;34m\u001b[0m\u001b[0;34m\u001b[0m\u001b[0m\n",
            "\u001b[0;32m/usr/lib/python3.6/multiprocessing/pool.py\u001b[0m in \u001b[0;36mget\u001b[0;34m(self, timeout)\u001b[0m\n\u001b[1;32m    642\u001b[0m             \u001b[0;32mreturn\u001b[0m \u001b[0mself\u001b[0m\u001b[0;34m.\u001b[0m\u001b[0m_value\u001b[0m\u001b[0;34m\u001b[0m\u001b[0;34m\u001b[0m\u001b[0m\n\u001b[1;32m    643\u001b[0m         \u001b[0;32melse\u001b[0m\u001b[0;34m:\u001b[0m\u001b[0;34m\u001b[0m\u001b[0;34m\u001b[0m\u001b[0m\n\u001b[0;32m--> 644\u001b[0;31m             \u001b[0;32mraise\u001b[0m \u001b[0mself\u001b[0m\u001b[0;34m.\u001b[0m\u001b[0m_value\u001b[0m\u001b[0;34m\u001b[0m\u001b[0;34m\u001b[0m\u001b[0m\n\u001b[0m\u001b[1;32m    645\u001b[0m \u001b[0;34m\u001b[0m\u001b[0m\n\u001b[1;32m    646\u001b[0m     \u001b[0;32mdef\u001b[0m \u001b[0m_set\u001b[0m\u001b[0;34m(\u001b[0m\u001b[0mself\u001b[0m\u001b[0;34m,\u001b[0m \u001b[0mi\u001b[0m\u001b[0;34m,\u001b[0m \u001b[0mobj\u001b[0m\u001b[0;34m)\u001b[0m\u001b[0;34m:\u001b[0m\u001b[0;34m\u001b[0m\u001b[0;34m\u001b[0m\u001b[0m\n",
            "\u001b[0;31mWarning\u001b[0m: Bad request. Check query body"
          ]
        }
      ]
    },
    {
      "cell_type": "markdown",
      "metadata": {
        "id": "8txb32gDB0dd",
        "colab_type": "text"
      },
      "source": [
        "We can now call aqms[0].\"quantitativeProperty\".value to obtain a numpy array with the first column as datetime and second column as that property's value.\n",
        "A quantitativeProperty always has a .value attribute.\n"
      ]
    },
    {
      "cell_type": "code",
      "metadata": {
        "id": "L_n6brl7CyTs",
        "colab_type": "code",
        "colab": {}
      },
      "source": [
        "aqms[0].CO2_MAX.value"
      ],
      "execution_count": 0,
      "outputs": []
    },
    {
      "cell_type": "markdown",
      "metadata": {
        "id": "7AdboZMpFc0E",
        "colab_type": "text"
      },
      "source": [
        "Calling latest() once is enough. We can access other quantitativeProperties as well."
      ]
    },
    {
      "cell_type": "code",
      "metadata": {
        "id": "R-cFdJl6HfAR",
        "colab_type": "code",
        "colab": {}
      },
      "source": [
        "aqms[0].SO2_MAX.value"
      ],
      "execution_count": 0,
      "outputs": []
    },
    {
      "cell_type": "markdown",
      "metadata": {
        "id": "FSOJlcAiFtax",
        "colab_type": "text"
      },
      "source": [
        "Supposing there is a need to find the trend of a particular property over a period of time. We can use Items object's during() functionality to show a time series view of that quantitativeProperty. We need to specify the start and end time in utc format. Let's get the data during 27th October 2019 and 30th October 2019."
      ]
    },
    {
      "cell_type": "code",
      "metadata": {
        "id": "8pFx0KOXFrDT",
        "colab_type": "code",
        "colab": {}
      },
      "source": [
        "aqms.during(\"2019-10-27T00:00:00.000Z\", \"2019-10-30T00:00:00.000Z\")\n",
        "\n"
      ],
      "execution_count": 0,
      "outputs": []
    },
    {
      "cell_type": "markdown",
      "metadata": {
        "id": "iRE1RgZ5GlKL",
        "colab_type": "text"
      },
      "source": [
        "Now we can repeat what we did earlies and find the value of the quantitativeProperty **during** that period of time for **sensor 0**"
      ]
    },
    {
      "cell_type": "code",
      "metadata": {
        "id": "OUSm4e-TGuAO",
        "colab_type": "code",
        "colab": {}
      },
      "source": [
        "print(aqms[0].CO2_MIN.value)"
      ],
      "execution_count": 0,
      "outputs": []
    },
    {
      "cell_type": "markdown",
      "metadata": {
        "id": "afHaPPLNIbqs",
        "colab_type": "text"
      },
      "source": [
        "We can plot this right away!"
      ]
    },
    {
      "cell_type": "code",
      "metadata": {
        "id": "cne1AirgIFTv",
        "colab_type": "code",
        "colab": {}
      },
      "source": [
        "import matplotlib.pyplot as plt\n",
        "\n",
        "plt.scatter(aqms[0].CO2_MIN.value[:,0], aqms[0].CO2_MIN.value[:,1])"
      ],
      "execution_count": 0,
      "outputs": []
    },
    {
      "cell_type": "code",
      "metadata": {
        "id": "E_rJqeCxIzTn",
        "colab_type": "code",
        "colab": {}
      },
      "source": [
        ""
      ],
      "execution_count": 0,
      "outputs": []
    }
  ]
}