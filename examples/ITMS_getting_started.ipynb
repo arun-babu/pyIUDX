{
  "nbformat": 4,
  "nbformat_minor": 0,
  "metadata": {
    "colab": {
      "name": "ITMS_getting_started.ipynb",
      "provenance": [],
      "collapsed_sections": []
    },
    "kernelspec": {
      "name": "python3",
      "display_name": "Python 3"
    }
  },
  "cells": [
    {
      "cell_type": "markdown",
      "metadata": {
        "id": "0GHQBW0zmaNp",
        "colab_type": "text"
      },
      "source": [
        "# Pune ITMS data\n",
        "In this notebook we will have a look at the ITMS transit data from Pune. The data consists of two parts: 1) the static data corresponding to the different trip details (stop sequences, timings), stop details (stop_id, stop location) etc, and 2) on field data from the buses having information on the current trip undertaken by the bus, the current location of the bus, whether a bus is in transit to a stop or stopped at a stop etc. \n"
      ]
    },
    {
      "cell_type": "markdown",
      "metadata": {
        "id": "JN1c_IvcmVzc",
        "colab_type": "text"
      },
      "source": [
        "### Import required modules"
      ]
    },
    {
      "cell_type": "code",
      "metadata": {
        "id": "ylRzDlY-mkCO",
        "colab_type": "code",
        "colab": {}
      },
      "source": [
        "import numpy as np\n",
        "import pandas as pd\n",
        "#import matplotlib \n",
        "#matplotlib.use('nbagg')\n",
        "import matplotlib.pyplot as plt\n",
        "from datetime import datetime, timedelta\n",
        "import folium\n",
        "from folium import plugins\n",
        "import os\n",
        "import zipfile\n",
        "import random\n",
        "%matplotlib inline\n",
        "import math"
      ],
      "execution_count": 0,
      "outputs": []
    },
    {
      "cell_type": "markdown",
      "metadata": {
        "id": "NbZlAI8P5ZVE",
        "colab_type": "text"
      },
      "source": [
        "Install pyIUDX from github."
      ]
    },
    {
      "cell_type": "code",
      "metadata": {
        "id": "7ZjK-YNX5cFF",
        "colab_type": "code",
        "colab": {}
      },
      "source": [
        "!pip install git+https://github.com/iudx/pyIUDX --upgrade"
      ],
      "execution_count": 0,
      "outputs": []
    },
    {
      "cell_type": "markdown",
      "metadata": {
        "id": "JMZ7EMxL4m-b",
        "colab_type": "text"
      },
      "source": [
        "Let's import pyIUDX to get field data of buses on a particular day. Let's say 21st November between 6AM and 12PM. Since there is a lot of data, this will take some time.\n",
        "We will also need to find the id of the ITMS database from PUDX. Visit pudx.catalogue.iudx.org.in and search for ITMS to get the ID. The ID of the ITMS dataset is - \n",
        "rbccps.org/aa9d66a000d94a78895de8d4c0b3a67f3450e531/pudx-resource-server/pune-itms/pune-itms-live"
      ]
    },
    {
      "cell_type": "code",
      "metadata": {
        "id": "aJj2bYHZ4xy4",
        "colab_type": "code",
        "colab": {}
      },
      "source": [
        "from pyIUDX.rs import rs\n",
        "\n",
        "rs = rs.ResourceServer(\"https://pudx.resourceserver.iudx.org.in/resource-server/pscdcl/v1\")\n",
        "\n",
        "id = \"rbccps.org/aa9d66a000d94a78895de8d4c0b3a67f3450e531/pudx-resource-server/pune-itms/pune-itms-live\"\n",
        "startTime = \"2019-11-21T06:00:00.000+05:30\"\n",
        "endTime = \"2019-11-21T12:00:00.000+05:30\"\n",
        "\n",
        "\"\"\" The field data obtained here is a dictionary \"\"\"\n",
        "field_data = rs.getDataDuring(id, startTime, endTime)"
      ],
      "execution_count": 0,
      "outputs": []
    },
    {
      "cell_type": "markdown",
      "metadata": {
        "id": "fOBYbeDDmp3H",
        "colab_type": "text"
      },
      "source": [
        "## Get GTFS static files and field data files\n",
        "We download the required GTFS static files like trips.txt, stops.txt, stop_times.txt available at opendata.punecorporation.org\n",
        "This static meta data will be useful in visualization of the bus routes/stops and schedule.\n"
      ]
    },
    {
      "cell_type": "code",
      "metadata": {
        "id": "vHrn2OcFmmzV",
        "colab_type": "code",
        "colab": {}
      },
      "source": [
        "os.system(\"wget -N -O pune_ITMS_GTFS.zip 'http://opendata.punecorporation.org/Citizen/CitizenDatasets/Download/481?filepath=%2FDocuments%2F481%2FPMPML%20Bus%20Routes%20%20-%20July%202019.zip'\")\n",
        "with zipfile.ZipFile(\"pune_ITMS_GTFS.zip\",\"r\") as zip_ref:\n",
        "    zip_ref.extractall(\"targetdir\")"
      ],
      "execution_count": 0,
      "outputs": []
    },
    {
      "cell_type": "markdown",
      "metadata": {
        "id": "XAbyTyhDnl6K",
        "colab_type": "text"
      },
      "source": [
        "Our directory should now look like the following"
      ]
    },
    {
      "cell_type": "code",
      "metadata": {
        "id": "r1Hba5l7np9-",
        "colab_type": "code",
        "outputId": "a6bd5a54-1ad2-48a2-b51e-40584acde4a8",
        "colab": {
          "base_uri": "https://localhost:8080/",
          "height": 197
        }
      },
      "source": [
        "!ls -l targetdir"
      ],
      "execution_count": 5,
      "outputs": [
        {
          "output_type": "stream",
          "text": [
            "total 71040\n",
            "-rw-r--r-- 1 root root      152 Nov 24 10:47 agency.txt\n",
            "-rw-r--r-- 1 root root      372 Nov 24 10:47 calendar.txt\n",
            "-rw-r--r-- 1 root root      164 Nov 24 10:47 feed_info.txt\n",
            "-rw-r--r-- 1 root root     8540 Nov 24 10:47 routes.txt\n",
            "-rw-r--r-- 1 root root  5950145 Nov 24 10:47 shapes.txt\n",
            "-rw-r--r-- 1 root root   307430 Nov 24 10:47 stops.txt\n",
            "-rw-r--r-- 1 root root 64028482 Nov 24 10:47 stop_times.txt\n",
            "-rw-r--r-- 1 root root       51 Nov 24 10:47 translations.txt\n",
            "-rw-r--r-- 1 root root  2423483 Nov 24 10:47 trips.txt\n"
          ],
          "name": "stdout"
        }
      ]
    },
    {
      "cell_type": "markdown",
      "metadata": {
        "id": "rwbRekpeo_3X",
        "colab_type": "text"
      },
      "source": [
        "Let's read these files as Pandas dataframes."
      ]
    },
    {
      "cell_type": "markdown",
      "metadata": {
        "colab_type": "text",
        "id": "ttfMqAFsy3kG"
      },
      "source": [
        "These are a bunch of static files which are GTFS compliant. The last file is a field data, collected for buses travelling on a particular day. The static files are csv files and the field data is a json file."
      ]
    },
    {
      "cell_type": "code",
      "metadata": {
        "id": "2LdGUcYLnrQl",
        "colab_type": "code",
        "colab": {}
      },
      "source": [
        "df_stops = pd.read_csv('targetdir/stops.txt')\n",
        "df_trips = pd.read_csv('targetdir/trips.txt')\n",
        "df_shapes = pd.read_csv('targetdir/shapes.txt')\n",
        "df_routes = pd.read_csv('targetdir/routes.txt')\n",
        "df_trips.sort_values('route_id',inplace=True)\n",
        "df_stop_time = pd.read_csv('targetdir/stop_times.txt')\n",
        "\n",
        "df_field_data = pd.DataFrame(field_data)\n"
      ],
      "execution_count": 0,
      "outputs": []
    },
    {
      "cell_type": "markdown",
      "metadata": {
        "id": "tNcoL0PxCaSx",
        "colab_type": "text"
      },
      "source": [
        "Let's take a peek at the field data, which was the live data on the particular day we chose."
      ]
    },
    {
      "cell_type": "code",
      "metadata": {
        "id": "wSvRq5C9CgmA",
        "colab_type": "code",
        "outputId": "c4afcc66-35e5-4e99-b2ae-32405e116c48",
        "colab": {
          "base_uri": "https://localhost:8080/",
          "height": 289
        }
      },
      "source": [
        "df_field_data.head(5)"
      ],
      "execution_count": 7,
      "outputs": [
        {
          "output_type": "execute_result",
          "data": {
            "text/html": [
              "<div>\n",
              "<style scoped>\n",
              "    .dataframe tbody tr th:only-of-type {\n",
              "        vertical-align: middle;\n",
              "    }\n",
              "\n",
              "    .dataframe tbody tr th {\n",
              "        vertical-align: top;\n",
              "    }\n",
              "\n",
              "    .dataframe thead th {\n",
              "        text-align: right;\n",
              "    }\n",
              "</style>\n",
              "<table border=\"1\" class=\"dataframe\">\n",
              "  <thead>\n",
              "    <tr style=\"text-align: right;\">\n",
              "      <th></th>\n",
              "      <th>STOP_NAME</th>\n",
              "      <th>NAME</th>\n",
              "      <th>LASTUPDATEDATETIME</th>\n",
              "      <th>SCHEDULE_RELATIONSHIP</th>\n",
              "      <th>CURRENT_STOP_SEQUENCE</th>\n",
              "      <th>ROUTE_NAME</th>\n",
              "      <th>CURRENT_STATUS</th>\n",
              "      <th>ROUTE_ID</th>\n",
              "      <th>LATITUDE_STR</th>\n",
              "      <th>STOP_ID</th>\n",
              "      <th>POSITION_UPDATE_TIMESTAMP</th>\n",
              "      <th>TRIP_ID</th>\n",
              "      <th>LONGITUDE_STR</th>\n",
              "    </tr>\n",
              "  </thead>\n",
              "  <tbody>\n",
              "    <tr>\n",
              "      <th>0</th>\n",
              "      <td>None</td>\n",
              "      <td>E014</td>\n",
              "      <td>2019-11-21T11:59:59.716+05:30</td>\n",
              "      <td>SCHEDULED</td>\n",
              "      <td>32</td>\n",
              "      <td>None</td>\n",
              "      <td>IN_TRANSIT_TO</td>\n",
              "      <td>180</td>\n",
              "      <td>18.530954</td>\n",
              "      <td>153009</td>\n",
              "      <td>2019-11-21T06:29:30</td>\n",
              "      <td>NORMAL_180_Bhekrainagar To Na Ta Wadi_Down-1145_0</td>\n",
              "      <td>73.847534</td>\n",
              "    </tr>\n",
              "    <tr>\n",
              "      <th>1</th>\n",
              "      <td>None</td>\n",
              "      <td>E001</td>\n",
              "      <td>2019-11-21T11:59:59.566+05:30</td>\n",
              "      <td>SCHEDULED</td>\n",
              "      <td>10</td>\n",
              "      <td>None</td>\n",
              "      <td>IN_TRANSIT_TO</td>\n",
              "      <td>322</td>\n",
              "      <td>18.627222</td>\n",
              "      <td>152113</td>\n",
              "      <td>2019-11-21T06:29:22</td>\n",
              "      <td>NORMAL_322_Akurdi Railway Station To Ma Na Pa ...</td>\n",
              "      <td>73.78255</td>\n",
              "    </tr>\n",
              "    <tr>\n",
              "      <th>2</th>\n",
              "      <td>None</td>\n",
              "      <td>E015</td>\n",
              "      <td>2019-11-21T11:59:59.439+05:30</td>\n",
              "      <td>SCHEDULED</td>\n",
              "      <td>3</td>\n",
              "      <td>None</td>\n",
              "      <td>IN_TRANSIT_TO</td>\n",
              "      <td>180</td>\n",
              "      <td>18.529034</td>\n",
              "      <td>40003</td>\n",
              "      <td>2019-11-21T06:29:28</td>\n",
              "      <td>NORMAL_180_Na Ta Wadi To Bhekrainagar_Up-1730_0</td>\n",
              "      <td>73.852516</td>\n",
              "    </tr>\n",
              "    <tr>\n",
              "      <th>3</th>\n",
              "      <td>None</td>\n",
              "      <td>E006</td>\n",
              "      <td>2019-11-21T11:59:59.381+05:30</td>\n",
              "      <td>SCHEDULED</td>\n",
              "      <td>11</td>\n",
              "      <td>None</td>\n",
              "      <td>IN_TRANSIT_TO</td>\n",
              "      <td>372</td>\n",
              "      <td>18.593365</td>\n",
              "      <td>40474</td>\n",
              "      <td>2019-11-21T06:29:25</td>\n",
              "      <td>NORMAL_372_Hinjawadi Maan Phase 3 To Bhakti Sh...</td>\n",
              "      <td>73.7361</td>\n",
              "    </tr>\n",
              "    <tr>\n",
              "      <th>4</th>\n",
              "      <td>None</td>\n",
              "      <td>680</td>\n",
              "      <td>2019-11-21T11:59:59.314+05:30</td>\n",
              "      <td>SCHEDULED</td>\n",
              "      <td>10</td>\n",
              "      <td>None</td>\n",
              "      <td>IN_TRANSIT_TO</td>\n",
              "      <td>58</td>\n",
              "      <td>18.518957</td>\n",
              "      <td>30417</td>\n",
              "      <td>2019-11-21T06:29:29</td>\n",
              "      <td>NORMAL_58_Shanipar To Gokhalenagar_Up-1135_0</td>\n",
              "      <td>73.83155</td>\n",
              "    </tr>\n",
              "  </tbody>\n",
              "</table>\n",
              "</div>"
            ],
            "text/plain": [
              "  STOP_NAME  ... LONGITUDE_STR\n",
              "0      None  ...     73.847534\n",
              "1      None  ...      73.78255\n",
              "2      None  ...     73.852516\n",
              "3      None  ...       73.7361\n",
              "4      None  ...      73.83155\n",
              "\n",
              "[5 rows x 13 columns]"
            ]
          },
          "metadata": {
            "tags": []
          },
          "execution_count": 7
        }
      ]
    },
    {
      "cell_type": "markdown",
      "metadata": {
        "id": "106DLoUZCj9I",
        "colab_type": "text"
      },
      "source": [
        "The POSITION_UPDATE_TIMESTAMP(string) is the time stamp when the latitude and longitude(string) were recorded. These need to bee converted to date-time objects and floats respectively."
      ]
    },
    {
      "cell_type": "code",
      "metadata": {
        "id": "shcg57_YCyM5",
        "colab_type": "code",
        "colab": {}
      },
      "source": [
        "df_field_data[\"POSITION_UPDATE_TIMESTAMP\"] = pd.to_datetime(df_field_data[\"POSITION_UPDATE_TIMESTAMP\"])\n",
        "df_field_data[\"LATITUDE_STR\"] = pd.to_numeric(df_field_data[\"LATITUDE_STR\"])\n",
        "df_field_data[\"LONGITUDE_STR\"] = pd.to_numeric(df_field_data[\"LONGITUDE_STR\"])\n",
        "\"\"\" Other fields which need to be converted \"\"\"\n",
        "df_field_data[\"STOP_ID\"] = pd.to_numeric(df_field_data[\"STOP_ID\"])\n",
        "df_field_data[\"CURRENT_STOP_SEQUENCE\"] = pd.to_numeric(df_field_data[\"STOP_ID\"])"
      ],
      "execution_count": 0,
      "outputs": []
    },
    {
      "cell_type": "markdown",
      "metadata": {
        "id": "nFQEsjCtxfFg",
        "colab_type": "text"
      },
      "source": [
        "## Understanding the GTFS static files\n",
        "\n",
        "Pune's static GTFS files define stops, trips and routes as the following -\n",
        "\n",
        "| Field Name \t| Field Description \t| Example \t| \n",
        "--- | --- | ---\n",
        "| route_id \t| ID of the route. A route is a fixed path between  two points. Routes in the dataset has no name. \t| 42.  This number features in the trip_id field \t| \n",
        "| trip_id \t| There can be many trips for the same route. For e.g, one bus can go on the same route multiple times, but for each such trips, there will be a different trip_id \t| NORMAL_42_Katraj To Bhakti Shakti_Up-0740_0 {Route_ID}{Route_String} {Direction Up/Down}-{Time HHMM}{0}\n",
        "| stop_id | ID of a given stop. A route has multiple stops. | 4036\n",
        "| shape_id | Every route has a shape_id associated with it. This demarcates the path of the route| 3389"
      ]
    },
    {
      "cell_type": "markdown",
      "metadata": {
        "id": "leEGPHAbrd-G",
        "colab_type": "text"
      },
      "source": [
        "## Dataset deep dive"
      ]
    },
    {
      "cell_type": "markdown",
      "metadata": {
        "id": "ogWQDCKN8g4-",
        "colab_type": "text"
      },
      "source": [
        "Let's see a few routes available in Pune."
      ]
    },
    {
      "cell_type": "code",
      "metadata": {
        "id": "InG6ETgP8lil",
        "colab_type": "code",
        "outputId": "b7721947-d37e-4880-e9dd-6ae03d05f41a",
        "colab": {
          "base_uri": "https://localhost:8080/",
          "height": 204
        }
      },
      "source": [
        "df_routes.head()"
      ],
      "execution_count": 9,
      "outputs": [
        {
          "output_type": "execute_result",
          "data": {
            "text/html": [
              "<div>\n",
              "<style scoped>\n",
              "    .dataframe tbody tr th:only-of-type {\n",
              "        vertical-align: middle;\n",
              "    }\n",
              "\n",
              "    .dataframe tbody tr th {\n",
              "        vertical-align: top;\n",
              "    }\n",
              "\n",
              "    .dataframe thead th {\n",
              "        text-align: right;\n",
              "    }\n",
              "</style>\n",
              "<table border=\"1\" class=\"dataframe\">\n",
              "  <thead>\n",
              "    <tr style=\"text-align: right;\">\n",
              "      <th></th>\n",
              "      <th>route_id</th>\n",
              "      <th>agency_id</th>\n",
              "      <th>route_short_name</th>\n",
              "      <th>route_long_name</th>\n",
              "      <th>route_desc</th>\n",
              "      <th>route_type</th>\n",
              "      <th>route_url</th>\n",
              "      <th>route_color</th>\n",
              "      <th>route_text_color</th>\n",
              "    </tr>\n",
              "  </thead>\n",
              "  <tbody>\n",
              "    <tr>\n",
              "      <th>0</th>\n",
              "      <td>100_18</td>\n",
              "      <td>PMPML</td>\n",
              "      <td>100</td>\n",
              "      <td>Ma. Na. Pa. to  Hinjawadi Phase</td>\n",
              "      <td>NaN</td>\n",
              "      <td>3</td>\n",
              "      <td>NaN</td>\n",
              "      <td>NaN</td>\n",
              "      <td>NaN</td>\n",
              "    </tr>\n",
              "    <tr>\n",
              "      <th>1</th>\n",
              "      <td>101</td>\n",
              "      <td>PMPML</td>\n",
              "      <td>101</td>\n",
              "      <td>NaN</td>\n",
              "      <td>NaN</td>\n",
              "      <td>3</td>\n",
              "      <td>NaN</td>\n",
              "      <td>NaN</td>\n",
              "      <td>NaN</td>\n",
              "    </tr>\n",
              "    <tr>\n",
              "      <th>2</th>\n",
              "      <td>102</td>\n",
              "      <td>PMPML</td>\n",
              "      <td>102</td>\n",
              "      <td>NaN</td>\n",
              "      <td>NaN</td>\n",
              "      <td>3</td>\n",
              "      <td>NaN</td>\n",
              "      <td>NaN</td>\n",
              "      <td>NaN</td>\n",
              "    </tr>\n",
              "    <tr>\n",
              "      <th>3</th>\n",
              "      <td>103M</td>\n",
              "      <td>PMPML</td>\n",
              "      <td>103M</td>\n",
              "      <td>NaN</td>\n",
              "      <td>NaN</td>\n",
              "      <td>3</td>\n",
              "      <td>NaN</td>\n",
              "      <td>NaN</td>\n",
              "      <td>NaN</td>\n",
              "    </tr>\n",
              "    <tr>\n",
              "      <th>4</th>\n",
              "      <td>103</td>\n",
              "      <td>PMPML</td>\n",
              "      <td>103</td>\n",
              "      <td>NaN</td>\n",
              "      <td>NaN</td>\n",
              "      <td>3</td>\n",
              "      <td>NaN</td>\n",
              "      <td>NaN</td>\n",
              "      <td>NaN</td>\n",
              "    </tr>\n",
              "  </tbody>\n",
              "</table>\n",
              "</div>"
            ],
            "text/plain": [
              "  route_id agency_id route_short_name  ... route_url  route_color  route_text_color\n",
              "0   100_18     PMPML              100  ...       NaN          NaN               NaN\n",
              "1      101     PMPML              101  ...       NaN          NaN               NaN\n",
              "2      102     PMPML              102  ...       NaN          NaN               NaN\n",
              "3     103M     PMPML             103M  ...       NaN          NaN               NaN\n",
              "4      103     PMPML              103  ...       NaN          NaN               NaN\n",
              "\n",
              "[5 rows x 9 columns]"
            ]
          },
          "metadata": {
            "tags": []
          },
          "execution_count": 9
        }
      ]
    },
    {
      "cell_type": "markdown",
      "metadata": {
        "id": "eYzO6lYtrh3L",
        "colab_type": "text"
      },
      "source": [
        "Let's assume we want to see a specific route. Let's see the trips associated with that route."
      ]
    },
    {
      "cell_type": "code",
      "metadata": {
        "id": "_ODIEUl1rpL0",
        "colab_type": "code",
        "outputId": "a5f7a1f2-21c7-4731-80d9-94eb5492c58b",
        "colab": {
          "base_uri": "https://localhost:8080/",
          "height": 289
        }
      },
      "source": [
        "chosen_route = \"5\"\n",
        "df_trips.loc[df_trips[\"route_id\"] == chosen_route].head()"
      ],
      "execution_count": 10,
      "outputs": [
        {
          "output_type": "execute_result",
          "data": {
            "text/html": [
              "<div>\n",
              "<style scoped>\n",
              "    .dataframe tbody tr th:only-of-type {\n",
              "        vertical-align: middle;\n",
              "    }\n",
              "\n",
              "    .dataframe tbody tr th {\n",
              "        vertical-align: top;\n",
              "    }\n",
              "\n",
              "    .dataframe thead th {\n",
              "        text-align: right;\n",
              "    }\n",
              "</style>\n",
              "<table border=\"1\" class=\"dataframe\">\n",
              "  <thead>\n",
              "    <tr style=\"text-align: right;\">\n",
              "      <th></th>\n",
              "      <th>route_id</th>\n",
              "      <th>service_id</th>\n",
              "      <th>trip_id</th>\n",
              "      <th>trip_headsign</th>\n",
              "      <th>trip_short_name</th>\n",
              "      <th>direction_id</th>\n",
              "      <th>block_id</th>\n",
              "      <th>shape_id</th>\n",
              "      <th>wheelchair_accessible</th>\n",
              "      <th>bikes_allowed</th>\n",
              "      <th>duty</th>\n",
              "      <th>duty_sequence_number</th>\n",
              "      <th>run_sequence_number</th>\n",
              "    </tr>\n",
              "  </thead>\n",
              "  <tbody>\n",
              "    <tr>\n",
              "      <th>20539</th>\n",
              "      <td>5</td>\n",
              "      <td>1</td>\n",
              "      <td>NORMAL_5_Swargate To Pune Station_Up-1850_0</td>\n",
              "      <td>Swargate To Pune Station</td>\n",
              "      <td>NaN</td>\n",
              "      <td>0</td>\n",
              "      <td>NaN</td>\n",
              "      <td>3388</td>\n",
              "      <td>NaN</td>\n",
              "      <td>NaN</td>\n",
              "      <td>5/7</td>\n",
              "      <td>24</td>\n",
              "      <td>10</td>\n",
              "    </tr>\n",
              "    <tr>\n",
              "      <th>20538</th>\n",
              "      <td>5</td>\n",
              "      <td>1</td>\n",
              "      <td>NORMAL_5_Pune Station To Swargate_Down-1815_0</td>\n",
              "      <td>Pune Station To Swargate</td>\n",
              "      <td>NaN</td>\n",
              "      <td>0</td>\n",
              "      <td>NaN</td>\n",
              "      <td>3389</td>\n",
              "      <td>NaN</td>\n",
              "      <td>NaN</td>\n",
              "      <td>5/7</td>\n",
              "      <td>23</td>\n",
              "      <td>9</td>\n",
              "    </tr>\n",
              "    <tr>\n",
              "      <th>20540</th>\n",
              "      <td>5</td>\n",
              "      <td>1</td>\n",
              "      <td>NORMAL_5_Pune Station To Swargate_Down-1955_0</td>\n",
              "      <td>Pune Station To Swargate</td>\n",
              "      <td>NaN</td>\n",
              "      <td>0</td>\n",
              "      <td>NaN</td>\n",
              "      <td>3389</td>\n",
              "      <td>NaN</td>\n",
              "      <td>NaN</td>\n",
              "      <td>5/7</td>\n",
              "      <td>25</td>\n",
              "      <td>11</td>\n",
              "    </tr>\n",
              "    <tr>\n",
              "      <th>20498</th>\n",
              "      <td>5</td>\n",
              "      <td>1</td>\n",
              "      <td>NORMAL_5_Pune Station To Swargate_Down-1245_0</td>\n",
              "      <td>Pune Station To Swargate</td>\n",
              "      <td>NaN</td>\n",
              "      <td>0</td>\n",
              "      <td>NaN</td>\n",
              "      <td>3389</td>\n",
              "      <td>NaN</td>\n",
              "      <td>NaN</td>\n",
              "      <td>5/6</td>\n",
              "      <td>11</td>\n",
              "      <td>11</td>\n",
              "    </tr>\n",
              "    <tr>\n",
              "      <th>20351</th>\n",
              "      <td>5</td>\n",
              "      <td>1</td>\n",
              "      <td>NORMAL_5_Pune Station To Swargate_Down-0620_0</td>\n",
              "      <td>Pune Station To Swargate</td>\n",
              "      <td>NaN</td>\n",
              "      <td>0</td>\n",
              "      <td>NaN</td>\n",
              "      <td>3389</td>\n",
              "      <td>NaN</td>\n",
              "      <td>NaN</td>\n",
              "      <td>5/1</td>\n",
              "      <td>3</td>\n",
              "      <td>3</td>\n",
              "    </tr>\n",
              "  </tbody>\n",
              "</table>\n",
              "</div>"
            ],
            "text/plain": [
              "      route_id  service_id  ... duty_sequence_number run_sequence_number\n",
              "20539        5           1  ...                   24                  10\n",
              "20538        5           1  ...                   23                   9\n",
              "20540        5           1  ...                   25                  11\n",
              "20498        5           1  ...                   11                  11\n",
              "20351        5           1  ...                    3                   3\n",
              "\n",
              "[5 rows x 13 columns]"
            ]
          },
          "metadata": {
            "tags": []
          },
          "execution_count": 10
        }
      ]
    },
    {
      "cell_type": "markdown",
      "metadata": {
        "id": "rQ117_Jjrv7A",
        "colab_type": "text"
      },
      "source": [
        "What's important in this is the route_id, trip_id, the trip_headsign and the shape_id.\n",
        "The trip_id is the id that ties a bus to a route. trip_id's has the following heirarchical naming structure -\n",
        "{Normal/Special}_{route_id}_{trip_headsign}_{Direction Up/Down}_{Time HHMM}_{0}"
      ]
    },
    {
      "cell_type": "markdown",
      "metadata": {
        "id": "2gmaMf-xtXnx",
        "colab_type": "text"
      },
      "source": [
        "Again, bear in mind, a route is a static path between two points (with no temporal connotations), a trip is a journey a bus takes along a certain route and during a certain time."
      ]
    },
    {
      "cell_type": "markdown",
      "metadata": {
        "id": "SQG-eXGx-_Iv",
        "colab_type": "text"
      },
      "source": [
        "Let's take a peek at how the field data from buses moving around Pune looks like"
      ]
    },
    {
      "cell_type": "code",
      "metadata": {
        "colab_type": "code",
        "outputId": "7f39631f-b8a4-4c32-e7c5-551c2ed113a9",
        "id": "y0mefj14Bq_q",
        "colab": {
          "base_uri": "https://localhost:8080/",
          "height": 289
        }
      },
      "source": [
        "df_field_data.head(5)"
      ],
      "execution_count": 11,
      "outputs": [
        {
          "output_type": "execute_result",
          "data": {
            "text/html": [
              "<div>\n",
              "<style scoped>\n",
              "    .dataframe tbody tr th:only-of-type {\n",
              "        vertical-align: middle;\n",
              "    }\n",
              "\n",
              "    .dataframe tbody tr th {\n",
              "        vertical-align: top;\n",
              "    }\n",
              "\n",
              "    .dataframe thead th {\n",
              "        text-align: right;\n",
              "    }\n",
              "</style>\n",
              "<table border=\"1\" class=\"dataframe\">\n",
              "  <thead>\n",
              "    <tr style=\"text-align: right;\">\n",
              "      <th></th>\n",
              "      <th>STOP_NAME</th>\n",
              "      <th>NAME</th>\n",
              "      <th>LASTUPDATEDATETIME</th>\n",
              "      <th>SCHEDULE_RELATIONSHIP</th>\n",
              "      <th>CURRENT_STOP_SEQUENCE</th>\n",
              "      <th>ROUTE_NAME</th>\n",
              "      <th>CURRENT_STATUS</th>\n",
              "      <th>ROUTE_ID</th>\n",
              "      <th>LATITUDE_STR</th>\n",
              "      <th>STOP_ID</th>\n",
              "      <th>POSITION_UPDATE_TIMESTAMP</th>\n",
              "      <th>TRIP_ID</th>\n",
              "      <th>LONGITUDE_STR</th>\n",
              "    </tr>\n",
              "  </thead>\n",
              "  <tbody>\n",
              "    <tr>\n",
              "      <th>0</th>\n",
              "      <td>None</td>\n",
              "      <td>E014</td>\n",
              "      <td>2019-11-21T11:59:59.716+05:30</td>\n",
              "      <td>SCHEDULED</td>\n",
              "      <td>153009.0</td>\n",
              "      <td>None</td>\n",
              "      <td>IN_TRANSIT_TO</td>\n",
              "      <td>180</td>\n",
              "      <td>18.530954</td>\n",
              "      <td>153009.0</td>\n",
              "      <td>2019-11-21 06:29:30</td>\n",
              "      <td>NORMAL_180_Bhekrainagar To Na Ta Wadi_Down-1145_0</td>\n",
              "      <td>73.847534</td>\n",
              "    </tr>\n",
              "    <tr>\n",
              "      <th>1</th>\n",
              "      <td>None</td>\n",
              "      <td>E001</td>\n",
              "      <td>2019-11-21T11:59:59.566+05:30</td>\n",
              "      <td>SCHEDULED</td>\n",
              "      <td>152113.0</td>\n",
              "      <td>None</td>\n",
              "      <td>IN_TRANSIT_TO</td>\n",
              "      <td>322</td>\n",
              "      <td>18.627222</td>\n",
              "      <td>152113.0</td>\n",
              "      <td>2019-11-21 06:29:22</td>\n",
              "      <td>NORMAL_322_Akurdi Railway Station To Ma Na Pa ...</td>\n",
              "      <td>73.782550</td>\n",
              "    </tr>\n",
              "    <tr>\n",
              "      <th>2</th>\n",
              "      <td>None</td>\n",
              "      <td>E015</td>\n",
              "      <td>2019-11-21T11:59:59.439+05:30</td>\n",
              "      <td>SCHEDULED</td>\n",
              "      <td>40003.0</td>\n",
              "      <td>None</td>\n",
              "      <td>IN_TRANSIT_TO</td>\n",
              "      <td>180</td>\n",
              "      <td>18.529034</td>\n",
              "      <td>40003.0</td>\n",
              "      <td>2019-11-21 06:29:28</td>\n",
              "      <td>NORMAL_180_Na Ta Wadi To Bhekrainagar_Up-1730_0</td>\n",
              "      <td>73.852516</td>\n",
              "    </tr>\n",
              "    <tr>\n",
              "      <th>3</th>\n",
              "      <td>None</td>\n",
              "      <td>E006</td>\n",
              "      <td>2019-11-21T11:59:59.381+05:30</td>\n",
              "      <td>SCHEDULED</td>\n",
              "      <td>40474.0</td>\n",
              "      <td>None</td>\n",
              "      <td>IN_TRANSIT_TO</td>\n",
              "      <td>372</td>\n",
              "      <td>18.593365</td>\n",
              "      <td>40474.0</td>\n",
              "      <td>2019-11-21 06:29:25</td>\n",
              "      <td>NORMAL_372_Hinjawadi Maan Phase 3 To Bhakti Sh...</td>\n",
              "      <td>73.736100</td>\n",
              "    </tr>\n",
              "    <tr>\n",
              "      <th>4</th>\n",
              "      <td>None</td>\n",
              "      <td>680</td>\n",
              "      <td>2019-11-21T11:59:59.314+05:30</td>\n",
              "      <td>SCHEDULED</td>\n",
              "      <td>30417.0</td>\n",
              "      <td>None</td>\n",
              "      <td>IN_TRANSIT_TO</td>\n",
              "      <td>58</td>\n",
              "      <td>18.518957</td>\n",
              "      <td>30417.0</td>\n",
              "      <td>2019-11-21 06:29:29</td>\n",
              "      <td>NORMAL_58_Shanipar To Gokhalenagar_Up-1135_0</td>\n",
              "      <td>73.831550</td>\n",
              "    </tr>\n",
              "  </tbody>\n",
              "</table>\n",
              "</div>"
            ],
            "text/plain": [
              "  STOP_NAME  ... LONGITUDE_STR\n",
              "0      None  ...     73.847534\n",
              "1      None  ...     73.782550\n",
              "2      None  ...     73.852516\n",
              "3      None  ...     73.736100\n",
              "4      None  ...     73.831550\n",
              "\n",
              "[5 rows x 13 columns]"
            ]
          },
          "metadata": {
            "tags": []
          },
          "execution_count": 11
        }
      ]
    },
    {
      "cell_type": "markdown",
      "metadata": {
        "id": "3gHOghaf-b0Q",
        "colab_type": "text"
      },
      "source": [
        "Let's see 10 of the most prominent trips in the field data. These trips have the best GPS data."
      ]
    },
    {
      "cell_type": "code",
      "metadata": {
        "id": "B5DzLf9h-gex",
        "colab_type": "code",
        "outputId": "d3607f1e-0dc1-4fd5-a4f1-e2c460f034b5",
        "colab": {
          "base_uri": "https://localhost:8080/",
          "height": 197
        }
      },
      "source": [
        "good_trips = df_field_data[\"TRIP_ID\"].value_counts()[:50].index.tolist()\n",
        "good_trips[:10]"
      ],
      "execution_count": 12,
      "outputs": [
        {
          "output_type": "execute_result",
          "data": {
            "text/plain": [
              "['NORMAL_114_Ma Na Pa To Mhalungegaon_Up-1440_0',\n",
              " 'NORMAL_87_Deccan Gymkhana To Girmepark_Up-0750_0',\n",
              " 'NORMAL_43_Katraj To Bhakti Shakti_Up-0625_0',\n",
              " 'NORMAL_12_Bhakti Shakti To Upper Depot_Down-1225_0',\n",
              " 'NORMAL_323B_Nehrunagar Depo To Chikhali_Up-0550_1',\n",
              " 'NORMAL_5_Pune Station To Swargate_Down-0625_0',\n",
              " 'NORMAL_201_Bhekrainagar To Alandi_Up-0510_0',\n",
              " 'NORMAL_143A_Galinde Path To Pune Station (Vai Nal Stop)_Up-0810_0',\n",
              " 'NORMAL_101_Kothrud Depot To Kondhwa Kh_Up-0600_0',\n",
              " 'NORMAL_148_Shewalwadi To Pimple Gurav_Up-0915_0']"
            ]
          },
          "metadata": {
            "tags": []
          },
          "execution_count": 12
        }
      ]
    },
    {
      "cell_type": "markdown",
      "metadata": {
        "id": "hBXkpiWRFESc",
        "colab_type": "text"
      },
      "source": [
        "Unfortunately, a trip having most records in the dataset is not an indication of the bus actually moving. We'll need to choose trips with the most variance in latitude, longitude and stop_ids. Entroipy is one such measure. The larger the entropy, the greater the guarantee that the bus is moving and changing stops. Let's create a function that calculates the entroopy of stops and position and creates a score based on that. Taking the index of the trip with a maximum score will yield a good trip which we will use to analyze."
      ]
    },
    {
      "cell_type": "code",
      "metadata": {
        "id": "aB5ZrBWyW2u0",
        "colab_type": "code",
        "colab": {}
      },
      "source": [
        "import numpy as np\n",
        "from scipy.stats import entropy\n",
        "from math import log, e\n",
        "\n",
        "def column_entropy(column, base=None):\n",
        "  vc = pd.Series(column).value_counts(normalize=True, sort=False)\n",
        "  base = e if base is None else base\n",
        "  return -(vc * np.log(vc)/np.log(base)).sum()"
      ],
      "execution_count": 0,
      "outputs": []
    },
    {
      "cell_type": "code",
      "metadata": {
        "id": "hPX0CK-iFVYa",
        "colab_type": "code",
        "colab": {}
      },
      "source": [
        "df_field_grouped = df_field_data.groupby([\"TRIP_ID\"])\n",
        "score = []\n",
        "\"\"\" Iterate through each trip \"\"\"\n",
        "for trip in good_trips:\n",
        "  group = df_field_grouped.get_group(trip)\n",
        "  entropy_pos = column_entropy(group[\"LONGITUDE_STR\"])\n",
        "  entropy_stop =  column_entropy(group[\"STOP_ID\"])\n",
        "  \"\"\" Compute score \"\"\"\n",
        "  score.append(entropy_pos * entropy_stop)\n",
        "\n",
        "\"\"\" Get indexes of sorted scores \"\"\"\n",
        "good_trips_sorted_indexes = np.argsort(score)\n",
        "\n",
        "\"\"\" The last one of the sorted indices is the one with the best score \"\"\"\n",
        "best_index = good_trips_sorted_indexes[-1]"
      ],
      "execution_count": 0,
      "outputs": []
    },
    {
      "cell_type": "markdown",
      "metadata": {
        "id": "XDfmgeCGtqvS",
        "colab_type": "text"
      },
      "source": [
        "We have chosen the trip with the best entropy score for our analysis. You may choose any other trip.\n",
        "Now we can use this best_index and choose the trip name corresponding to that index."
      ]
    },
    {
      "cell_type": "code",
      "metadata": {
        "id": "lHe-7QzT29Qa",
        "colab_type": "code",
        "outputId": "27c678af-6ddc-4d45-950a-b964f2ab1c0f",
        "colab": {
          "base_uri": "https://localhost:8080/",
          "height": 35
        }
      },
      "source": [
        "chosen_trip = good_trips[best_index]\n",
        "chosen_trip"
      ],
      "execution_count": 15,
      "outputs": [
        {
          "output_type": "execute_result",
          "data": {
            "text/plain": [
              "'NORMAL_298_Chinchwad Gaon To Katraj_Down-1040_0'"
            ]
          },
          "metadata": {
            "tags": []
          },
          "execution_count": 15
        }
      ]
    },
    {
      "cell_type": "markdown",
      "metadata": {
        "id": "TKJtN7WjZAtf",
        "colab_type": "text"
      },
      "source": [
        "We will proceed with out analysis for this trip"
      ]
    },
    {
      "cell_type": "markdown",
      "metadata": {
        "id": "d5P24ptMuq9X",
        "colab_type": "text"
      },
      "source": [
        "These are the first 5 stops of that trip with their respective times and stop_id. "
      ]
    },
    {
      "cell_type": "code",
      "metadata": {
        "id": "jbrAxC6dpGYg",
        "colab_type": "code",
        "outputId": "b9b81499-d62e-4198-df62-92076390e87e",
        "colab": {
          "base_uri": "https://localhost:8080/",
          "height": 107
        }
      },
      "source": [
        "df_stop_time.loc[df_stop_time[\"trip_id\"] == chosen_trip].head(5)[\"trip_id\"].values"
      ],
      "execution_count": 16,
      "outputs": [
        {
          "output_type": "execute_result",
          "data": {
            "text/plain": [
              "array(['NORMAL_298_Chinchwad Gaon To Katraj_Down-1040_0',\n",
              "       'NORMAL_298_Chinchwad Gaon To Katraj_Down-1040_0',\n",
              "       'NORMAL_298_Chinchwad Gaon To Katraj_Down-1040_0',\n",
              "       'NORMAL_298_Chinchwad Gaon To Katraj_Down-1040_0',\n",
              "       'NORMAL_298_Chinchwad Gaon To Katraj_Down-1040_0'], dtype=object)"
            ]
          },
          "metadata": {
            "tags": []
          },
          "execution_count": 16
        }
      ]
    },
    {
      "cell_type": "code",
      "metadata": {
        "id": "-WjWO-VpqlcZ",
        "colab_type": "code",
        "colab": {}
      },
      "source": [
        ""
      ],
      "execution_count": 0,
      "outputs": []
    },
    {
      "cell_type": "markdown",
      "metadata": {
        "id": "qwGs8y-vzG3q",
        "colab_type": "text"
      },
      "source": [
        "Let's revisit the trips dataframe. Notice the shape_id, this is an identifier for all the stops that belong to a trip. Let's take a specific example of one particular trip."
      ]
    },
    {
      "cell_type": "code",
      "metadata": {
        "id": "mLE1kkZqzt26",
        "colab_type": "code",
        "outputId": "09121924-7c12-42f6-92de-82c6733ea30b",
        "colab": {
          "base_uri": "https://localhost:8080/",
          "height": 97
        }
      },
      "source": [
        "route_of_trip = df_trips.loc[df_trips[\"trip_id\"] == chosen_trip]\n",
        "route_of_trip"
      ],
      "execution_count": 17,
      "outputs": [
        {
          "output_type": "execute_result",
          "data": {
            "text/html": [
              "<div>\n",
              "<style scoped>\n",
              "    .dataframe tbody tr th:only-of-type {\n",
              "        vertical-align: middle;\n",
              "    }\n",
              "\n",
              "    .dataframe tbody tr th {\n",
              "        vertical-align: top;\n",
              "    }\n",
              "\n",
              "    .dataframe thead th {\n",
              "        text-align: right;\n",
              "    }\n",
              "</style>\n",
              "<table border=\"1\" class=\"dataframe\">\n",
              "  <thead>\n",
              "    <tr style=\"text-align: right;\">\n",
              "      <th></th>\n",
              "      <th>route_id</th>\n",
              "      <th>service_id</th>\n",
              "      <th>trip_id</th>\n",
              "      <th>trip_headsign</th>\n",
              "      <th>trip_short_name</th>\n",
              "      <th>direction_id</th>\n",
              "      <th>block_id</th>\n",
              "      <th>shape_id</th>\n",
              "      <th>wheelchair_accessible</th>\n",
              "      <th>bikes_allowed</th>\n",
              "      <th>duty</th>\n",
              "      <th>duty_sequence_number</th>\n",
              "      <th>run_sequence_number</th>\n",
              "    </tr>\n",
              "  </thead>\n",
              "  <tbody>\n",
              "    <tr>\n",
              "      <th>21377</th>\n",
              "      <td>298</td>\n",
              "      <td>1</td>\n",
              "      <td>NORMAL_298_Chinchwad Gaon To Katraj_Down-1040_0</td>\n",
              "      <td>Chinchwad Gaon To Katraj</td>\n",
              "      <td>NaN</td>\n",
              "      <td>0</td>\n",
              "      <td>NaN</td>\n",
              "      <td>3313</td>\n",
              "      <td>NaN</td>\n",
              "      <td>NaN</td>\n",
              "      <td>298/1</td>\n",
              "      <td>4</td>\n",
              "      <td>4</td>\n",
              "    </tr>\n",
              "  </tbody>\n",
              "</table>\n",
              "</div>"
            ],
            "text/plain": [
              "      route_id  service_id  ... duty_sequence_number run_sequence_number\n",
              "21377      298           1  ...                    4                   4\n",
              "\n",
              "[1 rows x 13 columns]"
            ]
          },
          "metadata": {
            "tags": []
          },
          "execution_count": 17
        }
      ]
    },
    {
      "cell_type": "markdown",
      "metadata": {
        "id": "TLEOmV-T0W6g",
        "colab_type": "text"
      },
      "source": [
        "We can use this trips shape_id = 3389 and find all the stops locations from the df_shapes, the shapes dataframe. The first 5 stops of this trip are -"
      ]
    },
    {
      "cell_type": "code",
      "metadata": {
        "id": "DEkxB6cJ0NvZ",
        "colab_type": "code",
        "outputId": "e1265f03-3ca3-45ec-84f1-d994207f7d11",
        "colab": {
          "base_uri": "https://localhost:8080/",
          "height": 204
        }
      },
      "source": [
        "shape_of_route = df_shapes.loc[df_shapes[\"shape_id\"] == route_of_trip[\"shape_id\"].values[0]]\n",
        "shape_of_route.head(5)"
      ],
      "execution_count": 18,
      "outputs": [
        {
          "output_type": "execute_result",
          "data": {
            "text/html": [
              "<div>\n",
              "<style scoped>\n",
              "    .dataframe tbody tr th:only-of-type {\n",
              "        vertical-align: middle;\n",
              "    }\n",
              "\n",
              "    .dataframe tbody tr th {\n",
              "        vertical-align: top;\n",
              "    }\n",
              "\n",
              "    .dataframe thead th {\n",
              "        text-align: right;\n",
              "    }\n",
              "</style>\n",
              "<table border=\"1\" class=\"dataframe\">\n",
              "  <thead>\n",
              "    <tr style=\"text-align: right;\">\n",
              "      <th></th>\n",
              "      <th>shape_id</th>\n",
              "      <th>shape_pt_lat</th>\n",
              "      <th>shape_pt_lon</th>\n",
              "      <th>shape_pt_sequence</th>\n",
              "      <th>shape_dist_traveled</th>\n",
              "    </tr>\n",
              "  </thead>\n",
              "  <tbody>\n",
              "    <tr>\n",
              "      <th>104321</th>\n",
              "      <td>3313</td>\n",
              "      <td>18.62751</td>\n",
              "      <td>73.78216</td>\n",
              "      <td>1</td>\n",
              "      <td>NaN</td>\n",
              "    </tr>\n",
              "    <tr>\n",
              "      <th>104322</th>\n",
              "      <td>3313</td>\n",
              "      <td>18.62829</td>\n",
              "      <td>73.78222</td>\n",
              "      <td>2</td>\n",
              "      <td>NaN</td>\n",
              "    </tr>\n",
              "    <tr>\n",
              "      <th>104323</th>\n",
              "      <td>3313</td>\n",
              "      <td>18.62871</td>\n",
              "      <td>73.78249</td>\n",
              "      <td>3</td>\n",
              "      <td>NaN</td>\n",
              "    </tr>\n",
              "    <tr>\n",
              "      <th>104324</th>\n",
              "      <td>3313</td>\n",
              "      <td>18.62905</td>\n",
              "      <td>73.78245</td>\n",
              "      <td>4</td>\n",
              "      <td>NaN</td>\n",
              "    </tr>\n",
              "    <tr>\n",
              "      <th>104325</th>\n",
              "      <td>3313</td>\n",
              "      <td>18.62925</td>\n",
              "      <td>73.78190</td>\n",
              "      <td>5</td>\n",
              "      <td>NaN</td>\n",
              "    </tr>\n",
              "  </tbody>\n",
              "</table>\n",
              "</div>"
            ],
            "text/plain": [
              "        shape_id  shape_pt_lat  ...  shape_pt_sequence  shape_dist_traveled\n",
              "104321      3313      18.62751  ...                  1                  NaN\n",
              "104322      3313      18.62829  ...                  2                  NaN\n",
              "104323      3313      18.62871  ...                  3                  NaN\n",
              "104324      3313      18.62905  ...                  4                  NaN\n",
              "104325      3313      18.62925  ...                  5                  NaN\n",
              "\n",
              "[5 rows x 5 columns]"
            ]
          },
          "metadata": {
            "tags": []
          },
          "execution_count": 18
        }
      ]
    },
    {
      "cell_type": "markdown",
      "metadata": {
        "id": "b3PbfNOUxEaB",
        "colab_type": "text"
      },
      "source": [
        "Let's try to visualize this trip."
      ]
    },
    {
      "cell_type": "code",
      "metadata": {
        "id": "MPAI-tzT1d78",
        "colab_type": "code",
        "outputId": "e59d95ce-6553-4652-ba0c-13d7c141600e",
        "colab": {
          "base_uri": "https://localhost:8080/",
          "height": 1000
        }
      },
      "source": [
        "\"\"\" Initialize the map \"\"\"\n",
        "m = folium.Map(location=[18.5204,73.8567],zoom_start=13)\n",
        "\n",
        "lat_lons = shape_of_route[[\"shape_pt_lat\", \"shape_pt_lon\"]].values.tolist()\n",
        "folium.PolyLine(lat_lons,popup=route_of_trip[\"trip_id\"].values[0], color=\"red\").add_to(m)\n",
        "m\n"
      ],
      "execution_count": 19,
      "outputs": [
        {
          "output_type": "execute_result",
          "data": {
            "text/html": [
              "<div style=\"width:100%;\"><div style=\"position:relative;width:100%;height:0;padding-bottom:60%;\"><iframe src=\"data:text/html;charset=utf-8;base64,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\" style=\"position:absolute;width:100%;height:100%;left:0;top:0;border:none !important;\" allowfullscreen webkitallowfullscreen mozallowfullscreen></iframe></div></div>"
            ],
            "text/plain": [
              "<folium.folium.Map at 0x7f71fb750240>"
            ]
          },
          "metadata": {
            "tags": []
          },
          "execution_count": 19
        }
      ]
    },
    {
      "cell_type": "markdown",
      "metadata": {
        "id": "EG1_TIxH7Vgx",
        "colab_type": "text"
      },
      "source": [
        "Let's find all the stops that are encountered in this trip and overlay it on the route. \n",
        "Let's again select a random route from the routes table and then choose a random trip on that route.\n"
      ]
    },
    {
      "cell_type": "code",
      "metadata": {
        "id": "tL5vNrPc8CTY",
        "colab_type": "code",
        "colab": {}
      },
      "source": [
        ""
      ],
      "execution_count": 0,
      "outputs": []
    },
    {
      "cell_type": "markdown",
      "metadata": {
        "id": "KnS7jk5u8C0R",
        "colab_type": "text"
      },
      "source": [
        "Now, we can obtain the stop times for this particular trip from the df_stop_time data frame. We should sort this table with stop_sequence."
      ]
    },
    {
      "cell_type": "code",
      "metadata": {
        "colab_type": "code",
        "id": "phPcxWYgAMo9",
        "outputId": "149a15e8-671e-455e-f067-bacc1b03987b",
        "colab": {
          "base_uri": "https://localhost:8080/",
          "height": 204
        }
      },
      "source": [
        "stops_on_route = df_stop_time.loc[df_stop_time[\"trip_id\"] == chosen_trip].sort_values(\"stop_sequence\")\n",
        "stops_on_route.head(5)"
      ],
      "execution_count": 20,
      "outputs": [
        {
          "output_type": "execute_result",
          "data": {
            "text/html": [
              "<div>\n",
              "<style scoped>\n",
              "    .dataframe tbody tr th:only-of-type {\n",
              "        vertical-align: middle;\n",
              "    }\n",
              "\n",
              "    .dataframe tbody tr th {\n",
              "        vertical-align: top;\n",
              "    }\n",
              "\n",
              "    .dataframe thead th {\n",
              "        text-align: right;\n",
              "    }\n",
              "</style>\n",
              "<table border=\"1\" class=\"dataframe\">\n",
              "  <thead>\n",
              "    <tr style=\"text-align: right;\">\n",
              "      <th></th>\n",
              "      <th>trip_id</th>\n",
              "      <th>arrival_time</th>\n",
              "      <th>departure_time</th>\n",
              "      <th>stop_id</th>\n",
              "      <th>stop_sequence</th>\n",
              "      <th>stop_headsign</th>\n",
              "      <th>pickup_type</th>\n",
              "      <th>drop_off_type</th>\n",
              "      <th>shape_dist_traveled</th>\n",
              "      <th>timepoint</th>\n",
              "    </tr>\n",
              "  </thead>\n",
              "  <tbody>\n",
              "    <tr>\n",
              "      <th>738025</th>\n",
              "      <td>NORMAL_298_Chinchwad Gaon To Katraj_Down-1040_0</td>\n",
              "      <td>10:40:00</td>\n",
              "      <td>10:40:00</td>\n",
              "      <td>39312</td>\n",
              "      <td>1</td>\n",
              "      <td>NaN</td>\n",
              "      <td>NaN</td>\n",
              "      <td>NaN</td>\n",
              "      <td>NaN</td>\n",
              "      <td>NaN</td>\n",
              "    </tr>\n",
              "    <tr>\n",
              "      <th>738026</th>\n",
              "      <td>NORMAL_298_Chinchwad Gaon To Katraj_Down-1040_0</td>\n",
              "      <td>10:42:12</td>\n",
              "      <td>10:42:43</td>\n",
              "      <td>1034</td>\n",
              "      <td>2</td>\n",
              "      <td>NaN</td>\n",
              "      <td>NaN</td>\n",
              "      <td>NaN</td>\n",
              "      <td>NaN</td>\n",
              "      <td>NaN</td>\n",
              "    </tr>\n",
              "    <tr>\n",
              "      <th>738027</th>\n",
              "      <td>NORMAL_298_Chinchwad Gaon To Katraj_Down-1040_0</td>\n",
              "      <td>10:43:31</td>\n",
              "      <td>10:43:41</td>\n",
              "      <td>1032</td>\n",
              "      <td>3</td>\n",
              "      <td>NaN</td>\n",
              "      <td>NaN</td>\n",
              "      <td>NaN</td>\n",
              "      <td>NaN</td>\n",
              "      <td>NaN</td>\n",
              "    </tr>\n",
              "    <tr>\n",
              "      <th>738028</th>\n",
              "      <td>NORMAL_298_Chinchwad Gaon To Katraj_Down-1040_0</td>\n",
              "      <td>10:44:37</td>\n",
              "      <td>10:44:50</td>\n",
              "      <td>39311</td>\n",
              "      <td>4</td>\n",
              "      <td>NaN</td>\n",
              "      <td>NaN</td>\n",
              "      <td>NaN</td>\n",
              "      <td>NaN</td>\n",
              "      <td>NaN</td>\n",
              "    </tr>\n",
              "    <tr>\n",
              "      <th>738029</th>\n",
              "      <td>NORMAL_298_Chinchwad Gaon To Katraj_Down-1040_0</td>\n",
              "      <td>10:46:00</td>\n",
              "      <td>10:46:28</td>\n",
              "      <td>39336</td>\n",
              "      <td>5</td>\n",
              "      <td>NaN</td>\n",
              "      <td>NaN</td>\n",
              "      <td>NaN</td>\n",
              "      <td>NaN</td>\n",
              "      <td>NaN</td>\n",
              "    </tr>\n",
              "  </tbody>\n",
              "</table>\n",
              "</div>"
            ],
            "text/plain": [
              "                                                trip_id  ... timepoint\n",
              "738025  NORMAL_298_Chinchwad Gaon To Katraj_Down-1040_0  ...       NaN\n",
              "738026  NORMAL_298_Chinchwad Gaon To Katraj_Down-1040_0  ...       NaN\n",
              "738027  NORMAL_298_Chinchwad Gaon To Katraj_Down-1040_0  ...       NaN\n",
              "738028  NORMAL_298_Chinchwad Gaon To Katraj_Down-1040_0  ...       NaN\n",
              "738029  NORMAL_298_Chinchwad Gaon To Katraj_Down-1040_0  ...       NaN\n",
              "\n",
              "[5 rows x 10 columns]"
            ]
          },
          "metadata": {
            "tags": []
          },
          "execution_count": 20
        }
      ]
    },
    {
      "cell_type": "markdown",
      "metadata": {
        "id": "bRGFayBBBFEx",
        "colab_type": "text"
      },
      "source": [
        "For each of these stops that are identified by a stop_id, we need to fetch it's name and location fro the df_stops data frame. Subsequent to which we may add that stop to the map and visualize. We will plot both the trip route and the stops together."
      ]
    },
    {
      "cell_type": "code",
      "metadata": {
        "id": "yx0cEoH82OLh",
        "colab_type": "code",
        "outputId": "b30a45b9-8fcc-42e3-d81b-26d024069e85",
        "colab": {
          "base_uri": "https://localhost:8080/",
          "height": 1000
        }
      },
      "source": [
        "m = folium.Map(location=[18.5204,73.8567],zoom_start=13)\n",
        "\n",
        "lat_lons = shape_of_route[[\"shape_pt_lat\", \"shape_pt_lon\"]].values.tolist()\n",
        "folium.PolyLine(lat_lons,popup=chosen_trip, color=\"red\").add_to(m)\n",
        "\n",
        "for index, row in stops_on_route.iterrows():\n",
        "  stop_info = df_stops.loc[df_stops[\"stop_id\"] == row[\"stop_id\"]]\n",
        "  folium.Marker(stop_info[[\"stop_lat\", \"stop_lon\"]].values.tolist()[0],\n",
        "                popup=stop_info[\"stop_name\"].values[0]).add_to(m) \n",
        "\n",
        "m"
      ],
      "execution_count": 21,
      "outputs": [
        {
          "output_type": "execute_result",
          "data": {
            "text/html": [
              "<div style=\"width:100%;\"><div style=\"position:relative;width:100%;height:0;padding-bottom:60%;\"><iframe src=\"data:text/html;charset=utf-8;base64,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\" style=\"position:absolute;width:100%;height:100%;left:0;top:0;border:none !important;\" allowfullscreen webkitallowfullscreen mozallowfullscreen></iframe></div></div>"
            ],
            "text/plain": [
              "<folium.folium.Map at 0x7f71fb7724e0>"
            ]
          },
          "metadata": {
            "tags": []
          },
          "execution_count": 21
        }
      ]
    },
    {
      "cell_type": "markdown",
      "metadata": {
        "id": "XDiieHACGH8Y",
        "colab_type": "text"
      },
      "source": [
        "## Visualizing Archived Field data"
      ]
    },
    {
      "cell_type": "markdown",
      "metadata": {
        "id": "gODWRpKLGU1O",
        "colab_type": "text"
      },
      "source": [
        "The first set of data corresponds to field data from around 06:00 AM to 03:00 PM on 04-11-2019."
      ]
    },
    {
      "cell_type": "code",
      "metadata": {
        "id": "3CAryHUVGmtG",
        "colab_type": "code",
        "outputId": "f4ce3559-e421-40fe-e7d9-f4defb7de98d",
        "colab": {
          "base_uri": "https://localhost:8080/",
          "height": 289
        }
      },
      "source": [
        "df_field_data.head(5)"
      ],
      "execution_count": 22,
      "outputs": [
        {
          "output_type": "execute_result",
          "data": {
            "text/html": [
              "<div>\n",
              "<style scoped>\n",
              "    .dataframe tbody tr th:only-of-type {\n",
              "        vertical-align: middle;\n",
              "    }\n",
              "\n",
              "    .dataframe tbody tr th {\n",
              "        vertical-align: top;\n",
              "    }\n",
              "\n",
              "    .dataframe thead th {\n",
              "        text-align: right;\n",
              "    }\n",
              "</style>\n",
              "<table border=\"1\" class=\"dataframe\">\n",
              "  <thead>\n",
              "    <tr style=\"text-align: right;\">\n",
              "      <th></th>\n",
              "      <th>STOP_NAME</th>\n",
              "      <th>NAME</th>\n",
              "      <th>LASTUPDATEDATETIME</th>\n",
              "      <th>SCHEDULE_RELATIONSHIP</th>\n",
              "      <th>CURRENT_STOP_SEQUENCE</th>\n",
              "      <th>ROUTE_NAME</th>\n",
              "      <th>CURRENT_STATUS</th>\n",
              "      <th>ROUTE_ID</th>\n",
              "      <th>LATITUDE_STR</th>\n",
              "      <th>STOP_ID</th>\n",
              "      <th>POSITION_UPDATE_TIMESTAMP</th>\n",
              "      <th>TRIP_ID</th>\n",
              "      <th>LONGITUDE_STR</th>\n",
              "    </tr>\n",
              "  </thead>\n",
              "  <tbody>\n",
              "    <tr>\n",
              "      <th>0</th>\n",
              "      <td>None</td>\n",
              "      <td>E014</td>\n",
              "      <td>2019-11-21T11:59:59.716+05:30</td>\n",
              "      <td>SCHEDULED</td>\n",
              "      <td>153009.0</td>\n",
              "      <td>None</td>\n",
              "      <td>IN_TRANSIT_TO</td>\n",
              "      <td>180</td>\n",
              "      <td>18.530954</td>\n",
              "      <td>153009.0</td>\n",
              "      <td>2019-11-21 06:29:30</td>\n",
              "      <td>NORMAL_180_Bhekrainagar To Na Ta Wadi_Down-1145_0</td>\n",
              "      <td>73.847534</td>\n",
              "    </tr>\n",
              "    <tr>\n",
              "      <th>1</th>\n",
              "      <td>None</td>\n",
              "      <td>E001</td>\n",
              "      <td>2019-11-21T11:59:59.566+05:30</td>\n",
              "      <td>SCHEDULED</td>\n",
              "      <td>152113.0</td>\n",
              "      <td>None</td>\n",
              "      <td>IN_TRANSIT_TO</td>\n",
              "      <td>322</td>\n",
              "      <td>18.627222</td>\n",
              "      <td>152113.0</td>\n",
              "      <td>2019-11-21 06:29:22</td>\n",
              "      <td>NORMAL_322_Akurdi Railway Station To Ma Na Pa ...</td>\n",
              "      <td>73.782550</td>\n",
              "    </tr>\n",
              "    <tr>\n",
              "      <th>2</th>\n",
              "      <td>None</td>\n",
              "      <td>E015</td>\n",
              "      <td>2019-11-21T11:59:59.439+05:30</td>\n",
              "      <td>SCHEDULED</td>\n",
              "      <td>40003.0</td>\n",
              "      <td>None</td>\n",
              "      <td>IN_TRANSIT_TO</td>\n",
              "      <td>180</td>\n",
              "      <td>18.529034</td>\n",
              "      <td>40003.0</td>\n",
              "      <td>2019-11-21 06:29:28</td>\n",
              "      <td>NORMAL_180_Na Ta Wadi To Bhekrainagar_Up-1730_0</td>\n",
              "      <td>73.852516</td>\n",
              "    </tr>\n",
              "    <tr>\n",
              "      <th>3</th>\n",
              "      <td>None</td>\n",
              "      <td>E006</td>\n",
              "      <td>2019-11-21T11:59:59.381+05:30</td>\n",
              "      <td>SCHEDULED</td>\n",
              "      <td>40474.0</td>\n",
              "      <td>None</td>\n",
              "      <td>IN_TRANSIT_TO</td>\n",
              "      <td>372</td>\n",
              "      <td>18.593365</td>\n",
              "      <td>40474.0</td>\n",
              "      <td>2019-11-21 06:29:25</td>\n",
              "      <td>NORMAL_372_Hinjawadi Maan Phase 3 To Bhakti Sh...</td>\n",
              "      <td>73.736100</td>\n",
              "    </tr>\n",
              "    <tr>\n",
              "      <th>4</th>\n",
              "      <td>None</td>\n",
              "      <td>680</td>\n",
              "      <td>2019-11-21T11:59:59.314+05:30</td>\n",
              "      <td>SCHEDULED</td>\n",
              "      <td>30417.0</td>\n",
              "      <td>None</td>\n",
              "      <td>IN_TRANSIT_TO</td>\n",
              "      <td>58</td>\n",
              "      <td>18.518957</td>\n",
              "      <td>30417.0</td>\n",
              "      <td>2019-11-21 06:29:29</td>\n",
              "      <td>NORMAL_58_Shanipar To Gokhalenagar_Up-1135_0</td>\n",
              "      <td>73.831550</td>\n",
              "    </tr>\n",
              "  </tbody>\n",
              "</table>\n",
              "</div>"
            ],
            "text/plain": [
              "  STOP_NAME  ... LONGITUDE_STR\n",
              "0      None  ...     73.847534\n",
              "1      None  ...     73.782550\n",
              "2      None  ...     73.852516\n",
              "3      None  ...     73.736100\n",
              "4      None  ...     73.831550\n",
              "\n",
              "[5 rows x 13 columns]"
            ]
          },
          "metadata": {
            "tags": []
          },
          "execution_count": 22
        }
      ]
    },
    {
      "cell_type": "code",
      "metadata": {
        "colab_type": "code",
        "id": "bOVYkEoVBu_w",
        "colab": {}
      },
      "source": [
        ""
      ],
      "execution_count": 0,
      "outputs": []
    },
    {
      "cell_type": "markdown",
      "metadata": {
        "id": "8ZrgNWleGozP",
        "colab_type": "text"
      },
      "source": [
        "You may ignore the NAME field in this data frame. What is of importance is the TRIP_ID, LONGITUDE_STR, LATITUDE_STR, ROUTE_ID, POSITION_UPDATE_TIMESTAMP."
      ]
    },
    {
      "cell_type": "markdown",
      "metadata": {
        "id": "YelGIooRwKlx",
        "colab_type": "text"
      },
      "source": [
        "Let's follow the same procedure as before and plot the path traversed by the bus over the previous static route."
      ]
    },
    {
      "cell_type": "code",
      "metadata": {
        "id": "RzVrOQPIBHyL",
        "colab_type": "code",
        "outputId": "d622c4d2-cc7e-428f-b3af-5f152fc7ae25",
        "colab": {
          "base_uri": "https://localhost:8080/",
          "height": 374
        }
      },
      "source": [
        "trip_on_field = df_field_data.loc[df_field_data[\"TRIP_ID\"] == chosen_trip]\n",
        "trip_on_field.head()\n"
      ],
      "execution_count": 23,
      "outputs": [
        {
          "output_type": "execute_result",
          "data": {
            "text/html": [
              "<div>\n",
              "<style scoped>\n",
              "    .dataframe tbody tr th:only-of-type {\n",
              "        vertical-align: middle;\n",
              "    }\n",
              "\n",
              "    .dataframe tbody tr th {\n",
              "        vertical-align: top;\n",
              "    }\n",
              "\n",
              "    .dataframe thead th {\n",
              "        text-align: right;\n",
              "    }\n",
              "</style>\n",
              "<table border=\"1\" class=\"dataframe\">\n",
              "  <thead>\n",
              "    <tr style=\"text-align: right;\">\n",
              "      <th></th>\n",
              "      <th>STOP_NAME</th>\n",
              "      <th>NAME</th>\n",
              "      <th>LASTUPDATEDATETIME</th>\n",
              "      <th>SCHEDULE_RELATIONSHIP</th>\n",
              "      <th>CURRENT_STOP_SEQUENCE</th>\n",
              "      <th>ROUTE_NAME</th>\n",
              "      <th>CURRENT_STATUS</th>\n",
              "      <th>ROUTE_ID</th>\n",
              "      <th>LATITUDE_STR</th>\n",
              "      <th>STOP_ID</th>\n",
              "      <th>POSITION_UPDATE_TIMESTAMP</th>\n",
              "      <th>TRIP_ID</th>\n",
              "      <th>LONGITUDE_STR</th>\n",
              "    </tr>\n",
              "  </thead>\n",
              "  <tbody>\n",
              "    <tr>\n",
              "      <th>41</th>\n",
              "      <td>None</td>\n",
              "      <td>R495</td>\n",
              "      <td>2019-11-21T11:58:58.251+05:30</td>\n",
              "      <td>SCHEDULED</td>\n",
              "      <td>40204.0</td>\n",
              "      <td>None</td>\n",
              "      <td>STOPPED_AT</td>\n",
              "      <td>298</td>\n",
              "      <td>18.447329</td>\n",
              "      <td>40204.0</td>\n",
              "      <td>2019-11-21 06:28:19</td>\n",
              "      <td>NORMAL_298_Chinchwad Gaon To Katraj_Down-1040_0</td>\n",
              "      <td>73.85885</td>\n",
              "    </tr>\n",
              "    <tr>\n",
              "      <th>72</th>\n",
              "      <td>None</td>\n",
              "      <td>R495</td>\n",
              "      <td>2019-11-21T11:57:56.761+05:30</td>\n",
              "      <td>SCHEDULED</td>\n",
              "      <td>40204.0</td>\n",
              "      <td>None</td>\n",
              "      <td>IN_TRANSIT_TO</td>\n",
              "      <td>298</td>\n",
              "      <td>18.448462</td>\n",
              "      <td>40204.0</td>\n",
              "      <td>2019-11-21 06:27:16</td>\n",
              "      <td>NORMAL_298_Chinchwad Gaon To Katraj_Down-1040_0</td>\n",
              "      <td>73.85840</td>\n",
              "    </tr>\n",
              "    <tr>\n",
              "      <th>96</th>\n",
              "      <td>None</td>\n",
              "      <td>R495</td>\n",
              "      <td>2019-11-21T11:56:36.614+05:30</td>\n",
              "      <td>SCHEDULED</td>\n",
              "      <td>40204.0</td>\n",
              "      <td>None</td>\n",
              "      <td>IN_TRANSIT_TO</td>\n",
              "      <td>298</td>\n",
              "      <td>18.448597</td>\n",
              "      <td>40204.0</td>\n",
              "      <td>2019-11-21 06:26:23</td>\n",
              "      <td>NORMAL_298_Chinchwad Gaon To Katraj_Down-1040_0</td>\n",
              "      <td>73.85837</td>\n",
              "    </tr>\n",
              "    <tr>\n",
              "      <th>116</th>\n",
              "      <td>None</td>\n",
              "      <td>R495</td>\n",
              "      <td>2019-11-21T11:55:49.630+05:30</td>\n",
              "      <td>SCHEDULED</td>\n",
              "      <td>40204.0</td>\n",
              "      <td>None</td>\n",
              "      <td>IN_TRANSIT_TO</td>\n",
              "      <td>298</td>\n",
              "      <td>18.448608</td>\n",
              "      <td>40204.0</td>\n",
              "      <td>2019-11-21 06:25:22</td>\n",
              "      <td>NORMAL_298_Chinchwad Gaon To Katraj_Down-1040_0</td>\n",
              "      <td>73.85837</td>\n",
              "    </tr>\n",
              "    <tr>\n",
              "      <th>120</th>\n",
              "      <td>None</td>\n",
              "      <td>R495</td>\n",
              "      <td>2019-11-21T11:54:56.277+05:30</td>\n",
              "      <td>SCHEDULED</td>\n",
              "      <td>40815.0</td>\n",
              "      <td>None</td>\n",
              "      <td>IN_TRANSIT_TO</td>\n",
              "      <td>298</td>\n",
              "      <td>18.449770</td>\n",
              "      <td>40815.0</td>\n",
              "      <td>2019-11-21 06:24:23</td>\n",
              "      <td>NORMAL_298_Chinchwad Gaon To Katraj_Down-1040_0</td>\n",
              "      <td>73.85812</td>\n",
              "    </tr>\n",
              "  </tbody>\n",
              "</table>\n",
              "</div>"
            ],
            "text/plain": [
              "    STOP_NAME  ... LONGITUDE_STR\n",
              "41       None  ...      73.85885\n",
              "72       None  ...      73.85840\n",
              "96       None  ...      73.85837\n",
              "116      None  ...      73.85837\n",
              "120      None  ...      73.85812\n",
              "\n",
              "[5 rows x 13 columns]"
            ]
          },
          "metadata": {
            "tags": []
          },
          "execution_count": 23
        }
      ]
    },
    {
      "cell_type": "code",
      "metadata": {
        "id": "uEB4HURJxYNi",
        "colab_type": "code",
        "outputId": "76521dcf-00cb-4ba5-9930-5d6ade5018e4",
        "colab": {
          "base_uri": "https://localhost:8080/",
          "height": 1000
        }
      },
      "source": [
        "lat_lons_field = trip_on_field[[\"LATITUDE_STR\", \"LONGITUDE_STR\"]].values.tolist()\n",
        "stop_id_field = trip_on_field[\"STOP_ID\"].values.tolist()\n",
        "\n",
        "\"\"\" Initialize the map \"\"\"\n",
        "m = folium.Map(location=[18.5204,73.8567],zoom_start=13)\n",
        "\n",
        "lat_lons = shape_of_route[[\"shape_pt_lat\", \"shape_pt_lon\"]].values.tolist()\n",
        "folium.PolyLine(lat_lons,popup=chosen_trip, color=\"red\").add_to(m)\n",
        "\n",
        "for index, row in stops_on_route.iterrows():\n",
        "  stop_info = df_stops.loc[df_stops[\"stop_id\"] == row[\"stop_id\"]]\n",
        "  folium.Marker(stop_info[[\"stop_lat\", \"stop_lon\"]].values.tolist()[0],\n",
        "                popup=\"Static StopID = \" + stop_info[\"stop_code\"].values[0]).add_to(m) \n",
        "\n",
        "\"\"\" Plot field data as green marker\"\"\"\n",
        "for lls, stop_id in zip(lat_lons_field, stop_id_field):\n",
        "  folium.Marker(lls, popup=\"Live StopID = \" + str(stop_id), icon=folium.Icon(color='green')).add_to(m)\n",
        "\n",
        "m"
      ],
      "execution_count": 24,
      "outputs": [
        {
          "output_type": "execute_result",
          "data": {
            "text/html": [
              "<div style=\"width:100%;\"><div style=\"position:relative;width:100%;height:0;padding-bottom:60%;\"><iframe src=\"data:text/html;charset=utf-8;base64,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\" style=\"position:absolute;width:100%;height:100%;left:0;top:0;border:none !important;\" allowfullscreen webkitallowfullscreen mozallowfullscreen></iframe></div></div>"
            ],
            "text/plain": [
              "<folium.folium.Map at 0x7f71fa3e0048>"
            ]
          },
          "metadata": {
            "tags": []
          },
          "execution_count": 24
        }
      ]
    },
    {
      "cell_type": "markdown",
      "metadata": {
        "id": "2p6xOHk9YpsB",
        "colab_type": "text"
      },
      "source": [
        "You can change the routes and see the plot for different routes.\n",
        "\n"
      ]
    },
    {
      "cell_type": "markdown",
      "metadata": {
        "id": "4S2hZEvg7ibL",
        "colab_type": "text"
      },
      "source": [
        "## Downloading larger datasets\n",
        "Because of the large size of the data availabe, we have restricted PUDX \"during\" queries to only work when the time is less than one day. If data for a longer period is required, you will be needing the download API.\n",
        "We will however need the resourceServerGroup id instead of the id for this. To find this, you can go to pudx.catalogue.iudx.org.in and search for ITMS with tags. Once the item is shown in the list view, you can click \"details\" and obtain the group id.\n",
        "The resourceServerGroup id for itms is \"urn:iudx-catalogue-pune:pudx-resource-server/pune-itms\""
      ]
    },
    {
      "cell_type": "markdown",
      "metadata": {
        "id": "dbc-gYt1AHmD",
        "colab_type": "text"
      },
      "source": [
        "This will now give us a Google Drive link which we can use to download files based on weeks of the year. "
      ]
    },
    {
      "cell_type": "code",
      "metadata": {
        "id": "qQG39Xo27xz-",
        "colab_type": "code",
        "colab": {
          "base_uri": "https://localhost:8080/",
          "height": 53
        },
        "outputId": "32feea77-8f88-4d0d-fac5-2936ad0e8dd0"
      },
      "source": [
        "from pyIUDX.rs import rs\n",
        "\n",
        "rs = rs.ResourceServer(\"https://pudx.resourceserver.iudx.org.in/resource-server/pscdcl/v1\")\n",
        "\n",
        "groupId = \"urn:iudx-catalogue-pune:pudx-resource-server/pune-itms\"\n",
        "\n",
        "data = rs.downloadData(groupId)\n",
        "data\n"
      ],
      "execution_count": 53,
      "outputs": [
        {
          "output_type": "execute_result",
          "data": {
            "text/plain": [
              "{'download_URL': 'https://drive.google.com/open?id=1V9bp8D5M9nhqITjMvLo-1IoDltWsJlKs',\n",
              " 'resourceServerGroup': 'urn:iudx-catalogue-pune:pudx-resource-server/pune-itms'}"
            ]
          },
          "metadata": {
            "tags": []
          },
          "execution_count": 53
        }
      ]
    },
    {
      "cell_type": "markdown",
      "metadata": {
        "id": "k2VsleyZDlYj",
        "colab_type": "text"
      },
      "source": [
        "On opening that download_URL, you will find different files corresponding to different weeks of the year for ITMS. You can then use python pyDrive module to download that file."
      ]
    },
    {
      "cell_type": "code",
      "metadata": {
        "id": "PzvxEFsdDOwX",
        "colab_type": "code",
        "colab": {}
      },
      "source": [
        "from pydrive.auth import GoogleAuth\n",
        "from pydrive.drive import GoogleDrive\n",
        "from pydrive.files import GoogleDriveFile\n",
        "from google.colab import auth\n",
        "from oauth2client.client import GoogleCredentials"
      ],
      "execution_count": 0,
      "outputs": []
    },
    {
      "cell_type": "markdown",
      "metadata": {
        "id": "VE3F25ZbGlVq",
        "colab_type": "text"
      },
      "source": [
        "Authenticate with Google Drive."
      ]
    },
    {
      "cell_type": "code",
      "metadata": {
        "id": "z4mZ6utFF9xj",
        "colab_type": "code",
        "colab": {}
      },
      "source": [
        "auth.authenticate_user()\n",
        "gauth = GoogleAuth()\n",
        "gauth.credentials = GoogleCredentials.get_application_default()\n",
        "drive = GoogleDrive(gauth)\n",
        "files = GoogleDriveFile(auth=gauth)"
      ],
      "execution_count": 0,
      "outputs": []
    },
    {
      "cell_type": "code",
      "metadata": {
        "id": "mWWTRFtTGRLd",
        "colab_type": "code",
        "colab": {
          "base_uri": "https://localhost:8080/",
          "height": 53
        },
        "outputId": "394a4369-00f8-4c52-a361-7fba681ff9a4"
      },
      "source": [
        "\n",
        "folder_id = data[\"download_URL\"].split(\"=\")[-1]\n",
        "file_list = drive.ListFile({'q': \"'%s' in parents and trashed=false\" % folder_id}).GetList()\n",
        "\n",
        "for f in file_list:\n",
        "  print(f[\"title\"])"
      ],
      "execution_count": 63,
      "outputs": [
        {
          "output_type": "stream",
          "text": [
            "pune-itms-Week_40.json\n",
            "pune-itms-Week_39.json\n"
          ],
          "name": "stdout"
        }
      ]
    },
    {
      "cell_type": "markdown",
      "metadata": {
        "id": "-DfpaqEYJIKU",
        "colab_type": "text"
      },
      "source": [
        "Currently only data for week 39 and 40 are made available. Let's download week 40's data."
      ]
    },
    {
      "cell_type": "code",
      "metadata": {
        "id": "PharbTxAHWK5",
        "colab_type": "code",
        "colab": {}
      },
      "source": [
        "fl = file_list[0]\n",
        "fl.GetContentFile(fl[\"title\"])\n"
      ],
      "execution_count": 0,
      "outputs": []
    },
    {
      "cell_type": "markdown",
      "metadata": {
        "id": "JWph1X8Qst2p",
        "colab_type": "text"
      },
      "source": [
        "If we now see the directory, we will have the chosen file.json file, which we can read and proceed with our analysis as we had done before."
      ]
    },
    {
      "cell_type": "code",
      "metadata": {
        "id": "HTc2Yc0rKd0Z",
        "colab_type": "code",
        "colab": {
          "base_uri": "https://localhost:8080/",
          "height": 35
        },
        "outputId": "3cf507e2-16a7-4aef-b102-5b35acabc14f"
      },
      "source": [
        "!ls"
      ],
      "execution_count": 67,
      "outputs": [
        {
          "output_type": "stream",
          "text": [
            "adc.json  pune_ITMS_GTFS.zip  pune-itms-Week_40.json  sample_data  targetdir\n"
          ],
          "name": "stdout"
        }
      ]
    },
    {
      "cell_type": "code",
      "metadata": {
        "id": "H6ucA84Ls2eL",
        "colab_type": "code",
        "colab": {
          "base_uri": "https://localhost:8080/",
          "height": 287
        },
        "outputId": "7688d4d9-a97f-431c-ad02-56a4b4f140e8"
      },
      "source": [
        "import json \n",
        "\n",
        "with open(fl[\"title\"], \"r\") as f:\n",
        "  df_json = json.load(f)\n",
        "df_json[0:1]"
      ],
      "execution_count": 71,
      "outputs": [
        {
          "output_type": "execute_result",
          "data": {
            "text/plain": [
              "[{'CURRENT_STATUS': 'IN_TRANSIT_TO',\n",
              "  'CURRENT_STOP_SEQUENCE': 46.0,\n",
              "  'LASTUPDATEDATETIME': '2019-09-30T18:30:03.000000+05:30',\n",
              "  'LATITUDE_STR': 18.519592,\n",
              "  'LONGITUDE_STR': 73.86258,\n",
              "  'NAME': '1551',\n",
              "  'POSITION_UPDATE_TIMESTAMP': '2019-09-30T12:59:59Z',\n",
              "  'ROUTE_ID': '82',\n",
              "  'SCHEDULE_RELATIONSHIP': 'SCHEDULED',\n",
              "  'STOP_ID': 40411.0,\n",
              "  'StartTime_IST': 1569888003999,\n",
              "  'TRIP_ID': 'NORMAL_82_NDA 10 No Gate Bus Stand To MaNaPa To Kondhwagate_Round-1600_0',\n",
              "  '__geoJsonLocation': {'coordinates': [73.86258, 18.519592], 'type': 'Point'},\n",
              "  '__resource-group': 'pune-itms',\n",
              "  '__resource-id': 'pudx-resource-server/pune-itms/pune-itms-live'}]"
            ]
          },
          "metadata": {
            "tags": []
          },
          "execution_count": 71
        }
      ]
    },
    {
      "cell_type": "code",
      "metadata": {
        "id": "ei52a-dxtMdT",
        "colab_type": "code",
        "colab": {
          "base_uri": "https://localhost:8080/",
          "height": 332
        },
        "outputId": "721bfa26-7818-4e9a-8761-ecf435a3e21c"
      },
      "source": [
        "\"\"\" Convert it to a dataframe and convert string values of fields to their proper types\"\"\"\n",
        "\n",
        "df_field_data = pd.DataFrame(df_json)\n",
        "df_field_data[\"POSITION_UPDATE_TIMESTAMP\"] = pd.to_datetime(df_field_data[\"POSITION_UPDATE_TIMESTAMP\"])\n",
        "df_field_data[\"LATITUDE_STR\"] = pd.to_numeric(df_field_data[\"LATITUDE_STR\"])\n",
        "df_field_data[\"LONGITUDE_STR\"] = pd.to_numeric(df_field_data[\"LONGITUDE_STR\"])\n",
        "\"\"\" Other fields which need to be converted \"\"\"\n",
        "df_field_data[\"STOP_ID\"] = pd.to_numeric(df_field_data[\"STOP_ID\"])\n",
        "df_field_data[\"CURRENT_STOP_SEQUENCE\"] = pd.to_numeric(df_field_data[\"STOP_ID\"])\n",
        "\n",
        "\n",
        "df_field_data.head(3)"
      ],
      "execution_count": 76,
      "outputs": [
        {
          "output_type": "execute_result",
          "data": {
            "text/html": [
              "<div>\n",
              "<style scoped>\n",
              "    .dataframe tbody tr th:only-of-type {\n",
              "        vertical-align: middle;\n",
              "    }\n",
              "\n",
              "    .dataframe tbody tr th {\n",
              "        vertical-align: top;\n",
              "    }\n",
              "\n",
              "    .dataframe thead th {\n",
              "        text-align: right;\n",
              "    }\n",
              "</style>\n",
              "<table border=\"1\" class=\"dataframe\">\n",
              "  <thead>\n",
              "    <tr style=\"text-align: right;\">\n",
              "      <th></th>\n",
              "      <th>__resource-group</th>\n",
              "      <th>StartTime_IST</th>\n",
              "      <th>LASTUPDATEDATETIME</th>\n",
              "      <th>LONGITUDE_STR</th>\n",
              "      <th>SCHEDULE_RELATIONSHIP</th>\n",
              "      <th>CURRENT_STOP_SEQUENCE</th>\n",
              "      <th>CURRENT_STATUS</th>\n",
              "      <th>ROUTE_ID</th>\n",
              "      <th>__geoJsonLocation</th>\n",
              "      <th>LATITUDE_STR</th>\n",
              "      <th>POSITION_UPDATE_TIMESTAMP</th>\n",
              "      <th>STOP_ID</th>\n",
              "      <th>TRIP_ID</th>\n",
              "      <th>__resource-id</th>\n",
              "      <th>NAME</th>\n",
              "    </tr>\n",
              "  </thead>\n",
              "  <tbody>\n",
              "    <tr>\n",
              "      <th>0</th>\n",
              "      <td>pune-itms</td>\n",
              "      <td>1569888003999</td>\n",
              "      <td>2019-09-30T18:30:03.000000+05:30</td>\n",
              "      <td>73.86258</td>\n",
              "      <td>SCHEDULED</td>\n",
              "      <td>40411.0</td>\n",
              "      <td>IN_TRANSIT_TO</td>\n",
              "      <td>82</td>\n",
              "      <td>{'type': 'Point', 'coordinates': [73.86258, 18...</td>\n",
              "      <td>18.519592</td>\n",
              "      <td>2019-09-30 12:59:59+00:00</td>\n",
              "      <td>40411.0</td>\n",
              "      <td>NORMAL_82_NDA 10 No Gate Bus Stand To MaNaPa T...</td>\n",
              "      <td>pudx-resource-server/pune-itms/pune-itms-live</td>\n",
              "      <td>1551</td>\n",
              "    </tr>\n",
              "    <tr>\n",
              "      <th>1</th>\n",
              "      <td>pune-itms</td>\n",
              "      <td>1569888003999</td>\n",
              "      <td>2019-09-30T18:30:03.000000+05:30</td>\n",
              "      <td>73.87764</td>\n",
              "      <td>SCHEDULED</td>\n",
              "      <td>40819.0</td>\n",
              "      <td>IN_TRANSIT_TO</td>\n",
              "      <td>49</td>\n",
              "      <td>{'type': 'Point', 'coordinates': [73.87764, 18...</td>\n",
              "      <td>18.526888</td>\n",
              "      <td>2019-09-30 12:59:59+00:00</td>\n",
              "      <td>40819.0</td>\n",
              "      <td>NORMAL_49_Pune Station To Khanapur_Up-0715_0</td>\n",
              "      <td>pudx-resource-server/pune-itms/pune-itms-live</td>\n",
              "      <td>1685</td>\n",
              "    </tr>\n",
              "    <tr>\n",
              "      <th>2</th>\n",
              "      <td>pune-itms</td>\n",
              "      <td>1569888005000</td>\n",
              "      <td>2019-09-30T18:30:05.000000+05:30</td>\n",
              "      <td>73.78259</td>\n",
              "      <td>SCHEDULED</td>\n",
              "      <td>150031.0</td>\n",
              "      <td>IN_TRANSIT_TO</td>\n",
              "      <td>87</td>\n",
              "      <td>{'type': 'Point', 'coordinates': [73.78259, 18...</td>\n",
              "      <td>18.565727</td>\n",
              "      <td>2019-09-30 12:59:59+00:00</td>\n",
              "      <td>150031.0</td>\n",
              "      <td>NORMAL_87_Deccan Gymkhana To Sutarwadi Pashan ...</td>\n",
              "      <td>pudx-resource-server/pune-itms/pune-itms-live</td>\n",
              "      <td>CNG549</td>\n",
              "    </tr>\n",
              "  </tbody>\n",
              "</table>\n",
              "</div>"
            ],
            "text/plain": [
              "  __resource-group  ...    NAME\n",
              "0        pune-itms  ...    1551\n",
              "1        pune-itms  ...    1685\n",
              "2        pune-itms  ...  CNG549\n",
              "\n",
              "[3 rows x 15 columns]"
            ]
          },
          "metadata": {
            "tags": []
          },
          "execution_count": 76
        }
      ]
    },
    {
      "cell_type": "markdown",
      "metadata": {
        "id": "0cr4b3lrt5ca",
        "colab_type": "text"
      },
      "source": [
        "Remember, this dataframe has data for multiple days of the week. If you were to plot the trips of this data, you will have overlaps corresponding to the same trip taken the next day."
      ]
    },
    {
      "cell_type": "code",
      "metadata": {
        "id": "A21RCvbksOd6",
        "colab_type": "code",
        "colab": {}
      },
      "source": [
        ""
      ],
      "execution_count": 0,
      "outputs": []
    }
  ]
}